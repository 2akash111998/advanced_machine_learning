{
  "nbformat": 4,
  "nbformat_minor": 0,
  "metadata": {
    "colab": {
      "name": "Copy of digits_classification.ipynb",
      "version": "0.3.2",
      "provenance": [],
      "collapsed_sections": []
    },
    "language_info": {
      "codemirror_mode": {
        "name": "ipython",
        "version": 3
      },
      "file_extension": ".py",
      "mimetype": "text/x-python",
      "name": "python",
      "nbconvert_exporter": "python",
      "pygments_lexer": "ipython3",
      "version": "3.6.5"
    },
    "kernelspec": {
      "name": "python3",
      "display_name": "Python 3"
    }
  },
  "cells": [
    {
      "metadata": {
        "slideshow": {
          "slide_type": "slide"
        },
        "id": "lQWbSO-qk1U9",
        "colab_type": "text"
      },
      "cell_type": "markdown",
      "source": [
        "# MNIST digits classification with TensorFlow"
      ]
    },
    {
      "metadata": {
        "id": "udn4D5KHk1U-",
        "colab_type": "text"
      },
      "cell_type": "markdown",
      "source": [
        "<img src=\"https://github.com/hse-aml/intro-to-dl/blob/master/week2/v2/images/mnist_sample.png?raw=1\" style=\"width:30%\">"
      ]
    },
    {
      "metadata": {
        "id": "_-nFhRVBk8qx",
        "colab_type": "code",
        "outputId": "2b54568d-0a3a-4f27-b2c1-ab992a9f673e",
        "colab": {
          "base_uri": "https://localhost:8080/",
          "height": 311
        }
      },
      "cell_type": "code",
      "source": [
        "! shred -u setup_google_colab.py\n",
        "! wget https://raw.githubusercontent.com/hse-aml/intro-to-dl/master/setup_google_colab.py -O setup_google_colab.py\n",
        "import setup_google_colab\n",
        "# please, uncomment the week you're working on\n",
        "# setup_google_colab.setup_week1()\n",
        "setup_google_colab.setup_week2()\n",
        "# setup_google_colab.setup_week3()\n",
        "# setup_google_colab.setup_week4()\n",
        "# setup_google_colab.setup_week5()\n",
        "# setup_google_colab.setup_week6()\n",
        "\n",
        "# If you're using the old version of the course (check a path of notebook on Coursera, you'll see v1 or v2),\n",
        "# use setup_week2_old()."
      ],
      "execution_count": 47,
      "outputs": [
        {
          "output_type": "stream",
          "text": [
            "--2019-04-19 14:34:02--  https://raw.githubusercontent.com/hse-aml/intro-to-dl/master/setup_google_colab.py\n",
            "Resolving raw.githubusercontent.com (raw.githubusercontent.com)... 151.101.0.133, 151.101.64.133, 151.101.128.133, ...\n",
            "Connecting to raw.githubusercontent.com (raw.githubusercontent.com)|151.101.0.133|:443... connected.\n",
            "HTTP request sent, awaiting response... 200 OK\n",
            "Length: 3792 (3.7K) [text/plain]\n",
            "Saving to: ‘setup_google_colab.py’\n",
            "\n",
            "\rsetup_google_colab.   0%[                    ]       0  --.-KB/s               \rsetup_google_colab. 100%[===================>]   3.70K  --.-KB/s    in 0s      \n",
            "\n",
            "2019-04-19 14:34:02 (77.1 MB/s) - ‘setup_google_colab.py’ saved [3792/3792]\n",
            "\n",
            "**************************************************\n",
            "inception_v3_weights_tf_dim_ordering_tf_kernels_notop.h5\n",
            "**************************************************\n",
            "cifar-10-batches-py.tar.gz\n",
            "**************************************************\n",
            "mnist.npz\n"
          ],
          "name": "stdout"
        }
      ]
    },
    {
      "metadata": {
        "id": "MUYcDWujk1U_",
        "colab_type": "code",
        "outputId": "bc8d90e3-b282-464d-9129-68e200db14c2",
        "colab": {
          "base_uri": "https://localhost:8080/",
          "height": 35
        }
      },
      "cell_type": "code",
      "source": [
        "import numpy as np\n",
        "from sklearn.metrics import accuracy_score\n",
        "from matplotlib import pyplot as plt\n",
        "%matplotlib inline\n",
        "import tensorflow as tf\n",
        "print(\"We're using TF\", tf.__version__)\n",
        "\n",
        "import sys\n",
        "sys.path.append(\"../..\")\n",
        "import grading\n",
        "\n",
        "import matplotlib_utils\n",
        "from importlib import reload\n",
        "reload(matplotlib_utils)\n",
        "\n",
        "import grading_utils\n",
        "reload(grading_utils)\n",
        "\n",
        "import keras_utils\n",
        "from keras_utils import reset_tf_session"
      ],
      "execution_count": 48,
      "outputs": [
        {
          "output_type": "stream",
          "text": [
            "We're using TF 1.13.1\n"
          ],
          "name": "stdout"
        }
      ]
    },
    {
      "metadata": {
        "id": "4slX9-xVk1VH",
        "colab_type": "text"
      },
      "cell_type": "markdown",
      "source": [
        "# Fill in your Coursera token and email\n",
        "To successfully submit your answers to our grader, please fill in your Coursera submission token and email"
      ]
    },
    {
      "metadata": {
        "id": "LQQrtTvXk1VI",
        "colab_type": "code",
        "colab": {}
      },
      "cell_type": "code",
      "source": [
        "grader = grading.Grader(assignment_key=\"XtD7ho3TEeiHQBLWejjYAA\", \n",
        "                        all_parts=[\"9XaAS\", \"vmogZ\", \"RMv95\", \"i8bgs\", \"rE763\"])"
      ],
      "execution_count": 0,
      "outputs": []
    },
    {
      "metadata": {
        "id": "q6aR7hTqk1VK",
        "colab_type": "code",
        "colab": {}
      },
      "cell_type": "code",
      "source": [
        "# token expires every 30 min\n",
        "COURSERA_TOKEN = \"Ai1rlSp8vC8QlZGt\"\n",
        "COURSERA_EMAIL = \"akashttlove@outlook.com\""
      ],
      "execution_count": 0,
      "outputs": []
    },
    {
      "metadata": {
        "id": "EB-q4xWgk1VN",
        "colab_type": "text"
      },
      "cell_type": "markdown",
      "source": [
        "# Look at the data\n",
        "\n",
        "In this task we have 50000 28x28 images of digits from 0 to 9.\n",
        "We will train a classifier on this data."
      ]
    },
    {
      "metadata": {
        "id": "65Y2UKYCk1VO",
        "colab_type": "code",
        "colab": {}
      },
      "cell_type": "code",
      "source": [
        "import preprocessed_mnist\n",
        "X_train, y_train, X_val, y_val, X_test, y_test = preprocessed_mnist.load_dataset()"
      ],
      "execution_count": 0,
      "outputs": []
    },
    {
      "metadata": {
        "id": "ZFFthcgGk1VR",
        "colab_type": "code",
        "outputId": "03315e8f-6b4f-4b54-e7b4-4d6b49623c79",
        "colab": {
          "base_uri": "https://localhost:8080/",
          "height": 694
        }
      },
      "cell_type": "code",
      "source": [
        "# X contains rgb values divided by 255\n",
        "print(\"X_train [shape %s] sample patch:\\n\" % (str(X_train.shape)), X_train[1, 15:20, 5:10])\n",
        "print(\"A closeup of a sample patch:\")\n",
        "plt.imshow(X_train[1, 15:20, 5:10], cmap=\"Greys\")\n",
        "plt.show()\n",
        "print(\"And the whole sample:\")\n",
        "plt.imshow(X_train[1], cmap=\"Greys\")\n",
        "plt.show()\n",
        "print(\"y_train [shape %s] 10 samples:\\n\" % (str(y_train.shape)), y_train[:10])"
      ],
      "execution_count": 53,
      "outputs": [
        {
          "output_type": "stream",
          "text": [
            "X_train [shape (50000, 28, 28)] sample patch:\n",
            " [[0.         0.29803922 0.96470588 0.98823529 0.43921569]\n",
            " [0.         0.33333333 0.98823529 0.90196078 0.09803922]\n",
            " [0.         0.33333333 0.98823529 0.8745098  0.        ]\n",
            " [0.         0.33333333 0.98823529 0.56862745 0.        ]\n",
            " [0.         0.3372549  0.99215686 0.88235294 0.        ]]\n",
            "A closeup of a sample patch:\n"
          ],
          "name": "stdout"
        },
        {
          "output_type": "display_data",
          "data": {
            "image/png": "[encoded data removed]",
            "text/plain": [
              "<Figure size 432x288 with 1 Axes>"
            ]
          },
          "metadata": {
            "tags": []
          }
        },
        {
          "output_type": "stream",
          "text": [
            "And the whole sample:\n"
          ],
          "name": "stdout"
        },
        {
          "output_type": "display_data",
          "data": {
            "image/png": "[encoded data removed]",
            "text/plain": [
              "<Figure size 432x288 with 1 Axes>"
            ]
          },
          "metadata": {
            "tags": []
          }
        },
        {
          "output_type": "stream",
          "text": [
            "y_train [shape (50000,)] 10 samples:\n",
            " [5 0 4 1 9 2 1 3 1 4]\n"
          ],
          "name": "stdout"
        }
      ]
    },
    {
      "metadata": {
        "id": "OHJ1B_9-k1VU",
        "colab_type": "text"
      },
      "cell_type": "markdown",
      "source": [
        "# Linear model\n",
        "\n",
        "Your task is to train a linear classifier $\\vec{x} \\rightarrow y$ with SGD using TensorFlow.\n",
        "\n",
        "You will need to calculate a logit (a linear transformation) $z_k$ for each class: \n",
        "$$z_k = \\vec{x} \\cdot \\vec{w_k} + b_k \\quad k = 0..9$$\n",
        "\n",
        "And transform logits $z_k$ to valid probabilities $p_k$ with softmax: \n",
        "$$p_k = \\frac{e^{z_k}}{\\sum_{i=0}^{9}{e^{z_i}}} \\quad k = 0..9$$\n",
        "\n",
        "We will use a cross-entropy loss to train our multi-class classifier:\n",
        "$$\\text{cross-entropy}(y, p) = -\\sum_{k=0}^{9}{\\log(p_k)[y = k]}$$ \n",
        "\n",
        "where \n",
        "$$\n",
        "[x]=\\begin{cases}\n",
        "       1, \\quad \\text{if $x$ is true} \\\\\n",
        "       0, \\quad \\text{otherwise}\n",
        "    \\end{cases}\n",
        "$$\n",
        "\n",
        "Cross-entropy minimization pushes $p_k$ close to 1 when $y = k$, which is what we want.\n",
        "\n",
        "Here's the plan:\n",
        "* Flatten the images (28x28 -> 784) with `X_train.reshape((X_train.shape[0], -1))` to simplify our linear model implementation\n",
        "* Use a matrix placeholder for flattened `X_train`\n",
        "* Convert `y_train` to one-hot encoded vectors that are needed for cross-entropy\n",
        "* Use a shared variable `W` for all weights (a column $\\vec{w_k}$ per class) and `b` for all biases.\n",
        "* Aim for ~0.93 validation accuracy"
      ]
    },
    {
      "metadata": {
        "id": "6pb5BoAek1VV",
        "colab_type": "code",
        "outputId": "a58298e1-61de-4cd1-f7f8-f6d90e40a71f",
        "colab": {
          "base_uri": "https://localhost:8080/",
          "height": 52
        }
      },
      "cell_type": "code",
      "source": [
        "X_train_flat = X_train.reshape((X_train.shape[0], -1))\n",
        "print(X_train_flat.shape)\n",
        "\n",
        "X_val_flat = X_val.reshape((X_val.shape[0], -1))\n",
        "print(X_val_flat.shape)"
      ],
      "execution_count": 54,
      "outputs": [
        {
          "output_type": "stream",
          "text": [
            "(50000, 784)\n",
            "(10000, 784)\n"
          ],
          "name": "stdout"
        }
      ]
    },
    {
      "metadata": {
        "id": "-23ZzReak1VX",
        "colab_type": "code",
        "outputId": "0191a4ea-da62-42ee-bb93-68cb53ae769b",
        "colab": {
          "base_uri": "https://localhost:8080/",
          "height": 86
        }
      },
      "cell_type": "code",
      "source": [
        "import keras\n",
        "\n",
        "y_train_oh = keras.utils.to_categorical(y_train, 10)\n",
        "y_val_oh = keras.utils.to_categorical(y_val, 10)\n",
        "\n",
        "print(y_train_oh.shape)\n",
        "print(y_train_oh[:3], y_train[:3])"
      ],
      "execution_count": 55,
      "outputs": [
        {
          "output_type": "stream",
          "text": [
            "(50000, 10)\n",
            "[[0. 0. 0. 0. 0. 1. 0. 0. 0. 0.]\n",
            " [1. 0. 0. 0. 0. 0. 0. 0. 0. 0.]\n",
            " [0. 0. 0. 0. 1. 0. 0. 0. 0. 0.]] [5 0 4]\n"
          ],
          "name": "stdout"
        }
      ]
    },
    {
      "metadata": {
        "id": "N1g0SzSek1Vb",
        "colab_type": "code",
        "colab": {}
      },
      "cell_type": "code",
      "source": [
        "# run this again if you remake your graph\n",
        "s = reset_tf_session()"
      ],
      "execution_count": 0,
      "outputs": []
    },
    {
      "metadata": {
        "id": "9otCMs_ck1Vf",
        "colab_type": "code",
        "colab": {}
      },
      "cell_type": "code",
      "source": [
        "# Model parameters: W and b\n",
        "W =  tf.get_variable(name = 'w1', shape=(784,10)) #with shape[0] = 784\n",
        "b = tf.get_variable(name = 'b1', shape=(1,10))"
      ],
      "execution_count": 0,
      "outputs": []
    },
    {
      "metadata": {
        "id": "4--nHZw6k1Vl",
        "colab_type": "code",
        "colab": {}
      },
      "cell_type": "code",
      "source": [
        "# Placeholders for the input data\n",
        "input_X = tf.placeholder('float32', shape=(None,784),name = 'X')\n",
        "input_y = tf.placeholder('float32',shape=(None,10), name='y')"
      ],
      "execution_count": 0,
      "outputs": []
    },
    {
      "metadata": {
        "id": "GJ290K27k1Vn",
        "colab_type": "code",
        "colab": {}
      },
      "cell_type": "code",
      "source": [
        "# Compute predictions\n",
        "logits =  tf.matmul(input_X,W) + b### logits for input_X, resulting shape should be [input_X.shape[0], 10]\n",
        "probas = tf.nn.softmax(logits)### apply tf.nn.softmax to logits\n",
        "classes = tf.argmax(probas,1)### apply tf.argmax to find a class index with highest probability# Loss should be a scalar number: average loss over all the objects with tf.reduce_mean().\n",
        "# Use tf.nn.softmax_cross_entropy_with_logits on top of one-hot encoded input_y and logits.\n",
        "# It is identical to calculating cross-entropy on top of probas, but is more numerically friendly (read the docs).\n",
        "loss = tf.nn.softmax_cross_entropy_with_logits(logits = logits, labels = input_y)\n",
        "\n",
        "# Use a default tf.train.AdamOptimizer to get an SGD step\n",
        "step = tf.train.AdamOptimizer().minimize(loss)\n"
      ],
      "execution_count": 0,
      "outputs": []
    },
    {
      "metadata": {
        "scrolled": false,
        "id": "tQkCQLw3k1Vp",
        "colab_type": "code",
        "outputId": "0792c901-8fea-43a0-a1c3-794bda171088",
        "colab": {
          "base_uri": "https://localhost:8080/",
          "height": 309
        }
      },
      "cell_type": "code",
      "source": [
        "s.run(tf.global_variables_initializer())\n",
        "\n",
        "BATCH_SIZE = 512\n",
        "EPOCHS = 40\n",
        "\n",
        "# for logging the progress right here in Jupyter (for those who don't have TensorBoard)\n",
        "simpleTrainingCurves = matplotlib_utils.SimpleTrainingCurves(\"cross-entropy\", \"accuracy\")\n",
        "\n",
        "for epoch in range(EPOCHS):  # we finish an epoch when we've looked at all training samples\n",
        "    \n",
        "    batch_losses = []\n",
        "    for batch_start in range(0, X_train_flat.shape[0], BATCH_SIZE):  # data is already shuffled\n",
        "        _, batch_loss = s.run([step, loss], {input_X: X_train_flat[batch_start:batch_start+BATCH_SIZE], \n",
        "                                             input_y: y_train_oh[batch_start:batch_start+BATCH_SIZE]})\n",
        "        # collect batch losses, this is almost free as we need a forward pass for backprop anyway\n",
        "        batch_losses.append(batch_loss)\n",
        "\n",
        "    train_loss = np.mean(batch_losses[:-1])\n",
        "    val_loss = s.run(loss, {input_X: X_val_flat, input_y: y_val_oh})  # this part is usually small\n",
        "    train_accuracy = accuracy_score(y_train, s.run(classes, {input_X: X_train_flat}))  # this is slow and usually skipped\n",
        "    valid_accuracy = accuracy_score(y_val, s.run(classes, {input_X: X_val_flat}))  \n",
        "    simpleTrainingCurves.add(train_loss, np.mean(val_loss), train_accuracy, valid_accuracy)"
      ],
      "execution_count": 75,
      "outputs": [
        {
          "output_type": "display_data",
          "data": {
            "text/html": [
              "<img src=\"data:image/jpeg;base64,/9j/4AAQSkZJRgABAQEASABIAAD/2wBDAAIBAQEBAQIBAQECAgICAgQDAgICAgUEBAMEBgUGBgYFBgYGBwkIBgcJBwYGCAsICQoKCgoKBggLDAsKDAkKCgr/2wBDAQICAgICAgUDAwUKBwYHCgoKCgoKCgoKCgoKCgoKCgoKCgoKCgoKCgoKCgoKCgoKCgoKCgoKCgoKCgoKCgoKCgr/wAARCAEgA2ADASIAAhEBAxEB/8QAHwAAAQUBAQEBAQEAAAAAAAAAAAECAwQFBgcICQoL/8QAtRAAAgEDAwIEAwUFBAQAAAF9AQIDAAQRBRIhMUEGE1FhByJxFDKBkaEII0KxwRVS0fAkM2JyggkKFhcYGRolJicoKSo0NTY3ODk6Q0RFRkdISUpTVFVWV1hZWmNkZWZnaGlqc3R1dnd4eXqDhIWGh4iJipKTlJWWl5iZmqKjpKWmp6ipqrKztLW2t7i5usLDxMXGx8jJytLT1NXW19jZ2uHi4%2BTl5ufo6erx8vP09fb3%2BPn6/8QAHwEAAwEBAQEBAQEBAQAAAAAAAAECAwQFBgcICQoL/8QAtREAAgECBAQDBAcFBAQAAQJ3AAECAxEEBSExBhJBUQdhcRMiMoEIFEKRobHBCSMzUvAVYnLRChYkNOEl8RcYGRomJygpKjU2Nzg5OkNERUZHSElKU1RVVldYWVpjZGVmZ2hpanN0dXZ3eHl6goOEhYaHiImKkpOUlZaXmJmaoqOkpaanqKmqsrO0tba3uLm6wsPExcbHyMnK0tPU1dbX2Nna4uPk5ebn6Onq8vP09fb3%2BPn6/9oADAMBAAIRAxEAPwD9/KKKKACiiigAooooAKKKKACiiigAooooAKKKKACiiigAooooAKKKKACiiigAooooAKKKKACiiigAooooAKKKKACiiigAooooAKKKKACiiigAooooAKKKKACiiigAooooAKKKKACiiigAooooAKKKKACiiigAooooAKKKKACiiigAooooAKKKKACiiigAooooAKKKKACiiigAooooAKKKKACiiigAooooAKKKKACiiigAooooAKKKKACiiigAooooAKKKKACiiigAooooAKKKKACiiigAooooAKKKKACiiigAooooAKKKKACiiigAooooAKKKKACiiigAooooAKKKKACiiigAooooAKKKKACvPfjt%2B1J8FP2b5NGsfil4g1Maj4ilnTQNB8OeF9R1zVNR8lVed4bHTbee5kjiVkMkixlI96biu5c%2BhV4N%2B0P8D/j5/wANJ%2BDv2tv2bLLwfrWueH/B2seFNX8KeOdcutLtLywv7mwuxcQXtraXj288U2noCpt3WVJSCUKK1ABpf/BTL9izWLvxPb2nxXv0h8FWsk/jLUrvwXrEFjoIS0iu9l5dy2iwWsrQzRskMjrJIWKorMrKL2n/APBQ/wDZK1HwBrXxFTx/q9vB4f1ay0vVdE1DwNrNrrkV5ebfscC6PNaLqEr3AYGER27eaAxTcFYjy2b9gH4y%2BMf2a/jn8NfGHinwppHin4o/FS38daHc6U1xeWFpeW0OiywQ3IkihkkiN3pRRwoyYHGDuJVaPi79i/8AaV%2BLmr/Ef45fG34S/CjWvFnjWx8KaPp/gKy%2BI2s2Wm6fY6Hcaldw3qa7b6al5DqDXOqTOksVoPJSKNFZiWcgHsviH9vv9mzwv4a8OeI9XvvG3meK0v5NE8P2vwm8SXGuSRWUscV3NJpMWntf28MLzQq8s0CIpmiy37xM%2Bmaz8RPBHhv4e3XxX8T%2BJbbSvDljo76rf6vqrfZYbSySIzPPMZdvlKsYLNvxtAOcYNfGHin9hH9s/WPgX4X8Nay3hfxV470a58RHRfGV/wDHbxNpGr%2BCLW%2BuUktLO11q1sJLzXIYkjhEy3qw/aTbReYCFGPUfjR/wTotfj1%2Bzb4n%2BHHxD%2BOfjW78d%2BMPhfH4Z17xS3jbWho818tpDE2oJoS3y2FuzzQLK3kRRSEPIBIrSM5AOkg/4KUfsZf8K58V/FbWPite6Jo3giysr7xQ/ifwdq%2Bk3NlZXkxhtb37LeWsVxJaSyK6pcxxtC3luQ%2BEYjj/AI3f8FZP2d/hn8ENU%2BMfgPRfFXiqbQfiD4X8L674Y/4QXXbHU7A6zqVrax3T2cmnNdeV5Fw88DeT5d48aW8MhknjB8r1T/gmJ8ZPHfwq8faR4i8DeG9G8Y%2BI9D0fR7DxDqv7RfjPxut3aWusW%2BoTRyf27AfsEZ8likUSzHe%2BGkxknv8A9qH9gz40/GD4g/F/4g%2BBfEPheOTxfB8LbzwlZ6tfXMSvf%2BE/EdzrUsN40dvJ5ENwGt4VljEzrl2MfyKrgHqFh/wUE/Zb1H4m2XwZh8T%2BJo/Fd5oun6xLoF38N9egudO0%2B9adILu/SSyU6dDut5VeS68pYiFEhQum6j4a/wCCmH7FPi3wZ4s%2BIWkfGC4TR/Bfgi68Zaxe6h4S1W0Fx4et0Z5tWsVntUbVLNVQ4nsxPGxZArEugbB0P9kP4ofEP4mfG74g/G9fD2gxfGj4O%2BHfCF1Y%2BE9duNRl0u4tE11Ltlnns7XzYwNViMT7FZikm6OPA3fN37Y37Kn7UOj/ALDHxS%2BJv7TF34AtIfhD%2BxT8QfBHhePwFqF5cNrzXukWxn1G6W5toBYqE0i3CWcbXAVppCZ22oKAPrPw9/wUl/Yy8TaHrHiPT/i1dQWehppU1/JqnhLVbJmtNSu1s7HUIUuLVGubCWdgovoQ9qoDO0qorMPT9E%2BLvw88R/FLX/gvofiH7T4k8LaXp%2Boa/YR2k22zgvmuBa7pinlF3%2ByzHy1cyKoRmVVkjLfJOofsz%2BIPFegeKfjb/wAFIvF/wz8J%2BBbf9nu5%2BHUlx4f8QTLay6beyQyXmq3k17BbpYOTBbCG2QzCAmT/AEiQsuOw/wCCPngP4u2f7I9r8f8A9pDUDf8AxJ%2BL15H4n8V6g9nJbtJCLSCy01fKl%2BeH/iX2lpI0TYKSzTZAYtkA%2BqqKKKACiiigAooooAKKKKACiiigAooooAKKKKACiiigAooooAKKKKACiiigAooooAKKKKACiiigAooooAKKKKACiiigAooooAK8R0j/AIKMfse6ld69Z6n8Urzw83hzw5c%2BINQk8a%2BEdV0GObSbd0jnv7WTUrWBb63R5IlaW2MqAyxjOXXPtN7FczWcsNndCCZ4mWKYx7/LYjhtp64POO9fmJq//BHL9uX4v6t4X1z43fHHQ31vw14P1Cz1DxRqHxW8TeJx4h1v7ZpV9a6idLvoobLSbaS50xfPsLIBRHJtWWQKgUA%2B2X/b/wD2YbX4aN8WNY8QeKtK0ttcg0axs9c%2BGWv2GqanfzIZIYLLTbixS9v2kQM6/Z4ZAyo7AkIxHReA/wBqz4H/ABH1%2By8J%2BHPEOqQ6vf8AhSfxJDpGteFdS0y7TTYbv7JLLLDeW8UkDrP8hhkVZe%2BzbzXk3xO%2BDn7bvxib4e/G3XPBvwq0P4h/Cjx1NrHh/wAM2vjjUr/Rdcs7jSbvTLmO4vn0qGaxmKXskkbpa3AjMQU%2BYJGxV%2BJPwG/bg1/4y%2BHf2mvA%2BjfCu08WX3ww1XwX4x0LUvFepSWGkLcX8N1a39lcJpwk1AxCN1kt5YrQSlxiWLHIB3Gk/wDBRv8AZA8R694F8LeFfiNqus6n8SfBuleLfBunaJ4H1m9nvND1F9lrqMiQWjNa2%2B7HmSTiNbcMpm8oMCdj4a/tufs3fFf4jXPwn8M%2BL9Ws9ft9LudThsvE/gzVtEW/sbeRI57uyl1G1gjv4I3liDy2zSIvmISQGUnyj9hT9hL4sfsw6/8ADjWfHniDw1dnwd%2Byl4R%2BGN%2B%2BkXM8rNq2lvM1zNF5kEe61bemxmKu235o0wK8a%2BGn/BKv9sbxP8UfC/ib9qb4w2eqRaf4A8V%2BF/GniaD4v%2BJNavPEUur2KW39p2umX0Men6EcqWNpaKUXKgTOI1WgD6l8J/8ABRf9kfxrosfirQfHeuf2Hcarpen6f4lvfh/rdrpWoy6lex2VlJaX09mlteQS3M0UYuIJHhBlQs4VgT6X4W%2BLvw88a/EDxT8LvC/iH7XrnguSzj8T2iWkwWxkuoPtEEZlZBG7tCVkKIzMiyRlgokTd8w%2BOPAnxF8K/wDBPbxp8CP%2BChnif4VeCPAWg/DSLQLb4meHfFt2GadI0trXUntLqzgTTZlmFvJDBHcXTGcoiOTtDdr/AMEr/h98WPDf7ImlfFX9oqwS3%2BJ3xYvpfHXxEhW3aL7Pf36xmG02N8yfZbGOys9pyQLXBoA%2BjaKKKACiiigAooooAKKKKACiiigAooooAKKKKACiiigAooooAKKKKACiiigAooooAKKKKACiiigAooooAKKKKACiiigAooooAKKKKACvF/j14/8A2i/%2BGi/AvwI%2BAvjPwV4fTX/BXiXXtX1Pxf4Lu9aJOnXeh28MMMdvqVj5Yb%2B1JWZmZ8%2BWgAXkn2ivCviLrSWX/BSr4Q6LIoxe/BP4hsjZ53R6t4NOPyZj%2BFJtLcuEJVHaPZv7tWX/APhB/wDgoX/0dB8Gf/DD6t/81FH/AAg//BQv/o6D4M/%2BGH1b/wCaivZqKZB4z/wg/wDwUL/6Og%2BDP/hh9W/%2Baij/AIQf/goX/wBHQfBn/wAMPq3/AM1FezUUAeM/8IP/AMFC/wDo6D4M/wDhh9W/%2Baij/hB/%2BChf/R0HwZ/8MPq3/wA1FezUUAeM/wDCD/8ABQv/AKOg%2BDP/AIYfVv8A5qKP%2BEH/AOChf/R0HwZ/8MPq3/zUV7NRQB4z/wAIP/wUL/6Og%2BDP/hh9W/8Amoo/4Qf/AIKF/wDR0HwZ/wDDD6t/81FezUUAeM/8IP8A8FC/%2BjoPgz/4YfVv/moo/wCEH/4KF/8AR0HwZ/8ADD6t/wDNRXs1FAHjP/CD/wDBQv8A6Og%2BDP8A4YfVv/moo/4Qf/goX/0dB8Gf/DD6t/8ANRXs1FAHjP8Awg//AAUL/wCjoPgz/wCGH1b/AOaij/hB/wDgoX/0dB8Gf/DD6t/81Feo%2BMxv0MQMTsmvrSKUA43I9zGrL9CpIPsa8x1/9qD/AIJ%2B%2BFNdvfC3in9oj4Oabqem3clrqOnah4u0qGe1njYpJFJG8oZHVgVZWAIIIIyKyq16FBJ1JqN%2B7S/No7sDleZ5pOUMFh6lVxV2qcJ1GltdqEJtK%2Bl2kr6XvoM/4Qf/AIKF/wDR0HwZ/wDDD6t/81FH/CD/APBQv/o6D4M/%2BGH1b/5qKr/8Nf8A/BOD/o6L4I/%2BFto//wAdq3oH7UH/AAT98V67ZeFvC37RHwc1LU9Su47XTtO0/wAW6VNPdTyMEjijjSUs7sxCqqgkkgAZNZLHYFuyqw/8Dj/8kehPhXimnBznl%2BISSbbdCukktW23QSSSTbbaSSbbSTYz/hB/%2BChf/R0HwZ/8MPq3/wA1FH/CD/8ABQv/AKOg%2BDP/AIYfVv8A5qK0f2q/iX8Kv2UP2b/Gv7SXin4XLq2n%2BCvD1xqt1pukaIJri5WJc7EWONiMnGXI2ouXcqqsw5/Sf2s/2P8AXPG8vw10vw1r8viG28OLr2oaL/wprXVutPsHju3iluo208NatL9huVijmCSTPGI41d3RW6jwS/8A8IP/AMFC/wDo6D4M/wDhh9W/%2Baij/hB/%2BChf/R0HwZ/8MPq3/wA1FUtM/ac/Zg8TSeHf%2BEV0ywQ6z46m8K3th4l8Jajo%2Bo2N9Ho11q5hayubATJKbW3WZVuFt43hk8xZWYxRzN%2BCn7X/AOwv%2B0Fo03iP4beJtL/s6Lw/p%2Bupf%2BIvCN3osFzpd8zLa3sEmo20C3NvI6lBLEXUPhCQxAoAv/8ACD/8FC/%2BjoPgz/4YfVv/AJqKP%2BEH/wCChf8A0dB8Gf8Aww%2Brf/NRTf2jfiI3wr1/wf8ADT4QfADw14u8Z%2BNr28TStL1rVV0ixgtbO1a4ubme6SzunQD9zEqrC5aS4jzsQO6zeBfiFYfG/wDZa8P/ALQnwE%2BBOg6lqnijQrHUdK8M%2BJ71NMjhacx%2BbDc3UVtcmIwBpNxjil3NEQoO4GgCP/hB/wDgoX/0dB8Gf/DD6t/81FH/AAg//BQv/o6D4M/%2BGH1b/wCaivEfHX/BQ/QfA/gvwrf658BvhToWta18VNc8Ca1P42%2BJ0ek%2BHdPvdMgupZJYdVOlytcpI1t5KK1tC/msyMFaMg9z8Rv2sfBHhD9ofw3%2BzJo3gD4SjxJf6JpOp64PFfxEh0iIrfzzww2ukA2Esmr3R%2ByXT%2BXstxsEJZ0MygAHa/8ACD/8FC/%2BjoPgz/4YfVv/AJqKP%2BEH/wCChf8A0dB8Gf8Aww%2Brf/NRXG/Db9qzwT8ZP2hvFXwZ%2BGXw3%2BF15aeFr3U9PlhvfH1vB4kvbqxLQzyRaMtk5WyF4r2v2mS4Q7o3YRFNhefwV8Zfiz4p8T%2BPfgvd/shfDyH4keDNI0DVYdKs/H73GiXdpqs95Egl1E6Qk1vPELC5kkhFpJ8jW5Rm835ADq/%2BEH/4KF/9HQfBn/ww%2Brf/ADUUf8IP/wAFC/8Ao6D4M/8Ahh9W/wDmorhNL/aN%2BIHjD4C6j8X/AAD%2ByV8PJrzwprfiLTPHVprnxCFjp1lJo9xLBO9lfLpUv2xHaGTa0sNsE2OspjZStZXh/wDbk8FeOf2m/BvwC8J/CD4Z6Vb%2BLPhh4V8bQH4gePE0bXbi31mfVENpYaUunT/bri2j0wvIvnxDdcIhKj5yAeof8IP/AMFC/wDo6D4M/wDhh9W/%2Baij/hB/%2BChf/R0HwZ/8MPq3/wA1FcX4h/bC%2BHumftV65%2Bzp4b/ZuGv6ZoHw08ReI7jxLpEcUkt5qmjS6QLnRbW08rM8vl61aHzhIFEpaDaXSTy%2BW/Zx/wCCiPwf%2BNfwu8cfFDWvhF4Jls/B%2Bn6NNa3Pw28Uw%2BJbPVr7UxItvocdwbS126usywRSWZU7GvrT94fNIUA9d/4Qf/goX/0dB8Gf/DD6t/8ANRR/wg//AAUL/wCjoPgz/wCGH1b/AOaivnf4i/8ABUbwr8Nv2fPhx8Z/FH7MvgLRL7x14U1zWbnTfFfj%2BPTrGK40yaGJtHsb3%2BzZP7R1S4MrNbWvlQ%2BcsEx3LswfX/G37Vfw/wDDf7T3wp/Zt0T9nqC%2Bk%2BIF81p4n1W6ENsfCU8mharq9nbzRCJxcXE0ekXatEroYV2SMSJIlkAOp/4Qf/goX/0dB8Gf/DD6t/8ANRR/wg//AAUL/wCjoPgz/wCGH1b/AOaivn7wL/wVO%2BGHipPHN1dfs3eGZR4T8MX2qLpHhzxTBqGrWF5Dqcem2uja5avZwjRNQu55l8mFpJ1Kw3JLgQ5f1Twr8ZfjF420zxT4S0D9kD4bRfEDwL4pj0vxbomp/EOSHR4rWXTob%2BC9ttRXRnmnV0uI49j2cRWSOYE7UV5ADrf%2BEH/4KF/9HQfBn/ww%2Brf/ADUVQ8D%2BOP2rPB37Vnhz4I/G74j/AA98TaN4m%2BHviHXIZvCvw8vtFurS602%2B0S3RWe41e%2BSWN01SUlQiMGiQhsZB2/g14/8AAXx//ZW8O/tI%2BEvh/FoaeKvBcGvadbyW8Qns/OthMgEkYw2CRh1O1xhhwRVPxx/ykL%2BF/wD2Rnx5/wCnbwhQB7NRRRQAUUUUAFFFFABXzj8JvFX7d/x10fXvHfhf43/CTQNLt/iF4q0PS9Kv/g/ql/cRWul69f6ZC0twniKBZZHjs1dmWKNdzkBQAK%2Bjq8Z/YP8A%2BSIa5/2Wb4j/APqa63QAf8IP/wAFC/8Ao6D4M/8Ahh9W/wDmoo/4Qf8A4KF/9HQfBn/ww%2Brf/NRXs1FAHjP/AAg//BQv/o6D4M/%2BGH1b/wCaij/hB/8AgoX/ANHQfBn/AMMPq3/zUV7NRQB4z/wg/wDwUL/6Og%2BDP/hh9W/%2Baij/AIQf/goX/wBHQfBn/wAMPq3/AM1FezUUAeM/8IP/AMFC/wDo6D4M/wDhh9W/%2Baij/hB/%2BChf/R0HwZ/8MPq3/wA1FezUUAeM/wDCD/8ABQv/AKOg%2BDP/AIYfVv8A5qKP%2BEH/AOChf/R0HwZ/8MPq3/zUV7NRQB4z/wAIP/wUL/6Og%2BDP/hh9W/8Amoo/4Qf/AIKF/wDR0HwZ/wDDD6t/81FezUUAeM/8IP8A8FC/%2BjoPgz/4YfVv/moo/wCEH/4KF/8AR0HwZ/8ADD6t/wDNRXs1FAHjP/CD/wDBQv8A6Og%2BDP8A4YfVv/moo/4Qf/goX/0dB8Gf/DD6t/8ANRXs1FAHjP8Awg//AAUL/wCjoPgz/wCGH1b/AOaij/hB/wDgoX/0dB8Gf/DD6t/81FezUUAeM/8ACD/8FC/%2BjoPgz/4YfVv/AJqKP%2BEH/wCChf8A0dB8Gf8Aww%2Brf/NRXs1FAHjP/CD/APBQv/o6D4M/%2BGH1b/5qKP8AhB/%2BChf/AEdB8Gf/AAw%2Brf8AzUV7NRQB4z/wg/8AwUL/AOjoPgz/AOGH1b/5qKP%2BEH/4KF/9HQfBn/ww%2Brf/ADUV7NRQB4z/AMIP/wAFC/8Ao6D4M/8Ahh9W/wDmoo/4Qf8A4KF/9HQfBn/ww%2Brf/NRXs1FAHjP/AAg//BQv/o6D4M/%2BGH1b/wCaij/hB/8AgoX/ANHQfBn/AMMPq3/zUV7NRQB4z/wg/wDwUL/6Og%2BDP/hh9W/%2Baij/AIQf/goX/wBHQfBn/wAMPq3/AM1Feyu6RoZJGCqoyWJwAK5q6%2BNPwcsb1tNvfiz4ZhuEOHt5det1dfqpfIqZThD4ml6tL82ROpTp/HJL1aX5tHn/APwg/wDwUL/6Og%2BDP/hh9W/%2Baij/AIQf/goX/wBHQfBn/wAMPq3/AM1FdxrXx/8AgP4ctRfeIfjZ4RsICMia98SWsSY%2BrSAVwXiH/gpD%2BwJ4YZl1X9sb4csyfeWz8WWtyR7YhdjmsKmNwdL46sV6yivzkc9XMMBQ/iVoR9ZxX5yRL/wg/wDwUL/6Og%2BDP/hh9W/%2Baij/AIQf/goX/wBHQfBn/wAMPq3/AM1FcRq3/BZf/gmXorMt5%2B1fpD7ev2TSb%2B4/Lyrds1z95/wXb/4JeWrFYf2irm4x3h8Gavz/AN9WorklnmSw%2BLE0/wDwOP8AmcX%2BsOQ83L9ap37KcW/wbPV/%2BEH/AOChf/R0HwZ/8MPq3/zUUf8ACD/8FC/%2BjoPgz/4YfVv/AJqK8K13/g4F/wCCd%2BnsI/DeueMfEUh6Q6L4RmDE%2BmLgxVj3f/Bez4Xakm7wB%2BxX8c9YBHyM/hSGNW%2Bhjnk4/CsJcSZDF2%2BsRfpeX/pMWd9LF08RFOhGdRP%2BSlWmvvjRkv8AyY%2Bjf%2BEH/wCChf8A0dB8Gf8Aww%2Brf/NRVv8AZW%2BI3xp8Yax8UPAnx01/wvq2qeAfiFFodnqvhPw1c6Tb3VrLoOj6mrPb3F7eMsiyajKhYS7SsaHapzn5F1//AILbftRamDD8K/8Agkr8Ur8sP3dxqMN6oB/65w2D7v8AvsV7B/wSW%2BL/AMV/jz4d%2BNfxY%2BN/wju/AnifVvjOv9peFL60nglsRF4W8PQxbkuFWQb4o45PmAyJARwRW2CzrL8xrulh220r/BNK2nWUUuux3vCZlTo%2B2q4WrTpvRSnTlCLfZc7Tb0b0hbR6rZ/WtFFFeqYhRRRQAUUUUAFFFFABRRRQAUUUUAFFFFABRRRQAUUUUAFFFFAHNfGKT4mw/DLWJ/g5rWg6d4litd%2BmXvibSpr6xiKsC5lggnt5JR5YfCrLH8xXLYzXFfAT4o/GD9ob9iP4f/Gvw/c%2BGtH8a%2BOPhxomuNLeaVcXGl2d5eWUFxKfsy3CTSRKZH2x%2BerEBQZOrV3vxM8Hap8QfAep%2BC9G%2BIOs%2BFbjUbfyU8QeH4bOS8swSCzRLe29xbkkAqfMhcYY4AOCPJfCX7DU/gz9ktP2PNJ/a3%2BK66Da%2BCE8K6Vr8M%2BiW2sabYxokUTwXFtpcarMkCCFZShO0lzmXEoANb9jT43fEX42%2BFPF8nxFuvD%2BqS%2BFfH194d0/xb4T02ez0zxHFbRQGW6t4J57h4hFcyXNk6%2BfKDNYSlWwQo8e%2BLfxy%2BFfib/gsh8A/hz4I%2BJ3h/WNa0j4cfEiw8TaPpWswXF1pMjv4bmjjuoo3L27MLZyokClvLbGcGvof9nL4Gx/s5fC2x%2BEen/EfWvEmmaSqQaK2tabpNodOs0ijiis4Y9KsrOBYUCZXMZfLtlyAqr81/tn6wdH/wCCxn7FpZsR3egfE62kP%2B9YaOVH/fSrXLjJ%2Bzoc3nH8ZRX6nu8N4b63mnsu9Ou//AaFaX/tp9n0UUV1HhBRRRQAUUUUAFFFFABRRRQAUUUUAFFFFAGX4w/5BMP/AGFbH/0rirhdf/Ym/Yy8V67e%2BKfFP7I/wx1LU9Su5LrUdR1DwDp0091PIxeSWSR4SzuzEszMSSSSTk13XjD/AJBMP/YVsf8A0rir528f/wDBZT/gm58L/Het/DTx1%2B0d9h1vw7q9zpmsWX/CIaxL9nureVopY98doyPtdGG5WKnGQSOa4cdWy2jCLxkoJN6c/La/lzJ627FR4kqcN/vYY14bn0uqsqXNbW141Kd7b2bdt7dT0T/hgf8AYV/6Ms%2BEv/hudM/%2BMVb0D9ib9jLwprtl4p8Lfsj/AAx03U9Nu47rTtR0/wAA6dDPazxsHjljkSEMjqwDKykEEAg5FeM/8Pzf%2BCWX/R0X/lk65/8AIVa/gH/gsp/wTc%2BKHjvRfhp4F/aO%2B3a34i1e20zR7L/hENYi%2B0XVxKsUUe%2BS0VE3O6jczBRnJIHNefDG8MOaUZ0b3VrezvfpbTe9rFf8RNxNf9088nLm0t9bqu99LW%2BsO972tZ3vazvZ%2By/tNfBOy/aT/Z08d/s96hr8ukw%2BN/COoaG%2BqwQCV7P7VbvCJghIDlC4baSA23GRnNeX%2BIv2JviF4/0H4uy%2BPfj7axeJPi38O9N8M32teE/Cs2mw6bJZjUQtzFFJfTyMji/AaIzA4ibEg8wbPXPjr8YfDn7Pvwe8R/G/xlpmo3WjeFdKl1PWU0qFJJ4rOIbp5grugZY4w8rDOdsbbQzYU%2BX/ABn/AOCiHwd%2BC2l%2BLtc1Tw3qeoWPgrxbZ%2BG9Y1EeINB0q0e/uNNi1EJDcavqVnDJsgngDAPv3zBUV9khT3jM86%2BCP/BKaL4ReIofE0PxJ8IWG34uDxy%2Bg%2BAvhfHoGkQMPCN54cNnbWqXkphDfahdtKzyMzoykfOHT0L4G/sUeIfgFH4Eu/CPxcsrm/8AA3wN0r4dW8uoeF3aG7%2BxyQMb5o0u1Zd6wsBCHOwuD5jbdrcpa/8ABR3SfFPj6O/8E3FpceAtc8GfCTXfCOqxaFJPeXX/AAmHiDVtNKzI93CscYis7MqwBeBpJnZLnCwVY8G/8FGj8TP2ivB/gjwh8H/E1l4B8R%2BCvFmv2nizVNCWdvEMOk3GnQxz6XHZXM05jf7VK3lT26TzBoGhQgnIB6f%2B0b8AvHHxU8QeD/iZ8H/ifp3hHxn4Jvbx9K1TWvDT6vYz2t5atb3NtPapdWruD%2B5lVlmQrJbx53oXRucuf2Uvi94K/Y%2BT9k/9nH9o6HwbNp3gfTtB8P8Aja98JtqGo2dxG5F7qEgS8gSSSeHhAgi8iZml3SjbEu7%2B1J8aPiB8PdG8C%2BFvg4mkQ%2BKPiT43t/Duhah4n0ue4stNzZXmoT3M9rHNbyzbbWwuAsQliJkZAWUZqL9nn4w/Fn49/s133ieJPDumePNO1zxF4ZuZ3sZ5dJ/tXSdWvNKe6WATCY20ktmZ1h87eEkCGTcC9AGJ4S/Zr/aJ%2BG37POg/Az4X/Fj4T6KdGgnsXk/4U5f3GnvYOgColrLrxk8/cXeSeW4mExkYvHuJY%2Bd61/wSf0i08I6b8Nvhx8YINN0G5%2BFHhX4eeNpda8KLqGqappOgTTSWctndrcQrYXbfaZw8rQzoD5LRxxtECaHiP9s/9rzSvhv4pi8OW/hjxLqvhT42Wfg278eeEPhJrus6dcWBsYZ7%2B6j0Wxv5bx5bO4kks5fLupEEkD5KsskUdn4sftz/ABS8LN8LPEvhf4y%2BDI/h54i8D6vq/jT4uH4IeINV0e3vLS706GOGRbTUUGhRsk980j38ziI2bK7KUcUAdZpX/BPvWfDHxth%2BIfhH4s6LYeHtK%2BI2vfEDw9of/CEFr6LxHq2m3ljcyXV%2BLxftVnm/uZhbrDFIT5SG4KRBTlfD79hz9rrwB%2BzL47%2BDenftp%2BF4PG/je6S8vPi1pvwouoNVmvZXUX15dK%2BtyCWaS2RLe38lrZLJI4xEpSKONM3xh%2B3v8ZfD/wC3iP2d7fStBTwwnxB0vw2kNx4T1FvtdtdaHHqLX58QLcDTbO5WZ3hTSZYjdzJEkqfJcxMNr4J/tj/Gv9ov40fFfwf4JtPDWi%2BE9L%2BH%2Bg%2BI/hN4hu/D95qVxqNteXutWcl/c28NzEbm3mbSfOtYoGjd4JY3MhMoSMAi%2BIP7BXx08Yfs7%2BA/2bfD/wAdPhroPhrwpqXma/4asvhBfto3iSwiUG00%2Be2OvCcQrL%2B%2BnDXMgu2VVlHltNHL23x1/Zj%2BNv7QcGheDfG3xs8IW3hK2v8AQNT8RWWmfDidNUvL/TL2G%2BDWl7JqbpYwvPAmEa3nliRnCzbysi%2BS6N/wUS%2BMl3%2BzL4y16y8P6HrHxIsvGupeGvAkVz4T1LQIdS%2By6bBfzalf6Neztf6XDbRyTtJBPKsk6W8LRsn262yzxV/wUE/aFg8H/wDC0/DGieDI9D8C/B7wf47%2BJljfaVdyXOrJrD3JuLXTZFukWyNvb2U0qvMl15rSxx4Ta0hAOl8U/wDBJL4Faj8XJPiZ4I%2BIXj7w3bXngHx14f1DR7X4ia7dRC68TT2U1zqFulzfvb2pR4LqQwJAYpJ7mGchZLOEi14T/wCCaWi%2BJdZv/Ff7UnxIHijVpNP8OWOjTfDeDU/A8WmRaImpLZzKdP1N7hrg/wBrXYdxOsWwQqkKeXk4F9%2B3l%2B0PpHiH/hYcPw%2B8P6/4J8RePvHXgfwT4R0fTrlNfk1fw3a61L5kt01w8M0d3L4d1KNIUto2j822PmSZcVxHh3/gp38cvGHw18baZ8L/ABL4B%2BIvjHw9pPgPWodZ%2BHfw91jU7DT7TXNcbT9StJtMtr6W7vLvToILi4dYponYOgeGIxsrAHXaJ/wSi8R/Df4SeHfhl8If2lRFJpvgbxJ4S1u78eeHLzxLDe6drN1DcTvbxXWpq9pOnkIikyzQMCd8DcY6q6/4JT/Aex%2BLPwy%2BL/gnxn450rUPAXjq28TatC/xD12W38QzW/h260SHzLVb9LWCXZJaNJMkB86G1e2kVormUVzPxN/bd%2BNWifDH4a%2BMfh38UvDOq6XrN9r8PxE%2BIdp%2Bz34n1Gz0NrAsFin0a21D7ZpTo4aGZruYiN4XLCPO1e9%2BOP7QPxz%2BGniD4c%2BNvA/j74deJvCXjvxX4d0PSvDFl4du21XXUv5oxeajZXyX5hSK2tGn1Axm2lBt7KXMy7g6gHCaR/wSn1e68Jx%2BBPH/AO0XHqGneHPhvqfg74e3mk%2BDRZajp8V3qFhqCX%2Bo3D3cy6peQ3GmWbq4jt0d/Pd42abK6fxI/wCCfn7QXxG%2BG/ijw/e/tW%2BGotf%2BI3ji01j4n3n/AArO6/svXdJttPhso9Cjs49YS4tbR1t4mnP2uR5t9whKxzbF5jxZ/wAFLPi78KPDesftF/ETwt4ZvvhtdJ8RY/DGhaRYXMOs2svhVNRlElzdPcPDcJeQ6TeuFS3hNuXhQtNlmHoXgf4t/to6v4q8a/s8eN/HHwp0rx34U8PeHPFEni2LwZqEmixaTqjapC0D2Taosrzw3GkXS%2Bd9qjRo3jk8tCChAPao9H8Q%2BHvgrJoXivUNIutRs/DskN1PoGjPp1k7LCR%2B4tnnnaCPAACGWTaBjca4Txx/ykL%2BF/8A2Rnx5/6dvCFO/Zt%2BNXi39of9ji1%2BMPjXSrC3vdX03VRHc6TDLHZ6paw3FzBbanbJKzSR295bxRXkSOzssdygLuRuLfHH/KQv4X/9kZ8ef%2BnbwhQB7NRRRQAUUVzvxX%2BK/gH4I%2BAr34mfE3XG0/R7B4I5porOa5lklmmSCCCKCBHlnmlmljijijRpJJJERFZmAIB0VFed2X7VvwEvvgXdftIp46aHwhYyTw317eaRd29zbXMNybSS0kspYlukuhcqYPsrRCYy4jCFyFOVL%2B23%2Bz%2BngGL4jWt34wvbKTV5tLm07TPhhr93qtldxIJJIrrTYbFr20KxlHJnhQbJI2ziRCwB6zXjP7B//JENc/7LN8R//U11uvUfAvjjwj8TfBWkfEf4f%2BIbXV9C1/TINR0bVbGUPDeWs0ayRTIw6qyMrA%2Bhry79g/8A5Ihrn/ZZviP/AOprrdAHs1FFFABRRRQAUUUUAFFFFABRRRQAUVwvxf8A2nv2dPgBB5/xr%2BOHhbwuSoKQa1rcME0g/wBiJm3v/wABBrw/Xv8AgtT/AME6NMu20nw58bbzxPqP/LLTfC/hTUbyWU%2BissAjJJ4%2B9XFiMyy7Cy5a1aMX2clf7r3/AAPOxWcZTgpcuIxEIPs5RT%2B69/wPqqivkX/h4B%2B2F8X/AN1%2Byx/wTP8AHEttLxFr/wAVNSt/DcCL2lEEheSZD2CkEg5pU%2BCn/BX74xsLr4k/th/D34U2rfN/Zfw18FHVZSvZHn1Egq3qUyMjjiub%2B16dT/d6U6nmotL/AMCnyL7rnJ/btGt/utGpV84wcY/%2BBVPZr7kz65qO8vLTT7WS%2Bv7qOCCJC8s0zhURR1JJ4A96%2BLfGX7G/jTw3E7/H/wD4LPfErS4QM3LWviDTfD%2BF74bB2fXtXjHjXwV/wQh8H3az/tCftoeIPipcRSBide%2BI2qa/5rg5BI0wbW5/CuWvnNegvfpwp/8AXytTj%2BC5me/lWR%2BIfELSynJK1W/VKUl/5SpVP/Sj7A%2BL3/BUb9gT4IzPYeMv2nPDlzfq2waX4cnbVrkydBGY7NZSjE8YbHXnFcHH/wAFOfiz8R2%2B0fsz/wDBN74weLbAcjV/EVrB4etZ17NA9yzGUfgp68Vwnwk/bk/4J6fCW3W1/Yo/YQ8ea9dMuy2uPh78GnjkuCeAXuZljcjHVmJIFd4v7Rv/AAVg%2BLh8z4QfsJeEPAFk/wDx76l8WPG5neQerWlgBLEf9liTXH/aeIxPw4i/lRpSn/5PNcv5H0X/ABCbxN%2BLNqtHL4/9PalGk/8AytVqVX/27h/l2ef2zf8AgpdqI8nQ/wDgkRfq7cLJqXxo0iFF9yPLJ/Ck/wCFof8ABaDxd8vh79lz4LeEC/3W8V%2BNbvUBH/vfYlGfwpf%2BFGf8FhPHnz%2BLf25vhv4E3/fi8DfDX%2B0wvsraiwP4mj/h3H%2B0h4q4%2BK//AAVT%2BMt5u/1v/CIfZNBz/u%2BSj7ads0q7e3fq6FP8lJ/gH/EOMmo/7/xbT81RhWqv5OnhKUX8pgPg/wD8FlPF/wC98Rfti/CXwezdYvCfw%2Bl1BV%2BhvWBP41zHjX4J/taeDoXu/jn/AMFz7PQkT/W/8UFoOjpGPTc836mun/4cz/ss65/yVf4jfFrx4T/rD4v%2BJl7N5n%2B95JirpvBf/BIr/gm54Cmjn0T9kvw3cNH93%2B2nuNSB%2Bou5ZA34ij%2Bzcyqbwf8A29iKr/CnGKD/AFO8JMP/ALxm%2BPxD/wCndJ00/nVxSt86Z8j%2BN/jR%2Bz34HuGi8Uf8HA3j%2B9uwcL/wjOmJfRsfQCyt5VP51zv/AA0Hrmu/ufht%2B31%2B1543t2%2B4PCPwdSR5PTa8qxn9K/UbwN8HfhH8L7dbT4afCzw54diUYWLQtDt7RQPpEiiujo/1exc/iqqP%2BH2r/GVb9A%2Bo%2BDuG0pZVjK3nVzCVO/rGhTdvlNn5LC3/AG2fEf8ApXw8T9vK6uG/1b%2BJLvTtGjP1ilDgfnTo/gt/wXI8Yk6bBb/Gay0tvuT6j8bdBsrgfVobdpBX6z0Uf6qwl8WJqf8Abr5f/bpA8X4fUtMPw5R/7iYvMan3/wC1Uk/mj8lh/wAEtP8Agqx4vzdah8RmgupPvXvjb49a3fTf8CNlEin8BWhZ/wDBFH/gotqaAeJP2ufDttn70dp4w8TXKj6eZMma/VmimuD8p3lKo/8AuI/0InnGQWtSyDLof9y05v8A8CqYubfzPyovv%2BDeD45%2BPohafEr9tSzEOQf3ej6lqOD7Lc36qfxrqNF/4NuPhvHZpZ%2BKP2oL%2B72jDNp/gDTbVj%2BLeY35k1%2Bl9FaR4P4ei7ujzPzlJ/qKPEMaMeXD5dgaa/u4DBt/%2BBVKNaX/AJMfnloH/Btn%2BxVaTi68UfFH4i6mw/5ZRX1haxN9Qlpu/JhXovhv/ggr/wAEz9CiWLUfg9q%2Bsbep1LxhqC7vqIJYx%2BlfZFFdVLhnh%2Bj8OFh81f8ANsiHE2c0H/s8oUv%2BvVHDUvudPCwa%2BUj528J/8El/%2BCcXgt1fR/2RvCsxXoNWilvx%2BIupJAa9P8Lfsu/sz%2BBlRPBX7O/gXSBH9waX4Ss7fb9NkQruqK9Cll%2BX0P4VGEfSMV/7aLE8UcTYyPLXx1aS7OrUt9ymo/8AkpHaWdpYQLa2NrHDEowscSBVH0AqSiiuzY8Ntyd2FeM/sv8A/Jb/ANo7/ss1j/6hXhevZq8Z/Zf/AOS3/tHf9lmsf/UK8L0CPZqKKKACiiigAooooAKKKKACiiigAooooAKKKKACiiigAooooAKKKKACiiigAr4L/wCCmGq/2F/wVV/Yf1XdjdqvjC1z/wBd/wCw4sf%2BPV96V%2Bdf/BZC8l0j/goF%2BxR4hjOEsfHmotcNnpE%2Bq%2BG42/8AQ68zOZcmWzl25X/5PTPuPDeisTxrhaL%2B2q0fvwuL/VI/RSiiivTPhwooooAKKKKACiiigAooooAKKKKACiiigDK8Yf8AIJh/7Clj/wClcVatQ39haanaPY30AkikGGUkjvkHI5BBwQRyCKof8IfpP/P3qn/g8u//AI7QBq0Vl/8ACH6T/wA/eq/%2BDy7/APjtH/CH6T/z96r/AODy7/8AjtAFnXtC0fxRod74Z8RabFeafqNpJa31ncJujnhkUo8bDurKSCPQ186%2BCf8AgmD8KPhp8I/Afww%2BHnxq%2BI%2Blah8Ptb1PVNL8crqen3Ot3kt%2Bk0V0LqS5spIJN0U3lK6wpLGkMQjdNpJ%2Bgf8AhD9J/wCfvVf/AAeXf/x2j/hD9J/5%2B9V/8Hl3/wDHaAPBvA3/AATE%2BAfw/wDDXh7wroni3xhJbeGvDXw80Owa71K2eR7bwbqt3qmltI32cbpJZ7yVbhuA6KgjELAu1r4bf8E7vAvwp%2BIml/EDwl8dfiIq%2BF/Deu6F4D0K4vNNksPC1nqs1tNMlohsd8pie0g8k3T3GxU2Hcny17f/AMIfpP8Az96r/wCDy7/%2BO0f8IfpP/P3qv/g8u/8A47QBzHxz%2BAeifHfwbpfhzV/Gmu6Jqmga1a6x4e8WaA9quo6ZqEAZVuYhPBLbsWjkmidJIXjeOaRSmDxg6H%2ByZp3g/wCBVx8BPAPxu8daBZXmi6zbXmvaVd2I1WbUtUuWu7rW/tElo2zUDcS3MqsirCHupD5J2xeX6L/wh%2Bk/8/eq/wDg8u//AI7R/wAIfpP/AD96r/4PLv8A%2BO0AeTfDH9jTW/g58B9O%2BAXw2/a5%2BJGlWGjTw/2Lq1rpPhdbuxtY4mT7GqDRfs0kblvMd5IXmaT5vN5IOfr3/BP/AMKat8ELf9m/SPj/APEbRfBdxpuo2fi3R9Mu9LZvFQ1C4muNQlvbmewkuIpbiS4uS72clsR57bNmE2%2B0/wDCH6T/AM/eq/8Ag8u//jtH/CH6T/z96r/4PLv/AOO0AePan/wT/wDhVqfxWuPiA/jzxbHoN94vsfFWpfDiO4sjoV3rVnaQWtveOGtTdjYlrat5KXKwNJArtESXLVPB/wDwTQ/ZS%2BEHxM8TfGP9mr4faX8J/E3iXwdYeHBqvw58J6LYNplva3dzdGa2RrF4xLM1wqTeaskcqWlsCg8oE%2B2f8IfpP/P3qv8A4PLv/wCO0f8ACH6T/wA/eq/%2BDy7/APjtAHil5/wTT/ZZ8aeB/EXhb4/eDbX4rap4p1i51bV/FvxK0DStQ1EX01hbaf8AaIAtnHbWjJa2VpEoghjXFujMGYszZ3/Drv8AZ60/RfDng/wb4g8S%2BGvDej%2BE9F8Na94W8Ptp9vYeK9M0q6ku7ODUE%2ByFhiee5d2tWtmmF1MkhdGCj3z/AIQ/Sf8An71X/wAHl3/8do/4Q/Sf%2BfvVf/B5d/8Ax2gDyjw5%2Bwz8O/DHxlf4uad8Q/FzW9vrur694f8AB0t3ZnSdB1rU45I7/U7VRbC48%2BUXF2SJZpYla9uCka%2BYam8M/sg33he08Ta5b/tRfEe58ceKodOtb/4l3kWhNq0NjYySyW1lDCNLGnpArXN2SPshZjdSsWLFWX1H/hD9J/5%2B9V/8Hl3/APHaP%2BEP0n/n71X/AMHl3/8AHaAPI7b9iY6F8M/%2BFbeA/wBqT4neHGv9U1TUvFmv6XJosmoeJbvUJN9xNdPc6ZLHCwOQn2OO2EakKgAVQtDSP%2BCfPhHwj8afCfxh%2BHHx58feHLfwR4N0/wAKeGvB1kujXWk2Oj2pTdaxfbtNnuYPtAiiS4linSWVYYhvXyo9vtf/AAh%2Bk/8AP3qv/g8u/wD47R/wh%2Bk/8/eq/wDg8u//AI7QB4tD/wAE5fgZc%2BKdc1DxV4h8Ta94a1eLxILT4fatd2x0bSJNfZ31iW2EVulyXuTNcZ86eVYhdTLCsSuRWJ4p/wCCY3gzxt8KPEvwy8V/tOfFa/vPGD6PB4j8XXV5oz6nf6Tphc2ujShtMNrJYbpZzLG8DPcfaJxM8iyuG%2BhP%2BEP0n/n71X/weXf/AMdo/wCEP0n/AJ%2B9V/8AB5d//HaAMLT/AAhq3gL4J3XhHW/iFq/iq5stIu1fXtetrGG6uQRIyh0sLa2t1CKRGojhT5UXO5tzHivHH/KQv4X/APZGfHn/AKdvCFeonwZob4Wdr6ZMgmK41a5kRvZlaQqw9iCK8u8cf8pC/hf/ANkZ8ef%2BnbwhQB7NRRRQAV5B%2B2v8N/H3xD%2BE%2BkX3wy8MtruseE/H/h3xPD4dS7hgfVotP1O3uJ7aOSd0iWYwpIYvNdIzKsYd0Ul19fooA%2BT/AAr8CfHfif8AZ2%2BKHh74yfs/eM7a78d%2BN7zxxp%2BgeHNf0ZdS0u4S/gk063hna9%2BzLqURsLW9JZzaCWTZ50oDZ4Xw98N/2%2BPgT8E/H2sfDP4ZfEDxB4y%2BN3xeGqaxqOpa/wCGJvEHg7Rl0TTtMe%2BkQ3Vppc9%2By6WDDBbMbeE3MO8Srbukv3VRQB538LfhVZeG/wBmDw38Gfhra%2BJfhla6X4TstL0a3Eun3eq6DFDCkccbPJ9ttJpkVArOfPRjk5bO6uP/AOCdOk3%2Bg/s3X2iar4nvtbubP4t/EOG41jU44Eub518Z60DNKtvFFCHcjcRHGiZJ2qowB7pXjP7B/wDyRDXP%2ByzfEf8A9TXW6APZqKKKACiiigAorzX9p79rb4Ffsg%2BAx49%2BN3jBbFLhzFpOlWqedf6rPxiC1gX5pXJIHZV3AsyjmvDF/ar/AOCmP7QChP2av2FrHwBpU4/0fxT8btcMEgU9zplpmdGA55Zhn6VwYjMsLh6vstZT/linKXldLRX/ALzieXis4wWErexbc6m/JCLnLXa6jpG/TmlH9T65u7u0sLWS%2BvrmOGCFC800zhURQMliTwAB3NfN/wAWv%2BCsf7Gnw28QHwF4O8aah8SvFjErB4T%2BFulvrd3Kw4Khof3IIOAVaQMPSuVtP%2BCXniz47XUfiH/gof8AtV%2BKfii28S/8ITo0p0Tw3C2chTbWxV5yvAEjMjEfeBzXr2r6x%2BxJ/wAE8Phmb2%2B/4Qn4X%2BHgMLHbWsVq96yjkLHGvm3UnfgO561yVMRmdSDm1GhBfam1KVvRNQj/ANvSfoPBYfivPsVDDYDD8kpu0Y8rrVZN9I06d438nKT7rc8iHxp/4KyftGHZ8Hf2ZvCXwX0KY/Jr3xR1dtQ1R4/78djajEMn%2BxNkdeaef%2BCcf7R/xRUy/tT/APBTT4n63FJzcaV4AgtvC9my/wDPNxbhzInbnBPsar/8PBf2nv2m/wDQP%2BCfP7H%2BpX%2BlzcQ/E34q79H0TaeksMH/AB8Xkfum1h3Wnp/wTQ%2BLP7QbjVP%2BChP7YfifxzbSndL4B8GudB8PIP8AnlIkBEt0B2dij8815nLTxn8NVMT5yk6dL8ORNf4Yz9Wfef8AEJMJlvv8Y5oqD60ed1q/p9Ww0owpvyr14NfajujlbrwP/wAELf2EbiXUPFc/w6uNfhYvcya3et4l1hpu7mJjcSxuT3VEGc9Oa39B/bW/aa%2BMNqujf8E/f%2BCe97Y6HJ/qfGnxRVPD2lbe0kVpH%2B/uYz2ZCCO6%2BnvHwX/Yk/ZG/Z48qX4Nfs7eE9DuYceXqUGkRyXnHTNzKGmP4ua9Sruw%2BV4yMeVShRj2pQV//A5K/wB0fmd%2BFxXhhwzDlybKZYia2nipRhT9fq%2BF5Ob0q4mXmnrf5HH7L/8AwVJ%2BLx8742/8FAtE8D2j8zaF8JPBSY/4De3p89cfQ5pw/wCCPvwd8UnzPjr%2B0p8b/iMzcyweKviTcfZz7LHAsexfbNfW1FdP9iZfL%2BKnUf8AflKX4OSj/wCSnT/xFDjCjpgKlPCR6LDUKFG3/b0aUqnzdW/mfNfg/wD4I%2B/8E2fBEizaT%2ByjoV06tuLa1d3eo7j6kXU0gP5Yr2jwB8Bvgb8KEWP4XfBnwp4bVBhRoPh62s8f9%2BkWusorqoZfgML/AAaMY%2BkYr8lf8TwM14v4tz1NZlmFeun0qVqs190qjj/5KFFFFdh86FFFFABRRRQAUUUUAFFFFABRRRQAUUUUAFFFFABRRRQAUUUUAFeM/sv/APJb/wBo7/ss1j/6hXhevZq8Z/Zf/wCS3/tHf9lmsf8A1CvC9AHs1FFFABRRRQAUUUUAFFFFABRRRQAUUUUAFFFFABRRRQAUUUUAFFFFABRXMfGjQ/FviP4W63pHgX4lal4P1WSzL2niPSLK0uLmyKMHYxx3kM0DMyqyfvI3A35wSBXgKftNfGW2/wCCS/gP9pFfEsEvj3xX8N/B7T%2BILrT4vLg1PWBp9tJqDQIqxERy3jXBiCrH8m3AXigD6lr85f8Agub/AMS/40/Arxh0/wCEetdW1Hf/AHdviPwemf8AyJX1h%2ByJ41%2BJd34r%2BLHwU%2BJvxGvvGU3w38eW2l6X4r1Wxs7e9vrS60TTNTVLpbGCC386OS9ljzFDGDEsJK7izN8af8Fx/iFoXjee/wDD3h3S/EMWp%2BC/hLr9zcz6r4R1GxtJHHi3wMQbW6ubeOC9AVXy1u8gXjcRuGfKz3/kTYh9oSf3Wf6H3/hU1/xEvJ4vaWIpw%2BVRypv8Kh%2BmtFRWF7DqNjDqFs2Y54lkjPqrAEfzqWvV3PgWnFtPcKKKKBBRRRQAUUUUAFFFFABRRRQAUUUUAFFFFABRRRQAUUUUAFFFFABRRRQAUUUUAFFFFABRRRQAUUUUAFFFFABRRRQAV4z44/5SF/C//sjPjz/07eEK9mrxnxx/ykL%2BF/8A2Rnx5/6dvCFAHs1FFFABRRRQAUUUUAFeM/sH/wDJENc/7LN8R/8A1Ndbr2avGf2D/wDkiGuf9lm%2BI/8A6mut0AezUUUUAFfO37Z37cV18E9d039nb9nrwivjn40%2BK4j/AMI54ShfMOnxHg6hqDgjyLZOW5Kl8YBUbnW7%2B35%2B1vrP7Nnw/wBM8FfCLRl134rfEG%2BOj/Dfw4oDGW7YAPdyg9LeBWEjscLnaCVBLLa/Ym/Yn8M/so%2BGb3xJ4i1ybxX8TPFjLd/EDx9qbGS61S7IBaNGYZjtkPCRjAwATz08nFYjEYnEPCYV2atzz/kT2S6ObWqvpFe803yp%2BHjMVisXingcHLlaS9pU35E9oxWzqSWqvpCPvNNuMXzn7Lv/AAT10/4feOh%2B0z%2B1N44k%2BKPxju4wZfE%2BqxD7HoYOT9m0y2ICW0a5IDhQ5yxAQOy19CeLPF3hXwH4cvPGHjfxJY6RpOnQGa/1PU7tIILeMdXeRyFUe5NeQ/tmftt%2BEP2UdJ0zwvo3hy68YfEfxXL9m8DfD3R2zearOcjzHwD5NupBLysMAKcZIOPLPCP/AAT0%2BLH7TniGy%2BLn/BTz4lReK5beYXOj/CLw3I9v4Y0Z%2BqiZQd9/KvQtISv3lJkQisY1aWCbweX0%2Bea1k76JvrUm7tye9lzTa/lVj9K4b4Cy3AZPDM83rfVMHNtw09piMS07SdGm2nLX3ZV604UYyuk6ji6causftnftK/ty6xcfD3/gm34bXRfCMU7W%2Bs/HrxdprCyj2nDrpVpIAbyUcje42AjDBQVeu7%2BBn/BLz9nb4YeLV%2BLnxWn1b4sfEJirzeNviRd/2hNG4OR9nhfMVuqknYFUsg4D19EaNouj%2BHNJttA8PaTbWFhZQLDZ2VnAsUMEajCoiKAFUAAAAYAqzW1LK4Tmq2Ml7Wa1V17sf8MNUvV80n3Wx6WP48xGHwssu4cpfUcLJcsuSV69ZdXXxCUak79adN0qC2VOXxMAAGAKKKK9Y/PwooooAKKKKACiiigAooooAKKKKACiiigAooooAKKKKACiiigAooooAKKKKACiiigAooooAK8Z/Zf/AOS3/tHf9lmsf/UK8L17NXjP7L//ACW/9o7/ALLNY/8AqFeF6APZqKKKACiiigAooooAKKKKACiiigAooooAKKKKACiiigAooooAKKKKAMT4jfD/AMP/ABU8E6h8PvFVzq8OnapCIruTQfEN7pV2FDBsR3djLFcQkkAExyKSCVOQSDwXgj9iT9nPwB8EW/Zv0bw1rt54HPhl/D6%2BHPEPjrWNWgj00gKIE%2B3XcrIEUBY2UholVVjZVAA9YooA5H4MfAv4afADw1deFfhlpV9DDqGpyajql5q%2Bu3mqX2oXboiNPc3l9NNcXMnlxRRhpZGKpFGgwqKo%2BQP%2BCzmi/wBvade2Ozd5f7NvxAucf9cdb8GTZ/8AHK%2B7a%2BP/APgpho3/AAkPijUdIVNzS/sl/Fnyh6uJ/CzL/wCPAVw5nD2mW1494T/9JkfUcD4n6lxrldf%2BTE4d/dXo/wCZ9J/APWv%2BEk%2BBXgrxFu3fb/CWm3O7132sbf1rra8l/YI1r/hIf2Hfg9rBfc03wx0LzT6uLCFW/wDHga9arbCT9phKc%2B8Yv74xf6nn8RYb6lxDjcP/ACVq0f8AwGrVj/7aFFFFdB44UUUUAFFFFABRRRQAUUUUAFFFFABRRRQAUUUUAFFFFABRRRQAUUUUAFFFFABRRRQAUUUUAFFFFABRRRQAUUUUAFeM%2BOP%2BUhfwv/7Iz48/9O3hCvZq8Z8cf8pC/hf/ANkZ8ef%2BnbwhQB7NRRRQAV5/%2B0v8cbn4A/DWLxZovhFfEGtar4h0vQfDehyaj9jjvdR1C9itIFln8uQwQq0vmSyCORlijcqkjBUb0CvPv2l/gddfH74axeE9F8Xr4f1rSvEOl694b1yTTvtkdnqOn3sV3A0tv5kZnhZovKljEkbNFI4V42KuoB59c/t0XWhfsveKfjd4t%2BFMdp4n8HeMT4R1vwlb%2BIhJaR6w%2BpQWEGNQeBMWUhurW4Ny0CtHBKWeIMjR1hWX/BQHx74gvm%2BDvg/4IeG9S%2BLlr8Sbzwdq3hdPiHIuiWc9tosOtS3R1Uac0zQi0urRMfYhILm48plVUeVet%2BH/AOyt8RvBHwj8Y%2BAdU%2BJng/xDqnjq61LVfEV9r3w7kn0%2B71W9mYyGSxOo4ewW2ENstoZfM2Q7nuXZia4TwP8A8E09R%2BEPhzSvEfwS%2BJvhHwt8Q9P8e3niiXVdO%2BGYi8OO1zpMekSWEWiwX0TQWq2dvabFW73ia1WV3k3yI4B71%2Bzv8aNH/aJ%2BB/hf426Ho9zpsHiTSIrt9LvWVprCYjEttIVyrPFIHjYqSpKEgkEGuM/YP/5Ihrn/AGWb4j/%2BprrddB8Kf2Yvhr8O/wBmbRP2WvE2lWvjDw9pugx6dqsfibTobiPWW%2B9NNcQMpiYyylpWTbtBbAAAFcj/AME6fDHhrwV%2BzdfeD/Bvh6x0jSNL%2BLfxDtNM0vTLRLe2tII/GetLHFFEgCxoqgKFUAAAACgD3SsH4o/Enwj8HPhxrvxW8famLPRfDulT6hqdyeSkMSF2wP4mIGAvUkgDk1vV8c/8FCry8/au/aA%2BH3/BNLwtdSHTNZlTxb8X5rdyPI8PWcwMVqxH3Tc3CqvqpWM/dauLMMVLCYVzgrzdoxXeUtIr0vq/JM87NcbLA4KVSmrzdowXecnaK9L6vtGMmWv%2BCfHwn8b/AB18cX//AAU1/aR0ow%2BJvG%2BniD4beHZ23r4V8MnLQKmePPuFbzHcclX42%2BY6D0L9t39tKL9mjS9J%2BG/wv8LHxh8WvG0htPAPgi2bLTyHIN3c4I8q1iwWdyVztIBUB3Td/bH/AGofCH7FvwAufiFJogvtRLRaT4K8K2SYk1fU5RstbOJEGcEjJ2jKojEAkAHjP2F/2OPEvwru9S/ad/aZ1lPEnxs8dQLJ4l1iRQYtFtzhk0qyGSIoIvlVip%2BdlzkgLXlqFWgll%2BFl%2B8fvVKnbm3l5zm78i2SSb92KT/QuCeGMn4eyFZ/nkfa0VOSp0m2pYzEJKU3JqzjQptxdead3eGHpNSlKVO1%2Bxh%2Bw8/wM1XUfj/8AHrxaPHPxo8WRBvFHjG5TKWaHBFhYIQBBapwo2hS%2B0EhVCov0NRRXs4XC0MHRVKkrJfNtvdt7tt6tvV/l42e59mnEmZTx2PnzTlZKyUYxjFWjCEFaMKcI2jCEUoxS0TbbkUUUV0HjhRRRQAUUUUAFFFFABRRRQAUUUUAFFFFABRRRQAUUUUAFFFFABRRRQAUUUUAFFFFABRRRQAUUUUAFeM/sv/8AJb/2jv8Ass1j/wCoV4Xr2avGf2X/APkt/wC0d/2Wax/9QrwvQB7NRRRQAUUUUAFFFFABRRRQAUUUUAFFFFABRRRQAUUUUAFFFFABRRRQAUUUUAFfNn7Wui/8JJ%2B0ronh3Zu%2B3/s2fE622%2Bu%2B88KLj9a%2Bk68U%2BJFlDqP7fnw10%2B5XMc/wT8fRyD1VtV8IA/zqKkPaU5R7pr701%2Bp04LEPCYylXW8JRl/4DKMv/bTD/wCCTmtf29/wTk%2BEV9v3eX4Tjts/9cZJIcf%2BOV9D18o/8ERr2af/AIJn/DzTbs/v9Mn1mynHo0er3gA/75K19XV5%2BSz9pk%2BHl3pw/wDSV/kfXeJmHWF8R85oraOKxFvT202vwkFFFFemfEBRRRQAUUUUAFFFFABRRRQAUUUUAFFFFABRRRQAUUUUAFFFFABRRRQAUUUUAFFFFABRRRQAUUUUAFFFFABRRRQAV4z44/5SF/C//sjPjz/07eEK9mrxnxx/ykL%2BF/8A2Rnx5/6dvCFAHs1FFFABRRRQAUUUUAFeM/sH/wDJENc/7LN8R/8A1Ndbr2avGf2D/wDkiGuf9lm%2BI/8A6mut0Aeo%2BOvGnh74ceCdY%2BIfi6/FrpWg6Xcahqdy3SK3hjaSRvwVSa%2BXP%2BCXfhTV9e8A%2BMf%2BChfxrSOz8TfGnUW1vN3IAuj%2BHYAyafa724CLAPMLcBlaMnlam/4K3eJdc8WfCfwh%2Bxj4G1B4PEHxz8Z2vh4yQH95baTG6z6jcgd1SJVVh/dlNM/4KaeIb7wf%2Bzr4R/YY%2BAgTT/EXxd1G28E%2BHLe3B/4l2joii%2BuNo5MUVqPLbHIE2e1fPY7FRjjZ1pK8cPHRd6s9Ir1UbJdnO5XC%2BQ1eNOPsPlkZcsKduaT%2BGDlGU6lSXlRw0Kk32v3kjC/Zd0vUv%2BCiH7UMn7fPjqwmX4aeBri50r4E6LeRELezBtl1rzo38TMuyLIyoXoGiDN9pVhfDD4c%2BFfhB8ONB%2BFXgewFto/hzSLfTtNg7rDDGsa5PdiFyT3JJ71u16eX4SWEoe%2B71JPmm%2B8nv8l8MV0il5n1PGHENLiDNb4WHs8JQj7LD0/5KMW%2BW/epNt1ast5VaknsopFFFFdx8oFFFFABRRRQAUUUUAFFFFABRRRQAUUUUAFFFFABRRRQAUUUUAFFFFABRRRQAUUUUAFFFFABRRRQAUUUUAFeM/sv/wDJb/2jv%2ByzWP8A6hXhevZq8Z/Zf/5Lf%2B0d/wBlmsf/AFCvC9AHs1FFFABRRRQAUUUUAFFFFABRRRQAUUUUAFFFFABRRRQAUUUUAFFFFAHmH7afxe8VfAP9kz4h/GPwNHanW/D/AIUvLrR3voi9vDdCMiKWVQQWiRyruuRlVYZGcjzLwX8YvjD8JNI/aC%2BHvxC%2BOcXii5%2BFXh2DXNC8feN9NtLUQxXGkyXBj1BdMt4ImjgntpZC0UKv5EyKQ7Lvf6J8aeDfCvxF8Hat8PvHWgWuq6Jrumz6frGl3sQeG8tZo2jlhkU8MjozKR3BNcF4D/Y1/Z7%2BHPhrVPCGg%2BFdVu9P14XQ8RxeIfF%2Bqas2ti4tYrSRb5765me%2BAtoIoUE5kEUaBI9gJBAPH/8Agm78bf2kvH/jLxl8Pf2lNS8YxX%2BmeEfC2t2GjfEbTNEt9ZiOoLqC3Fyh0NFtG0%2BSW02QJIftkclvci4VA0IPU3/xO8N%2BMf8Agpt4L8GaTpviGG88PfB7xxHfzar4R1GxtJS%2BreEsG2urmCOC9A2nLW7yBcjcRuXPovwL/Zb%2BCv7OEmpXXwq0DVIrvV7a0ttQ1HXvFOo6zdyW1qJBa2wuNRuJ5Ut4fOmMcCsI0M0hVQXYnm/HH/KQv4X/APZGfHn/AKdvCFAHmP8AwRp/0D9lzxL4P6f8I98W/E2nbP7u29L4/wDIlfWlfJf/AASj/wCJXL%2B0X4Pbj%2BzP2nPFBgT%2B7DL9mdP/AGavrSvJyLTKKK7Jr7pTX6H6B4qe94h5jU/nnGf/AIMo4ep%2BdRhRRRXrH5%2BFFFFABRRRQAUUUUAFFFFABRRRQAUUUUAFFFFABRRRQAUUUUAFFFFABRRRQAUUUUAFFFFABRRRQAUUUUAFFFFABXjPjj/lIX8L/wDsjPjz/wBO3hCvZq8Z8cf8pC/hf/2Rnx5/6dvCFAHs1FFFABRRXmH7W3xk8ZfBj4YWF98NbPTJfEviTxhovhrQJNbgklsrW41C/htjdTxxSRvLHDHJJN5SyRmUxCMPHv3qAen0V8war%2B2T8ZvCn7GvxQ%2BKeueH/Dl/49%2BFvibUPD%2BpPYWU8WmXssNxCI76K1a4edgbW5hn%2BxLO8ryhreOV2ZHPltx/wUq/aI/4VlaXsceiJev8XNS8KT%2BKIPgp4ju7v7LbaIupJI/g2K7GtW07yM0JSSQ7IY0vGUQ3EeAD7xrxn9g//kiGuf8AZZviP/6mut1r/Az9ovS/GH7IPg39qL416x4a8Jwa14H07XfEV2fEMDaVpr3FtHJIBeM/lGJXcqH3kEY%2BY9TxH7DPxK8ISfsgeIvi94b8Q2Gr6D/wsn4latZappt4k9td2o8X65MssUqErIjJhgykgggg0m1FNvoKUlGLk9kcJ8IP%2BMpP%2BCrXjz4zSHz/AA18CPD0fg3w03WN9cu8y6jMnpJHH/ozj0K0z9mX/jLz/gon8Rf2trv/AEjwn8KIn%2BH/AMOXPMct8Pn1W9Ttu3MIVcZDxv8A7NcZ%2Bxp49m/Zf/4Inaz%2B1Fq90R4n13Rte8XanqMhw97rF5czJbSMfVj9kTPtX0V/wTj%2BCK/s9/sRfDj4bT2Xk6gnhuC/1oMPnN/dj7Tcbj1YiSVlyeyj0r5TAReLq0FP7V8RP1k7U4/9urX/ALdPquAU8j8M8dxA9MRmE/q8H1jGrFV8Q15qhHD4fTZTmvta%2B20UUV9YfLBRRRQAUUUUAFFFFABRRRQAUUUUAFFFFABRRRQAUUUUAFFFFABRRRQAUUUUAFFFFABRRRQAUUUUAFFFFABRRRQAV4z%2By/8A8lv/AGjv%2ByzWP/qFeF69mrxn9l//AJLf%2B0d/2Wax/wDUK8L0AezUUUUAFFFFABRRRQAUUUUAFFFFABRRRQAUUUUAFFFFABRRRQAUUUUAFFFFABXjPjj/AJSF/C//ALIz48/9O3hCvZq%2BZvjz8SYvBP8AwVY/Zy8JXEwC%2BMPhd8SdMiRjwZY5/C96CPfbayD6E1FSpGnHmltovvaX5tGdWrClHmltdL72kvxaMT/gnl/xKP2rP2rfB/TyPita6jt/6%2B7FXz%2BOyvrSvkv9kX/iS/8ABUX9rLw%2BeEvY/BOo26/XSpUkP/fWK%2BtK8zJdMC49p1F91Sf%2BZ%2BieJvv8URrf8/MNgp/%2BBYPD3/GL%2B4KKKK9Y/PwooooAKKKKACiiigAooooAKKKKACiiigAooooAKKKKACiiigAooooAKKKKACiiigAooooAKKKKACiiigAooooAK8Z8cf8AKQv4X/8AZGfHn/p28IV7NXjPjj/lIX8L/wDsjPjz/wBO3hCgD2aiiigArjfjx8EvDX7QPw6l%2BHfibWNT0vbqVjqel61ok0cd7peoWV1Fd2l3A0scke%2BOeGNtsiPG4BR0dGZT2VFAHh0f7B3gGT4Lax8EdX%2BKvjW/tNe1P%2B2tT1q5ubBNRl18amupprQlitEVbpLmOApGEFqiW0Ua24RSpyk/4J2eFLW7XxvpX7RXxJs/iC3iq7168%2BJ0E2jtq15PcabbaZLDJA%2Bmtp/kfZLKzjEaWi7Tao4IkLu30NRQBzHwX%2BEfg34CfCbw78F/h9BcJovhnSYdP077ZcmaZ441C75JG5eRjlmY9WYnvXy5r3jL/hAP%2BCUvx68ULN5ckXiP4uQ275xtmm8Wa9DGf%2B%2B5Fr7Kr86/2vdUvI/%2BCQXxJ8H6VLtvvFfx98W6JY%2B7z/EjUtwx3yiOPxrz82qujldea3UJffytL8WeXnlZ4fJcTUW6pzt68rS/Fos/tC%2BDjefsNfsm/sC28X774kal4Ws/ENpj/WaXY2sN7qL477XWJsfnX6FgBQFUAADgCvj3R9Ls/iz/AMFgrfRtPiD6H%2Bz98Io4IE6/ZtX1ZgoHoM2K/X5fSvsKuPJ6SVStUWycaa9KUVH/ANKcvuP0/iiisl4WyHIY6Olh/bzX9/FS5o381Qo0V6S7NBRRRXuHwgUUUUAFFFFABRRRQAUUUUAFFFFABRRRQAUUUUAFFFFABRRRQAUUUUAFFFFABRRRQAUUUUAFFFFABRRRQAUUUUAFeM/sv/8AJb/2jv8Ass1j/wCoV4Xr2avGf2X/APkt/wC0d/2Wax/9QrwvQB7NRRRQAUUUUAFFFFABRRRQAUUUUAFFFFABRRRQAUUUUAFFFFABRRRQAUV5h%2B2n8XvFXwD/AGTPiH8Y/A0dqdb8P%2BFLy60d76Ivbw3QjIillUEFokcq7rkZVWGRnI8y8FfHb4s/AfSf2gvDHxN8f6l8TJPg94eg8R6PrerafY2d9fwTaTJdNYzjT7eC3LrNaylXSFT5VxErB2Qu4B9OV%2Bev/BXnxVf/AAz/AOCgf7HXxftvltvDuteIP7YnzjybC7vvDllO/wCVwB%2BNe5f8E8/jl45%2BJVtqPh34z%2BPfiFfeMpvCuieJZ9I8ceHNE0%2B1isb8XIjutLXS0Li0klgnQQ3ssl5CIEEoUvl/A/8Agr5PoXx%2B8R678N/DWleI4dX8E/s/%2BN9Yku9R8I6lYW5ks9c8HXoe0u7mCOC8wts4ZrZ5Au4BiNy583OIzeV1nD4lHmXrG0v/AG08jPo1JZLXdP4oxcl6wamvv5LfM9g%2BEn/Ek/4LKfF3S/u/258IdA1HH97yZ3t8/rivrSvhnxl8SIND/bE/Zb/brsXWLR/jP4IXwV4mmThPMvYE1DTV9CzXLOvPICY9q%2B5qwyepFqvBdKjl/wBu1FGcX8039zP1XjmcMfhMmzWk706%2BCoJP%2B9Q56FReqapv0lF9Qooor2T4EKKKKACiiigAooooAKKKKACiiigAooooAKKKKACiiigAooooAKKKKACiiigAooooAKKKKACiiigAooooAKKKKACvGfHH/KQv4X/9kZ8ef%2BnbwhXs1eM%2BOP8AlIX8L/8AsjPjz/07eEKAPZqKKKACiiigAooooAK/OP4zf8VR8Jfgn8IU%2Bb/hIv27fFM95F/z0s7Txp4hmmH6ofwr9HK/Lrxv4r%2Bz/Gn4UQLJiDwZ41/aD8YagM/d%2Bz69ra27%2B2JVbmvHz6ajlkk/tOC%2BTnG/4RZ5eb4epjcNDB0/irVKNJetStSj%2Bp9Gf8El1PxN0L4t/tjXQLt8WfitqNzo1yR9/RrFjZ2S577dk49K%2Bua%2BdP8Agkj4U/4Q3/gm/wDCPSPK2ed4XF9jH/P1PLc5/Hzs/jX0XWmSwcMpo827ipP1l7z/ABkfp3ibiaeJ8QMzVL%2BHTrSpQ8qdC1CmvlCivm33CiiivUPhQooooAKKKKACiiigAooooAKKKKACiiigAooooAKKKKACiiigAooooAKKKKACiiigAooooAKKKKACiiigAooooAK8Z/Zf/wCS3/tHf9lmsf8A1CvC9ezV4z%2By/wD8lv8A2jv%2ByzWP/qFeF6APZqKKKACiiigAooooAKKKKACiiigAooooAKKKKACiiigAooooAKKKKAMzxp4N8K/EXwdq3w%2B8daBa6romu6bPp%2BsaXexB4by1mjaOWGRTwyOjMpHcE1xfwp/ZP%2BCHwWs7mx8CaJrW2/uZp9Wk1vxjqmqy6rJLbw2xN7JfXMz3u2C3hijE5kESRhY9gyD6PRQB538Cv2Vfgb%2BzdNqF38I/C99aXGp2dpZXN1qviTUNUmSytfN%2By2UUl9PM8FrD503lW0RWGMyuVRdxzxPxw8J6Z49/bW8DeBdbTdZa18BfiJYXa4zmKbUvCUbj8mNe9V4z44/5SF/C/wD7Iz48/wDTt4QpSipRaezFKMZxcZbPQ%2BMfB/hXxZ8bP%2BCDh0aydk8c/BK/u7ixkQbns7/QdRklUKOu77GCgHXL/hX6E/An4raN8dfgt4T%2BM3h/aLPxT4etNUhRWz5fnQrIYz7qWKkdipFfNn7AGn2Pg39pv9qz9lzVrRHsoPiTF4phs5lyklvrtmJpFUdCgMW0gcDOO9Wf%2BCROoX3gT4VeO/2OvEF076h8FviNqWhWnnNmSXSppWurKc55w6ySBf8AZQV8rk8nh61BP7cHTf8Ajoykl83C/wBx9VwrKWc%2BDLw0nerlldPz9lW5sPU%2BUa9CjJ9nUv1u/rWiiivqz5YKKKKACiiigAooooAKKKKACiiigAooooAKKKKACiiigAooooAKKKKACiiigAooooAKKKKACiiigAooooAKKKKACvGfHH/KQv4X/wDZGfHn/p28IV7NXjPjj/lIX8L/APsjPjz/ANO3hCgD2aiiigArxD9v7xJ4i0L4J6NpGieK9S0C08SfEvwr4f1/XNH1CSzurPTr7WrS2uBFcxMr2zzLJ9mEyMrx/aNyMjhWHt9ZvjHwZ4P%2BInha/wDA/wAQPCmm67omqWzW%2Bp6PrFjHdWt5Cww0csUgKSIR1VgQaAPjPxH8TPiN4V/4J8/GbRvDXxd18y%2BGPirfeDvAXirUNeuJ764hk1m1tIbSXUpJDOgS4uZdOa/Z2mt0iMzM8kJY%2BY6b44/ask1Cz/ZKjfW7m7n/AGidW0PXNGT466ykGn28Hg%2B21q10mLxa0LatNBJ5pvWcQpciUPabVtoy7ffem/s7fs/aN4RbwBpHwL8HWmgvoR0R9EtvDFpHaNphd3NiYVjCG3LSSN5ONmXY4yTVF/2Uf2W5fhSvwHl/Zr8AN4HW6%2B0r4MbwdYnSRPv3%2BaLTyvJ37yW3bc5Oc5oAxP2dPjXYePP2OPCXxp%2BG3w68VaxDc%2BFLaXT/AA1LrsN9q1wUURmI3t/dJHdSZU/6TNcATAeYXJfJ/LvWviDqHiLxF8dPG%2BqeHL7RD4Y%2BCnxRtZtI1OWB7nTdQ1f4ia3CYZWt5ZYTIIpdpMcjqSPldhgn9ldH0fSPD2kWugaBpdtY2FjbJb2VlZwLFDbwooVI0RQFRVUABQAAAAK/EbWLbU9d8Bft1zq5E2r/AB4h8G6HIOo83xpqV1Og%2BuRx718zxXOUcuSXdv8A8Bp1H%2BbR7PB%2BCjmfiRw5g5fDPH4Zy/w05Oq2/JKnf5H7A/sl%2BFP%2BEF/ZX%2BGngoxbDpHgDR7Nlx0MVlCh/HIr0GorGyttNsodOs4gkNvEscSD%2BFVGAPyFS19FRpqjRjTX2Ul9yS/Q4sxxk8xzGvi571Zzm/Wc5zf4yCiiitDjCiiigAooooAKKKKACiiigAooooAKKKKACiiigAooooAKKKKACiiigAooooAKKKKACiiigAooooAKKKKACiiigArxn9l//kt/7R3/AGWax/8AUK8L17NXjP7L/wDyW/8AaO/7LNY/%2BoV4XoA9mooooAKKKKACiiigAooooAKKKKACiiigAooooAKKKKACiiigAooooAKKKKACvGfHH/KQv4X/APZGfHn/AKdvCFezV4z44/5SF/C//sjPjz/07eEKAPIP2hr%2B4/Y7/wCCkngz9qfU9q%2BBfi/pMHgLxhdMMLperI5l066dum2TmEk8IquxPQVX/aQ1C%2B/YH/bosv21LgZ%2BGPxZgsPC/wAVZ9vGiajCDHp2qOR/yy2nyXJ4UbjklkWvon9q/wDZ08JftY/s9eKPgD4zwlt4g01ora82bmsrpSHt7lf9qOVUfHfaR0Jrxj9i/wAa2f7cf7G/iH9mb9q3RluvFvhR7nwR8VNKuHzJJcwjZHeKxGcyoqTJKAB5qsV%2B6DXzOJwtSGLlQg7Ob9rSb2VRfHF%2BUlrb%2BWU7bI7eBc/w3CHFlXDY6DqYHHRnGrBbuE%2BX2yg3oqkJRp4mi39um0/dlI%2Bqo5ElQSxOGVgCrKcgj1pa%2BQ/%2BCfPxw8S/BjxfqP8AwTV/ab8T58a%2BBxj4fa1fnZ/wl3hzBNtNETw80MamORASQI/4jHIw%2BvK9vA4yGOw6qJWe0k94yWji/NP71ZrRo9XinhzFcL5xLB1JKcGlOlUSfJWpTXNTqwvvGcWtN4yU4StKEkFFFFdZ86FFFFABRRRQAUUUUAFFFFABRRRQAUUUUAFFFFABRRRQAUUUUAFFFFABRRRQAUUUUAFFFFABRRRQAUUUUAFeM%2BOP%2BUhfwv8A%2ByM%2BPP8A07eEK9mrxnxx/wApC/hf/wBkZ8ef%2BnbwhQB7NRRRQAUUUUAFFFFABX48%2BCPCL3ei67oU0WZfH/8AwVH1u3mXH39OstYvC598OGr9hq/NHwX4U04ftMfs9/D3Ty0n9sftQfG7xXqIYD5ZLPxBq2wnHbooPtXhcQUfa4OP%2BKK/8ClCP%2BZ9v4a0L8d4TGP/AJhqeLrf%2BC8Fimn8nJP1sfpdRRRXunxAUUUUAFFFFABRRRQAUUUUAFFFFABRRRQAUUUUAFFFFABRRRQAUUUUAFFFFABRRRQAUUUUAFFFFABRRRQAUUUUAFFFFABXjP7L/wDyW/8AaO/7LNY/%2BoV4Xr2avGf2X/8Akt/7R3/ZZrH/ANQrwvQB7NRRRQAUUUUAFFFFABRRRQAUUUUAFFFFABRRRQAUUUUAFFFFABRRRQB5F%2B318QvGnwo/Yo%2BKfxI%2BHmsyaZrOi%2BBtRurLV4Ywz6aVgbdeKGBUmBd0w3ArmPkEZFedfA3xzqX7P2tftCeFPDt/48%2BIvhb4Z2mnavoGmz61feJdalupdGF3c6TbT3Mk1zdSPst544Wd2DagFXbGY0X6dvbKz1Kzl07UbSK4t7iJo54Jow6SIwwysp4IIJBB4INcp8Of2efgD8HtPsNJ%2BEfwO8H%2BFrXS5bmTTLbw54ZtbGOze4CC4aJYY1EZlCJvK4L7F3ZwKAPmX/glH8bfHvxR8ffHbRPif408e6xrNn420vUJoPF3hHXdKs9IN5oWnzS6fp8WrWsBgtop2mWOEKsjR7J5FJuPMk9Dv/GniTxD/wAFNvBfh3VvhH4h0Kz0n4PeOEsNe1W5057TWg2reEsvbLbXcs6BNoz9oigPzjaG%2BbHvGleFfC%2BhatqevaJ4bsLO%2B1u5juNZvbWzSOW/mSFIUkmdQDK6xRxxhmJISNVHCgDyjxx/ykL%2BF/8A2Rnx5/6dvCFAHs1fJP7XPwD%2BNvwF%2BNVz/wAFCv2MdLfV9cksYLf4q/DXOI/F%2BmwLhJoMAlb6FOEIBLKAACd0c31tRXJjMJTxlLkk2mneMlvGS2a/VPRptNWZw4/AUswockm4yTvGS%2BKMltJfk09Gm4tNM%2BZfFHgz9lb/AIK7/s0aN8RfBXiW5tLy0n%2B0%2BFvFmlnyNa8I6sm0lDtO6ORGCb4idrgKyn/VyDmPgt%2B3t43/AGdvFlr%2By5/wUxSLw34mWb7N4Y%2BKa25j8PeL4R9yQz4CWtzjHmRvtUHn5Nyqdb44/sFfEvwT8U9V/ao/4J8fE6DwN441aQXHinwhqsRk8N%2BLXXPNzCvNvO2T%2B/j5ySflZ3kOHpP7fX7Nfxss7j9k3/gpF8Irb4Z%2BLbtfI1Hwn8QoVfR9UI4E9jfsPIkQkgo25WDHCFiN1eBUnWw%2BIU6rVGvtzNfuqqW19fdl2u1OOqTnHQ%2Bo4d8QcNg8ujw7xjRdTC3bpzjJRlSnLeeGqSvGPPo6mFrWpVGrxcZpVD7FgnhuYUubaZZI5FDRyIwKspGQQR1FOr40sf2Nv2wv2Pof7V/4J2/Hyx8SeB8%2Bfa/CH4mzPc2kER52afqKnzYVwfkRjsydzM2TWv4a/wCCtfw08EarB4G/be%2BDvi/4HeI3k8nd4m0yS70a5k/6dtRt1aOVOvzkKox1NenHN6VFqONi6T7vWD9Jr3f/AALkfkfVVfDzG5lB1%2BGa8cxpb8tP3cTFb/vMLJ%2B1ulvKj9Yp6XUrWPrSisTwD8Sfh38VfD0Xi34Y%2BO9H8RaXMP3Wo6HqUV1A30eJmXPtmtuvVjKM4qUXdPqtT4CtQr4atKlWg4zi7NSTi0%2BzTSafk0n5BRRRVGQUUUUAFFFFABRRRQAUUUUAFFFFABRRRQAUUUUAFFFFABRRRQAUUUUAFFFFABRRRQAUUUUAFeM%2BOP8AlIX8L/8AsjPjz/07eEK9mrxnxx/ykL%2BF/wD2Rnx5/wCnbwhQB7NRRRQAUUV8/f8ABS46YP2a7X/hNPL/AOEK/wCFheF/%2BFkfaP8Aj3/4R7%2B2bT7b9qzx9j8v/j53fu/s3n%2BZ%2B730AfQNFfnfqPij4cv/AMEzPjR4I%2BGPifT4fBU3ji/f4d2%2Bj3EbWdj4Un1uC3N/5CZL6BHc/b3cRgQvYRSpEwjKEeYX9j8RNQ/Yd%2BMPwi%2BCXwttviF8Lr3x94in8V%2BJ/gW2k6R4au9Lh8N6bPHbaRY32pottp0l3I0N4tvcXm%2BWx1McteFYQD9X6/N/9ma/tNa/4KVeFdNvpwsXgy1%2BL%2BuuSCfL%2B1/EPWbEHA5ySAoxyc4r7F/Zr8Q/EK//AGJPAPiHwj8OYofETfD7SmsvDnizWks08wWsQCT3Nkl6sSkDdujWXggEZyB8O/8ABMG48S%2BOP28fjD4q8Z6TY2Wr%2BFb7V9F1Oz0zUXvLa0nu/iNq99JFFO8MLSoGB2u0UZYAEoucDyc1954en/NVh/5LzS/RH6BwB%2B5Wb4v/AJ9YDE/fVdCgv/Tkl8z9KP8AhMNJ/wCfTVP/AAR3f/xql/4TDSf%2BfTVf/BHd/wDxqvnbx9/wWR/4JvfC/wAd618NPHP7Rv2HW/DurXOmaxZf8IhrEv2e6t5Wilj3x2jI%2B10YblJU4yCRzWT/AMPy/wDglp/0dD/5ZOt//IVVLPMlhJxliaaa/vx/zM6Phb4mYijGrSyTFyjJJprD1Wmmk001CzTTTT6pp9T6f/4TDSf%2BfTVf/BHd/wDxqj/hMNJ/59NV/wDBHd//ABqvnbwD/wAFkf8Agm98UPHei/DTwN%2B0b9u1vxFq1tpmj2X/AAiGsRfaLq4lWKKPfJaKibndRuYhRnJIHNd9%2B398YPiZ%2Bz7%2BxN8U/jj8G7TTZvE/hLwPqGq6OurzMlussELSb32xybtqhmCbcOyhCyBi69eFxuDxsXLD1IzS35Wnb1sfP55wzxJwxWhSzjBVcNKabiqtOdNySdm0ppNpPRtddD0v/hMNJ/59NV/8Ed3/APGqP%2BEw0n/n01X/AMEd3/8AGq%2Be9T/bc%2BNvhX4h%2BOfBfxC%2BBXgTQtP%2BGXw8tPE3jnxPd/FS6Njbvdxao1vbW2NHEs6h9PjEsrpEUS4LRxzOgik5n4bf8FKtX%2BKuqeGdD1b4T6v4X1uL40S%2BDvEOkLLeW0MiHwfqGvwz7dY0e0vXhdIYk2/Z7SQSoGWWSFStx0nhn1V/wmGk/wDPpqv/AII7v/41R/wmGk/8%2Bmq/%2BCO7/wDjVfPP7JX7fPxJ/aH0/RLjxz%2BzB/wj934s%2BE2i/EHwnpfh7xrDqs91p18wR4JzcQWUVvcQl4mKh5EdHyHDKY66n9qvxZ8VdS%2BLXwv/AGePhb8V9Q8CN42utYutW8V6NptjdXsVvYWQkW2gW/t7i3VpJpoWZnic%2BVBKq7WYSIAeu/8ACYaT/wA%2Bmq/%2BCO7/APjVH/CYaT/z6ar/AOCO7/8AjVfOUH7Qn7SPxP8A%2BCZHhD4//D60uf8AhOdd0jw7N4hu/Cuhre3FvaS39pFrGoadZSLIJ5UszeXNvAVl3Msa7JziN%2BL8BfHH9pX40fs1fEHUPAvi7426hrvwz%2BJV/oelXPh3wp4X0zxJ4osxY2l5by3lnr1nDaQbBehGSOK2mbyB%2B7Vy0VAH2D/wmGk/8%2Bmq/wDgju//AI1R/wAJhpP/AD6ar/4I7v8A%2BNV8LQftoftM%2BMvAUP7QWk/HHT47LwN4E%2BGmq6t4e8N6JbNpXjO412RH1KUveW5vIYWhkEdmsTwPHKrNMJgfKX1PxN8e/F3wA/al8UT%2BKf2lta8W/D/wh8P9d8W/Fyz1XQNMWy8CW6GK40yC2msrSK4aeS3W8PkXElzI8MAlJj3R%2BaAfSv8AwmGk/wDPpqn/AII7v/41V%2Bwv7TU7RL6xnEkUgyrAEd8EYPIIOQQeQRXyX/wS4/bV1v8Aa38UfGO18V/tA%2BDPF9xo3i3TrrQ9D8H6zpt7F4c0u90eyuUsfOsi32ryZ3uIXuXZxJPDOEKoqxp9S%2BD/APkEzf8AYUvv/SuWgDVooooAKKKKACiiigAooooAKKKKACiiigAooooAKKKKACiiigAooooAKKKKACvGf2X/APkt/wC0d/2Wax/9QrwvXs1eM/sv/wDJb/2jv%2ByzWP8A6hXhegD2aiiigAooooAKKKKACiiigAooooAKKKKACiiigAooooAKKKKACiiigAooooAK8Z8cf8pC/hf/ANkZ8ef%2BnbwhXs1eM%2BOP%2BUhfwv8A%2ByM%2BPP8A07eEKAPZqKKKACua%2BKvwb%2BFHxz8JzeBfjF8O9H8TaRPy9hrVglxGGxjeu4HY47MuGHYiuloqZwhUg4zSae6eq%2B5kVKdOrBwmk0900mn6p3R8gv8A8Ev/AB78C5pNR/YA/bK8ZfDK2Ehki8E65t1/w8pJyUjt7ol4A3QuGdh26Cqut/Gf/gp18NdGn8KftLfsGeDvjFoDoY77Vvhp4gRfPi9X03UFLzMR1VcLnpxivsiivKeT0aa/2acqXlF3j/4BPmj93KeRDJKeEmp4CtUw7Wq5Je6n0tCXNFf9uuFulun5WeJ9c/4I4Xfiw634p8D/ABe/ZT8a3D7Re2Wjan4cnjk64VbZZ7VADkg7FGK9R%2BG/iT9o6NI/%2BGQv%2BCzXwv8Aida8fY/DPxRtLOW5Host1aSfa2J/2kB9q%2B%2B9S0zTdZsZNM1jT4Lu2mXbNb3MSyI49CrAgj614z8Rf%2BCbf7BXxVaSXxp%2ByX4HkmmyZrrT9CjsZ3J7mW2Ebk%2B5Oa8yWRYqlJyouF%2B8eei/n7OUoP5wPvKPiR4p0aUaOMxVDMKcVZRxlCNVpdlOaqTj/wBu1Y26WPNE/ah/4Kn/AAzUD4rf8E8dA8aWqD99rXww%2BIcKKR/eS0vFMz57DNOH/BX34VeFP3Xx6/Ze%2BOHw5aPie68S/DidrRfUrLbtJvX3C0N/wRg/ZK0Bi3wZ8ZfFL4cEHMX/AAg/xJvoPKP%2Bz57S4o/4d1ftSeExt%2BE3/BVr4uWYT/Vf8JhZWWvkf73nKm78aXJxLh/hbl6ulP8AONKX4mn%2BvGU4n/kZ8K0r9ZYTGVaP3U6vtofLReR1fgj/AIK1/wDBOL4gbP7D/a18L2xfoNcabTCPr9sjix%2BNeu%2BDv2gPgP8AEQIfh/8AGzwjrok/1f8AY/iS1ut308uQ5r5N8b/sH/8ABRTxCGXxR%2B0p8EviYD97/hYnwNs4/N/3vID9favI/GH/AAS0/ak1Mv8A8JT%2Bwt%2ByD4giPfwpca9oUzD/ALZPGin/AHeKP7U4gpfHhub/ALdkv/SZzX5i/trwtxH8TB5phX5QweKivnGpQm/uP08or8lf%2BHeH7UvgT/kSf%2BCdGvaSE%2B4fht%2B1VJp%2B3/cF95uPxpR8Nf8Ago74G50vwV%2B2NpOzpF/wubSPEsUfsqmCPI9s0f6x4un/ABcJP5c3601%2BYX8Lq38POq9Lyr5Zi4/fKjOtH8z9aaK/Jb/hfP8AwVY8E823jH9qiONOsF7%2BzNo2tg/WVbpG/ECj/h5P/wAFOPCX/IQvfEc23r/wmn7Nd/Y5/wB77HM%2BPwo/1twcf4lGpH/t2/8AkH9m8FVP4PEuC/7iRxtF/P2uBsv/AAJn600V%2BTMX/Bbv9t3w1/yOOlfB9416%2Bd4H8YWcpH%2B1mB1B%2BlSW3/Bxp8QdLl%2Bz6x8J/h1qki/eSw8QatYk/jdWGB%2BNP/XPIV8cpR9Yv9GwWQZVUdqOe5ZP/ufow/8ATsKJ%2BsVFfl5ov/ByK9yQusfsg6ZGveW1%2BMVgd3uFkt0I/Gulsf8Ag42%2BDqKG8Qfs6atB/e%2Bw%2BN9IucfT98ma2jxdw7P/AJf29VJfoV/qpi5O1LGYKp/gzDAS/LFo/R6ivzyt/wDg5N/YthYRa58JfiTbseptLPS7lR%2BK34/lXRaP/wAHDX7BOrAF9E%2BItqD3m8Kxtj/v1O9bR4o4dm7LFQ%2B9/wDyJq%2BB%2BJuXmjShJf3cRg5f%2Bk45v8D7ror43sP%2BC8P/AATuuwDe%2BNfFFkD1N14KvTj/AL9o1atn/wAFx/8AgmBcsI5/2kpLVz/BdeDdYX9fshH61us/yOW2Jp/%2BBJfnYlcDcYS%2BDA1Jf4VGf/pFWZ9Z0V8y6f8A8FkP%2BCZ%2Bp4%2BzftX6Kuen2jTL6L/0OAVtWP8AwVT/AOCdeo4%2Bz/te%2BDFz/wA99RMX/oaito5xlMtsRD/wOP8A8kJ8Dcar/mWYj5Uaj/KEj6Aorxex/wCCjX7AuoY8j9sv4aLn/nv4ys4v/Q5BWvZftxfsV6jj%2Bz/2v/hdPnp5PxA05v5TVtHMMBLatD/wOP8A8kc9ThHi2j/Ey7EL1w9f/wCUnqNFcHZ/tS/sx6jj%2Bz/2jPAc%2Benk%2BL7Jv5S1q2nxt%2BDGoY%2BwfFzwxPnp5Ov2zfyetViMPLacX81/mcFTJs4o/wATC1Y%2BtOovzpo6eisu08b%2BC7/H2Hxfpc2enk6hG2fyatGC5t7ld9tOki%2BqMCP0rVSjLZnDOjWpfHFr1TX5pD6KKKZmFFFFABXjPjj/AJSF/C//ALIz48/9O3hCvZq8Z8cf8pC/hf8A9kZ8ef8Ap28IUAezUUUUAFFFFABRRRQAV%2Bc3/BITw8x%2BPv7Ynjx1yLz9pm801HPb7N4i1FiB/wCBAr9Ga%2BJP%2BCUHhdtG8C/tDeIZo/3mtfto%2BN5UcjrFH4jEKj8GR/zrgxdP2mKw7/llJ/8Akkl%2Bp9bw/jVg8gziN9atGlT%2B/FUpv/02j7bor5i8f/8ABTX/AIQLx3rfgX/h3z%2B09rX9i6vc2H9saB8J/tNhf%2BTK0fn20v2kebC%2B3ej4G5WU4GayP%2BHsP/WNT9rT/wAM3/8AdVZSzrLIycXU1X92f/ys/OZcQ5NCTjKrqtPhqdNP%2BfR9aVi/Ef4eeDPi58Ptc%2BFXxG0GLVfD/iXSLnS9c0ydmVLq0uImimiJQhgGRmGVIIzkEHmvnzwD/wAFNf8AhPfHei%2BBf%2BHfP7T2i/21q9tYf2xr/wAJ/s1hYedKsfn3Mv2k%2BVCm7e74O1VY4OK9m/aT8YfE74efALxf8Qfgz4ctNZ8T6DoFzqWj6Lewu6alJAhlNqAjoQ8qo0aNuwrurEMAVPXhsZhsZFyoyulvpJf%2BlRj%2Bp24PH4PMIuWHlzJaPSS8/tRj%2BFzGg/Y1/Z4Xwr4p8Han4Q1LV7Pxr4bt9B8VS%2BIvFep6ndalYQfafJjkubu5kn3p9rnxKHEo3L8/yJtzvA/7BX7LXw91Jdc8P%2BAtSm1IeLh4ol1bWvGOraleXGrjSJtGF3NcXl1LLOw0%2BeW3xIzLtKnG5EZfDfEf/BR/4m/Ejwtc%2BMf2XG0PVbDxH47m0j4USxeEl1RvEGnWGkLdareyNc63pVtDHFd%2BfAHa4XaLNwElaQeXxPg39ur4jfFzxHonx4svtNrp3jz4Zfs76rH4UbX737DpU/iLxdrttfyQfZp4tzmLyUZjlJ1tYVmSWJfKPSdh9h%2BGP2TvgR4JsdEsPB3hO90pfDnga08HaJNp3iPUIZrTRbV43gtVlScOdpijzIWMjAEM7BmB0fjf%2Bz18Kf2idE0/Q/ilo%2BozDSNRN9pF/oniK%2B0i%2BsbgwywM8N5YTQ3EW6GaaJwkgDpIysCpIr5N%2BCf7VP7UHxu/ak%2BEHjDU/FXhH%2BxPHfwt8f634c%2BHulXV7p7Wslnf6NBbQatKZrhLqWPzSjXCW0RtpHuEWKTOT7d%2B2/q3iSfTPhR8N5fFWq%2BHdI8d/Few0PxnqXhvXbjT7qGzOn390kEN7btFPb%2Bfe2tna%2BZG0cjLcFVKlxQB6FJ%2Bzv8ACxPAY%2BGGjWOsaLoEXhyw0Ky0zwz4r1HSo9PsbMk26Wn2O4iNm6g7TLAUldERGdljRV527/Yl/Z%2Bn%2BHmnfC2xsPFul6Rpt1eXIOgfEvXtNu72e7cyXMt7d2t7HcX7yuS7tcySlmO4knmvL/hFqP7QvxT/AOCbfjfQ/hP8SbufxpZ6l478OeAfFmsaqWuLi30/XtU0/TLiS8lDlpTa20A%2B1uHLtidt%2B454r9n2z%2BKvxZ0743/As%2BC/H1hYeEvFOjHwT4e8cftCataarDfy6VFPd6fd%2BINJur66SMbkuhCs11tW6TcqqyxRAH0Jqf7C/wCytqfiXwv4ob4UpaS%2BDtN0nT9CsNL1i9s9PFrpcxn0yGexgmS2vEs5SZbcXEcggcl49jHNT/CX9jX4EfA34j698VPhla%2BLLHVPE%2Bt32sa7b3PxJ1270%2B7v7tg09w1hcXsloHOFVSIh5aoqJtVVA%2BDp/jV8XPF/7NGpa/4w/aS8ZaZq/wALv2a/EXinw1f6X4su7YXvifTtY1Gzma4eGYf27BZvYWVsv2jzYrtLwSyRl7hdv0v4r8ET%2BKf%2BCinwxsPCfjXx/pV/YeG7/wAd/E7S4fifrj6S0JgGmadpr6Y14bJI5rme5uQEhXLaM2T8zBgD6P8AC3wx8D%2BCvFfibxv4Z0P7NqnjHUoL/wASXX2mV/tlxDaQ2cb7XYrHiC3hTCBQdm4gsSTa8H/8gmb/ALCt9/6Vy1qVl%2BD/APkEzf8AYVvv/SuWgDUooooAKKKKACiiigAooooAKKKKACiiigAooooAKKKKACiiigAooooAKKKKACvGf2X/APkt/wC0d/2Wax/9QrwvXs1eM/sv/wDJb/2jv%2ByzWP8A6hXhegD2aiiigAooooAKKKKACiiigAooooAKKKKACiiigAooooAKKKKACiiigAooooAK8Z8cf8pC/hf/ANkZ8ef%2BnbwhXs1fOH7R%2Br/GvR/28PhPP8Dvh/4W8Rak3wj8drd2nivxhc6LBHB/anhIl0lt9PvWd920bDGowSd%2BQFIB9H0V4z/wnH/BQv8A6Nf%2BDP8A4fjVv/mXo/4Tj/goX/0a/wDBn/w/Grf/ADL0AezUV4z/AMJx/wAFC/8Ao1/4M/8Ah%2BNW/wDmXo/4Tj/goX/0a/8ABn/w/Grf/MvQB7NRXzjpP7R37dusfGfX/gdb/sofCRdU8O%2BF9I128uX%2BOuqeRJBqNzqVvCiEeGNxdW0ucsCoADx4LEsF6j/hOP8AgoX/ANGv/Bn/AMPxq3/zL0AezUV4z/wnH/BQv/o1/wCDP/h%2BNW/%2BZej/AITj/goX/wBGv/Bn/wAPxq3/AMy9AHs1FeM/8Jx/wUL/AOjX/gz/AOH41b/5l65fwD%2B0d%2B3b8RPFfjfwho/7KHwkhuPAfiiLQtVkufjrqgSeeTStP1MPFt8MElPJ1GFSWCnejjGAGYA%2BjqK8Z/4Tj/goX/0a/wDBn/w/Grf/ADL0f8Jx/wAFC/8Ao1/4M/8Ah%2BNW/wDmXoA9morxn/hOP%2BChf/Rr/wAGf/D8at/8y9H/AAnH/BQv/o1/4M/%2BH41b/wCZegD2aivnH4RftHft2/GXwpd%2BL/Dn7KHwktrez8Ua3oUkd78ddUVzPpeq3WmTuNvhhhsaa0kZDnJRlJCnKjqP%2BE4/4KF/9Gv/AAZ/8Pxq3/zL0AezVFd2Fjfx%2BVfWcUyf3Zoww/I149/wnH/BQv8A6Nf%2BDP8A4fjVv/mXo/4Tj/goX/0a/wDBn/w/Grf/ADL0bg0mej3/AMKPhbquf7U%2BGugXOev2jRoHz%2Ba1i337MH7NOp5/tL9njwNcZ6%2Bf4Ss3z%2BcVcl/wnH/BQv8A6Nf%2BDP8A4fjVv/mXrl/gj%2B0d%2B3b8ePgx4Q%2BOPhX9lD4SWul%2BM/C%2Bn67pttqHx11RZ4YLu2juI0kCeGGUOFkAYKzDIOCRzWUqFCXxQT%2BS/wAjCWGw0/ipxfrGL/NHe3v7D/7FmpZ/tH9kL4XT56%2Bd4A05v5w1lXn/AATp/YHvs%2Bd%2Bxl8MVz/zx8E2Uf8A6BGKP%2BE4/wCChf8A0a/8Gf8Aw/Grf/MvR/wnH/BQv/o1/wCDP/h%2BNW/%2BZesXgMBLejD/AMAj/wDImEssyyfxUIP/ALch/wDIGXd/8Eu/%2BCeV7nzv2PfAq5/55aIkf/oOKzrr/gkl/wAE37vPm/sjeFhn/nkkyf8AoMgrpf8AhOP%2BChf/AEa/8Gf/AA/Grf8AzL1y/wAbv2jv27fgP8GPF/xx8VfsofCS60vwZ4X1DXdSttP%2BOuqNPNBaW0lxIkYfwwqlysZChmUZIyQOazeVZXLehD/wCP8A8iZSyTJZb4an/wCC4f8AyJSuf%2BCNf/BM27z5v7J%2BjDP/ADy1S/T/ANBuBWfc/wDBEj/gl7df639li2Gf%2BefinV0/9BuxXov/AAnH/BQv/o1/4M/%2BH41b/wCZej/hOP8AgoX/ANGv/Bn/AMPxq3/zL1m8lyZ74an/AOAR/wAjJ8O8Py3wlL/wXD/5E8tn/wCCFn/BLibPl/s0yRZ/55%2BNdZ/reGqc/wDwQY/4JiTf6v4F6hF/1z8Zamf/AEK4Nevf8Jx/wUL/AOjX/gz/AOH41b/5l6P%2BE4/4KF/9Gv8AwZ/8Pxq3/wAy9Q8hyN/8wtP/AMAj/kOHD%2BRU/gw1NekUvyseKz/8EBf%2BCaMv%2Br%2BFeuRf7ni69/rIaqTf8G%2Bn/BN2X7ngnxPH/ueK5/65r034u/tHft2/BrwpaeL/ABH%2Byh8JLm3vPFGiaFHHZfHXVGcT6pqtrpkDnd4YUbFmu42c5yEViAxwp6j/AITj/goX/wBGv/Bn/wAPxq3/AMy9Q%2BHchf8AzCw/8BR0RyvAQ%2BGFvSU1%2BVRHgE3/AAby/wDBOiX7mjeMo/8Ac8Ut/VDVaT/g3Z/4J6sd0EnjyE9mi8TpkfnAa%2BiP%2BE4/4KF/9Gv/AAZ/8Pxq3/zL0f8ACcf8FC/%2BjX/gz/4fjVv/AJl6h8NcPv8A5hYf%2BA/8E3jhacPhlNelWsvyro%2Bdl/4N4/2H4Dmx%2BIHxTtvTyPFkA/nampov%2BCAH7KNt/wAeHx9%2BNlt6eR42t1x/5J19B/8ACcf8FC/%2BjX/gz/4fjVv/AJl65fx9%2B0d%2B3b8O/FfgjwhrH7KHwkmuPHniiXQtKktvjrqhSCePStQ1MvLu8MAhPJ06ZQVDHe6DGCWU/wBWsgW2Gj%2BP/wAkN4eMt5z/APBtf/5eeX2//BCb4C2RzYftb/tB2%2BOnk/EG3XH/AJJ1oW3/AARV%2BHNj/wAeH7dn7TMGOnk/E%2BJf5Wde0f8ACcf8FC/%2BjX/gz/4fjVv/AJl6P%2BE4/wCChf8A0a/8Gf8Aw/Grf/MvVrh7JY7UF98v/kznnlmEqfFzP/uLW/8Al55FF/wR/sLT/jw/4KN/tSw46bPiuB/K2FN%2BBf7Jd5%2By5/wUM8G/af2nfir8R11z4M%2BMtg%2BJviw6p/Z3k6t4Wz9myi%2BX5nmjf/e8qP8Au16//wAJx/wUL/6Nf%2BDP/h%2BNW/8AmXqh4H8D/tWeMf2rPDnxu%2BN3w4%2BHvhnRvDPw98Q6HDD4V%2BId9rV1d3WpX2iXCMyXGkWKRRomlygsHdi0qALjJHRQynL8LVVSlCzXnP8AJza/AmhlWAw9ZVacXzLq51H%2BEqkl%2BDPdaKKK9E9EKKKKACiiigAr5y/Yh8Mab4W/Z48WXtj5hF7%2B0N4/1O%2BdhnB/4TzVN7cDoqRj8Fr6Nr5K/ZK8Wftnaf8AD3xRZ/DH4B/DDV9CT40/EX%2Bz9R174u6jpt3Mv/CZ6yWMltFoFykRDbgAJnyADkE7Qmk2n2LjUqRhKCekrX87O6%2B56n1B/wAJz4J/6HDS/wDwYR//ABVL/wAJz4J/6HDSv/BhH/8AFV5b/wAJx/wUL/6Nf%2BDP/h%2BNW/8AmXo/4Tj/AIKF/wDRr/wZ/wDD8at/8y9Mg9S/4TnwT/0OGlf%2BDCP/AOKo/wCE58E/9DhpX/gwj/8Aiq8t/wCE4/4KF/8ARr/wZ/8AD8at/wDMvR/wnH/BQv8A6Nf%2BDP8A4fjVv/mXoA1L74GfsUap8ONJ%2BDup/B34W3HhHQL37ZoXhWfw9pr6bptzukbzoLYp5UMm6WU70UHMjnPzHOhp/wAOP2UdJtbWy0rwH8PbaGytNJtLKG30uxRbeDS55LjTIkAUBEtJ5ZZbdRgQSSO8YVmJPmfwR/aO/bt%2BPHwY8IfHHwr%2Byh8JLXS/GfhfT9d0221D466os8MF3bR3EaSBPDDKHCyAMFZhkHBI5rqP%2BE4/4KF/9Gv/AAZ/8Pxq3/zL0Aatj8D/ANirS/FOt%2BOdM%2BEHwut9b8SwXUPiPWIPD%2BmpdarHdY%2B0pcyhN86y7V8wOSHwN2cV0HjfSvgB8TPBFz8MviRpvg7xB4bvIUiu/D2uQ2l3YzxoysiPBKGjZVZVIBXAKgjoK4r/AITj/goX/wBGv/Bn/wAPxq3/AMy9H/Ccf8FC/wDo1/4M/wDh%2BNW/%2BZegDqh4J/ZhHh638Ijwj4DGk2nhufw9a6X9gsvs8OkTiNZtOSPbtW1kEMQeADy2ESAqdoxh3X7Pn7DF98LbX4HXvwQ%2BE83gqyvzfWfg%2BXw1pjaXBdHfmdLQx%2BSkn7x/nChvnbnk1xPxu/aO/bt%2BA/wY8X/HHxV%2Byh8JLrS/BnhfUNd1K20/466o080FpbSXEiRh/DCqXKxkKGZRkjJA5rqP%2BE4/4KF/9Gv/AAZ/8Pxq3/zL0AbviD4TfsgeLLHwxpfir4afDbU7bwTLHL4Mt9Q0bT5o9AdAgRrJXQi1KiNMGLaRsXHQV0lpd/B6w8UX3jexuvDUOtanZ21nqWrwvbrdXdvbtM1vDLKPnkjia4uGRWJCGeQqBvbPn3/Ccf8ABQv/AKNf%2BDP/AIfjVv8A5l6P%2BE4/4KF/9Gv/AAZ/8Pxq3/zL0Aeo/wDCc%2BCf%2Bhw0v/wYR/8AxVHgw79DM6g7Jr67liJGNyPcyMrfQqQR7GvLv%2BE4/wCChf8A0a/8Gf8Aw/Grf/MvXL/F39o79u34NeFLTxf4j/ZQ%2BElzb3nijRNCjjsvjrqjOJ9U1W10yBzu8MKNizXcbOc5CKxAY4UgH0dRXjP/AAnH/BQv/o1/4M/%2BH41b/wCZej/hOP8AgoX/ANGv/Bn/AMPxq3/zL0AezUV4z/wnH/BQv/o1/wCDP/h%2BNW/%2BZej/AITj/goX/wBGv/Bn/wAPxq3/AMy9AHs1FfOPj79o79u34d%2BK/BHhDWP2UPhJNcePPFEuhaVJbfHXVCkE8elahqZeXd4YBCeTp0ygqGO90GMEsvUf8Jx/wUL/AOjX/gz/AOH41b/5l6APZqK8Z/4Tj/goX/0a/wDBn/w/Grf/ADL0f8Jx/wAFC/8Ao1/4M/8Ah%2BNW/wDmXoA9morxn/hOP%2BChf/Rr/wAGf/D8at/8y9cvq37R37duj/GfQPgdcfsofCRtU8ReF9X12zuU%2BOuqeRHBp1zptvMjk%2BGNwdm1SAqApBCSZKkKGAPo6ivGf%2BE4/wCChf8A0a/8Gf8Aw/Grf/MvR/wnH/BQv/o1/wCDP/h%2BNW/%2BZegD2aivGf8AhOP%2BChf/AEa/8Gf/AA/Grf8AzL0f8Jx/wUL/AOjX/gz/AOH41b/5l6APZqK%2BcdJ/aO/bt1j4z6/8Drf9lD4SLqnh3wvpGu3ly/x11TyJINRudSt4UQjwxuLq2lzlgVAAePBYlgvUf8Jx/wAFC/8Ao1/4M/8Ah%2BNW/wDmXoA9morxn/hOP%2BChf/Rr/wAGf/D8at/8y9H/AAnH/BQv/o1/4M/%2BH41b/wCZegD2aivGf%2BE4/wCChf8A0a/8Gf8Aw/Grf/MvXL%2BAf2jv27fiJ4r8b%2BENH/ZQ%2BEkNx4D8URaFqslz8ddUCTzyaVp%2Bph4tvhgkp5OowqSwU70cYwAzAH0dRXjP/Ccf8FC/%2BjX/AIM/%2BH41b/5l6P8AhOP%2BChf/AEa/8Gf/AA/Grf8AzL0AezV4z%2By//wAlv/aO/wCyzWP/AKhXhej/AITj/goX/wBGv/Bn/wAPxq3/AMy9W/2Vvhz8afB%2BsfFDx38dNA8L6Tqnj74hRa5Z6V4T8S3OrW9raxaDo%2BmKr3FxZWbNI0mnSuVEW0LIg3Mc4APW6KKKACiiigAooooAKKKKACiiigAooooAKKKKACiiigAooooAKKKKACiiigAr5X/ae/a0%2BLnww%2BMfizWvAPh3wfJ4Y%2BD/AIf8P3vjU61pFxNquqW%2Br38qXMFhcR3EaWXkW1nHcZkinFzIUjIh8vzT9UV4z8Z/2Ifhx8bvikfiZrnjnxVpcWo2ukWvi/w1o11app3imDS72S9sYr5ZbeSYLHNNLn7PLAZY5DFMZYwqAA9mooooAKKKKAPmPw5%2B0r8TIf2//FHwf%2BI2seHvCfhtfEFpongyLUfhFrKXXjGAaBBqOIPEbXa6c0sd3c6gBaCF5PLtJgFBZpF%2BnK8r8WfstQeP/jJpHxT8e/G/xrq%2BleHtdj1rQPAFwdMi0ax1CO3eCOcNDZJey7PMkkVJrqSMSPu2fIgX1SgAooooA8X/AOCgvxd%2BOH7P37I/jT49fAK98KR6x4J0K71y6g8YaLc31td2lrbSzPboltdWzJK7IiiQuVQFiUfgV5/48/a0%2BLngv48eLdT8KeHfCEXw88IfGPwj8PvGVnNpFwdb1XVddg0VI9Qhu0uFhjjg/tzSYzFJbyvIkM%2BJY9qCvYf2sf2cbL9rT4Ea9%2Bz7rXxV8U%2BEdJ8T2Utjrl/4QXTvtdzZSxPFNbbr%2B0uo0R1flkRZAVG115zxcH7APg6f4i2fxF8VfHHx9rrHWdJ1zxNo2oS6VFY%2BJ9c0xI0sdWvY7awiZbiIQWmFtmggY2NsXiYx5IB73RRRQAV4v%2B2T8Xfjh8ErXwD4x%2BFl74U/sbUPiZ4c8PeL7HxBotzc3Vza6rrNjpoNnLDdQpbSRrcyyb5EnUlEXZyTXtFeVftXfstv%2B1V4b0LwvP8AH3xv4Gt9C8SWGuo3guHR2e7vbG8gvLNpTqWn3g2xXFvG4WMIG5WTep2gA84/Z5/aV%2BJmt/tVeLfgj8UNX8PeE9Oh8U63b%2BCfCUnwi1nTLnXraF0lN/b61cXf2DUHYyTSyxW0BfkuxXDE/TleS6T%2ByiH%2BMmi/GX4j/tAeO/Gs3he7vLvwnoXiEaTDYaPdXNvJayXES2Gn20sr/Z5p4V8%2BSVUWd9oBII9aoAKKKKAPD/27vi58eP2fvg1q/wAdfhR4x8C2On%2BFtFuby90XxZ4Zvb%2B58Q3uUWz0yzktr2D7PNcSkW6N5V0zSzxBYWPyt5/8Ef2vvjPrnxL8Ff2t4M8JaR8NPG/xP8UfDbwr4a07S5o9X0S/0CHVt889yLhreaCRvD%2BposMdvEY1a2PmSZYD0/8AaV/ZBg/aS8eeCPiBN%2B0D478IXPgG7ub3RbHwxFo09nJeyoI1vJoNT068R54Y/MWGQBTGJ5SPmbIq%2BA/2Gvh74D%2BMtv8AF2H4i%2BLtSg07XdT17RPCGpXNl/ZOla3qMbx6hqkCRWqT%2BfOJ7ssrzPCjX1yY4o/M4APa6KKKACvl/wDa5%2BPH7S/wW%2BImn%2BFNKh8AeNdH8cw61baL8OYvB99JrCWtpod1dyX9xOL14rq2F1Fb20kItYgft8KCYyMiSfUFeHTfsTXEf7R/iv8Aaa0T9qv4l6dq/i3TYdOudLhg8Pz2mn2cMDRw21m1zpMtzbxLK73WxZtrzuXcODtoAZ%2Bwh%2B0H43%2BPfw9vLr4r%2BPtGvvF2nCzbX/Ddl8LtX8I3mgPPbLKILmy1e6nuHBbf5dwAkciodobaTXuleb/A79m7Tvgz4n8SfEPWPil4p8ceKvFcVjb6x4n8XNYLcvaWYm%2By2qRafa2ttHFG1zcuNsIZmuJCzNkY9IoAKKKKAPjn/goJ%2B3H8VP2MPHP9p65ougeMfCL6NqOt2/hWX4c6nZS26abo19qSSf8ACRTXT6ZPd/a9NGyxWBLoRzLKBthaRvXv2aPi78c9W%2BKnjf8AZ6/aOufCmoeJ/COk6HrUeteCtIubCxubHVBeRpEYLm5uXWWK4067Uv5uJEMTbIySorfHX9hLwR%2B05rV1a/H/AOLfjXxR4LuZLiRfhleSabDosUk1jNZM2%2B3so76QCO4mYJLdOgd9235EC9P%2Bz5%2BzNpHwDvNe8RXfxQ8WeOPEfiQ2cereKvGtxZvfS21pEYrW1H2O2t4ViiDysMR72eeV3Z2cmgD0qiiigAr4j/an/bK/az%2BDfxq8QfCjwd4b8OeNdTsNFuNd8MBPgf4gjk0UDUdMtUMLfbnHiaQWOqXHnf2X5TwtCVlEYmEdfbleH69%2BxbqfiXx6fidrX7XPxRm1vT4LyLwbeFNAA8KrdTQyT/ZIxpOydmjgW33Xq3TLEzhSruzkA6r9lj4sP8ZPhHB4svfiZo3iq/h1G6stUvtG8GX3h0W1xFKytazabqFxPdWc8YwrxzOHz821QwFejVw3wD%2BAvh74AeGdT0bSvFOt%2BINR1/XrjW/EniTxHNA17qt/MERp5RbxQwJiOKGJUhijjVIkAUYJPc0AFFFFABRRRQAUUUUAFFFFAFHxR4hsPCXhrUfFeqhza6ZYzXdyIly3lxoXbA7nCmvnP9ib9pP41%2BP/ABTo/gz42eHvBlmPHXwtsviN4Zh8GaVcWg0yO8uCbvT7szXEou5o3ubZ/tiCATtLMTBHtBf6Wu7S1v7WWxvbdJoZo2jmilUMrqRgqQeCCOMV5D%2BzN%2BxX4C/Zg1V9X0D4g%2BLfEstt4YsfDPh0eLL21mGgaFZvI9vptqbe3hLRqZPmlnM1xII4vMmfy1wAexUUUUAFcL%2B1B48%2BIvws/Zo%2BInxO%2BD/hRde8W%2BHPAur6p4W0NrGa6Go6jb2csttbGGBllmEkqInlxsHbdhSCQa7qs7xbol/4l8Mah4f0vxXqOhXN7aSQ2%2BtaQsDXVi7KQJohcRSxF1PIEkbpkfMrDIIB5d%2BxT8Wp/ih8M76y1b4heH9Z1Pw7qq6deaZonww1Pwc%2BhoLaCSKzuNK1S5nuYXCOJFdvLR4pYtiYG9/Yq88%2BA/7O2k/A688S%2BI7n4ieJPGPiTxfqMN54i8U%2BK3sxd3Rht0t4IhHY21tbRRRxoAqxwpks7MWZmY%2Bh0AFFFFAHy5%2B1R%2B1j8UP2cPi944sviVo3hLxF8L7D9nfxf49ttCt9EuE1V20QaWs9tcXMly9vNFOt9OAgtkKhEy75YV2/7M/xf%2BPmqfFzxl%2Bzr%2B0s/hK88UeGPDHh7xLHqvgrSbmxspLLVn1K3W2MNzc3LmWG40i7BlEgWRHiby4zuWoPjH%2Bwr4d%2BOnx1b4y%2BPPjt45l02bwVqfhG%2B%2BHsMGi/2Jd6NqS232%2B0kL6a16RO1pA7OLoOpQhGRGZD0n7O/wCy7of7Pt9rXiOf4oeLfG/iHX7Wwsr/AMT%2BNrm0kvTYWKSLZ2Y%2ByW1vH5URnuHBKGR3uZXd3Zs0Aen0UUUAFfInxr/aX/a28Ga7%2B0B4Et/CvgzxZe%2BAvD/hTxJ8NrHSfh/qd/Oseo6rqUIS8tYrx5dRngXTY51NsLclyQq/KrV9d14XL%2BxR4hi%2BOnjb4/6F%2B2h8VtK1bxvpFjplzY2Vn4Ya0022sri5ns0thLoryfujeXSgzPKXWciTzCqFQDq/2VPi3N8ZfhSPE2o/E7RvFOo2uq3Njq11o/gi/wDDZs7iJvmtZ9M1G4nurSdFK7kmYMQyttVWFek1wnwD%2BAegfAHQtZsdP8W654j1XxN4gl1zxP4m8SS27Xuq38kMMHmyC2hhgjCwW9vCqRRRoqQoAuck93QAUUUUAfG37S37Xf7S37PHxmg%2BG2sp8M/Gt9rcEE3hGHTvC17aS%2BC7zUvEOmeHtIm1OV76YXUU7avOC0S2cjixuljDL5hi9x/ZV%2BL/AMSPiMPH/wAPvjEdEn8VfDTx43hrWdV8NadNZ2Gp%2BZpenatb3ENvNPPJb5tdUt0eNppcSRyYYgjHC23/AATV8JNdfEN/EP7S/wATtZt/iTrx1zWLfUjoXmWepRXEM%2Bn3NtdRaWl0psHt7cWkbzSRRLCgZH5z6x8A/gLofwD8Patptl4v1zxJq3iLXpta8T%2BKPEr2xv8AV76SOKHzphawQQLsggt4ESKKNFjgjULwSQDuqKKKAGXP2n7NJ9j2edsPlebnbuxxnHOM18QfFb9rn9tP4afETXPhtb23gPxnr3hi98NW%2BreOvBHwV1/Vo/DlvqzXj3thLpVnqU93czRw2VjdExTp%2B7uoWlgQGJpPt67hkuLWW3hupIHkjZVniCl4yRgMu4FcjqMgj1Br57%2BDH7AXiD4CfDa4%2BGnw7/bq%2BMUUd1qz6nNrN5ZeE59Qlu5XlkuZ5pn0I/aZJ3l3SSTiR8xpsKAYIB6z8BPiHZfFb4O%2BH/iFYfEDRvFSanp4kfX/AA/pM1haXcgJWQpazzTS2xV1ZGhkkd42VlY7lIHX1yXwL%2BC/hL9n34X6d8KfBVzf3FlYS3VxNfarcia6vru6uZbq6upnCqGlmuJ5pX2qq7pDtVVwo62gAqj4nh8SXPhvULfwbqdjZavJZSrpd5qdg91bQXBQiOSWGOWJpo1bBZFkjLAEB1J3C9Wb4x0G/wDFHha/8O6X4t1LQbm8tXig1rRxAbqxcjiaIXEUsRdTyBJG6HHzKwyKAPh74b/t2fta/GD4p638EvhZpvw%2BTxnptrrt9J4z8V/C7WtDXVNM0i10WVLGXRLy%2BTUNPle78Q7EmnmePyoZLhIXWdAfsb4BfFrTfj58CfBXx10bTZbOz8a%2BEtN160s5n3PBFeWsdwsbEAZKiQAn1FeLav8A8EyPA%2Bta5ffEW7/aU%2BKafEDVkvLXWviTbXukQ6tf6ZdW1rbTaYUTTRZw2xSytGHkW0UqyQLKsocsx%2Bg/Bfg/w18PPB2k%2BAPBmkxafo%2Bh6ZBp%2Bk2EOdltbQxrHFGuecKiqo%2BlAGnRRRQBy/xp1Hxxo3wt1rW/hz4hsdL1awszdQ32oeD73xAiRxkPKBp1jPBc3kjRK6pFDIHLsuFc/I3xb8Jf%2BCiPx%2B8SeNND1PxvceEfAngzUp518QeOLz4GeIprbWL%2BHX7rSES5lW%2BjTwzPJa2lr%2B41RpJYHlWN87AlfbfxM8Ga7498JTeHPDfxS1/wbeSSxvFr/hmKxe7g2sCVVb%2B2uYGDAFSHibgnGDgjxW6/4JzeFNQ8H3Hw21b9pD4m3fhjXNQmv/HmgTXGjiLxhdz3jXVxNfSrpouIvNLLC0dnLaxCGJI1RRu3AH0TRRRQAUUUUAFFFFABRRRQAUUUUAFFFFABRRRQAUUUUAFFFFABRRRQAUUUUAFFFFABRRRQAUUUUAFFFFABRRRQAUUUUAFFFFABRRRQAUUUUAFFFFABRRRQAUUUUAFFFFABRRRQAUUUUAFFFFABRRRQAUUUUAFFFFABRRRQAUUUUAFFFFABRRRQAUUUUAFFFFABRRRQAUUUUAFFFFABRRRQAUUUUAFFFFABRRRQAUUUUAFFFFABRRRQAUUUUAFFFFABRRRQAUUUUAFFFFABRRRQAUUUUAFFFFABRRRQAUUUUAFFFFABRRRQAUUUUAFFFFABRRRQB//Z\">"
            ]
          },
          "metadata": {
            "tags": []
          }
        }
      ]
    },
    {
      "metadata": {
        "id": "tKPzvJ0Ek1Vr",
        "colab_type": "text"
      },
      "cell_type": "markdown",
      "source": [
        "# Submit a linear model"
      ]
    },
    {
      "metadata": {
        "id": "WJlTJ9fvk1Vs",
        "colab_type": "code",
        "colab": {}
      },
      "cell_type": "code",
      "source": [
        "## GRADED PART, DO NOT CHANGE!\n",
        "# Testing shapes \n",
        "grader.set_answer(\"9XaAS\", grading_utils.get_tensors_shapes_string([W, b, input_X, input_y, logits, probas, classes]))\n",
        "# Validation loss\n",
        "grader.set_answer(\"vmogZ\", np.mean(s.run(loss, {input_X: X_val_flat, input_y: y_val_oh})))\n",
        "# Validation accuracy\n",
        "grader.set_answer(\"RMv95\", accuracy_score(y_val, s.run(classes, {input_X: X_val_flat})))"
      ],
      "execution_count": 0,
      "outputs": []
    },
    {
      "metadata": {
        "id": "sDuUNWUPk1Vt",
        "colab_type": "code",
        "outputId": "23c62617-2453-42a7-ae25-f7201347c755",
        "colab": {
          "base_uri": "https://localhost:8080/",
          "height": 35
        }
      },
      "cell_type": "code",
      "source": [
        "# you can make submission with answers so far to check yourself at this stage\n",
        "grader.submit(COURSERA_EMAIL, COURSERA_TOKEN)"
      ],
      "execution_count": 77,
      "outputs": [
        {
          "output_type": "stream",
          "text": [
            "Submitted to Coursera platform. See results on assignment page!\n"
          ],
          "name": "stdout"
        }
      ]
    },
    {
      "metadata": {
        "id": "XA5brQVPk1Vw",
        "colab_type": "text"
      },
      "cell_type": "markdown",
      "source": [
        "# MLP with hidden layers"
      ]
    },
    {
      "metadata": {
        "id": "84Rd0IdLk1Vx",
        "colab_type": "text"
      },
      "cell_type": "markdown",
      "source": [
        "Previously we've coded a dense layer with matrix multiplication by hand. \n",
        "But this is not convenient, you have to create a lot of variables and your code becomes a mess. \n",
        "In TensorFlow there's an easier way to make a dense layer:\n",
        "```python\n",
        "hidden1 = tf.layers.dense(inputs, 256, activation=tf.nn.sigmoid)\n",
        "```\n",
        "\n",
        "That will create all the necessary variables automatically.\n",
        "Here you can also choose an activation function (remember that we need it for a hidden layer!).\n",
        "\n",
        "Now define the MLP with 2 hidden layers and restart training with the cell above.\n",
        "\n",
        "You're aiming for ~0.97 validation accuracy here."
      ]
    },
    {
      "metadata": {
        "id": "JVSWER1lk1Vx",
        "colab_type": "code",
        "colab": {}
      },
      "cell_type": "code",
      "source": [
        "# write the code here to get a new `step` operation and then run the cell with training loop above.\n",
        "# name your variables in the same way (e.g. logits, probas, classes, etc) for safety.\n",
        "hidden1= tf.layers.dense(input_X,256,activation = tf.nn.sigmoid,kernel_initializer=tf.contrib.layers.xavier_initializer())\n",
        "hidden2= tf.layers.dense(hidden1,256,activation = tf.nn.sigmoid,kernel_initializer=tf.contrib.layers.xavier_initializer())\n",
        "logits = tf.layers.dense(hidden2,10,activation =None)\n",
        "\n",
        "\n",
        "probas = tf.nn.softmax(logits)\n",
        "loss = tf.nn.softmax_cross_entropy_with_logits(logits = logits, labels = input_y)\n",
        "classes = tf.argmax(probas,1)\n",
        "\n",
        "step = tf.train.AdamOptimizer().minimize(loss)\n",
        "s.run(tf.global_variables_initializer())"
      ],
      "execution_count": 0,
      "outputs": []
    },
    {
      "metadata": {
        "id": "8Mnl6VJx3EnT",
        "colab_type": "code",
        "outputId": "a7a5a14f-80ff-4ded-c365-9a3d80c9343c",
        "colab": {
          "base_uri": "https://localhost:8080/",
          "height": 309
        }
      },
      "cell_type": "code",
      "source": [
        "\n",
        "\n",
        "BATCH_SIZE = 512\n",
        "EPOCHS = 40\n",
        "# for logging the progress right here in Jupyter (for those who don't have TensorBoard)\n",
        "simpleTrainingCurves = matplotlib_utils.SimpleTrainingCurves(\"cross-entropy\", \"accuracy\")\n",
        "\n",
        "for epoch in range(EPOCHS):  # we finish an epoch when we've looked at all training samples\n",
        "    \n",
        "    batch_losses = []\n",
        "    for batch_start in range(0, X_train_flat.shape[0], BATCH_SIZE):  # data is already shuffled\n",
        "        _, batch_loss = s.run([step, loss], {input_X: X_train_flat[batch_start:batch_start+BATCH_SIZE], \n",
        "                                             input_y: y_train_oh[batch_start:batch_start+BATCH_SIZE]})\n",
        "        # collect batch losses, this is almost free as we need a forward pass for backprop anyway\n",
        "        batch_losses.append(batch_loss)\n",
        "\n",
        "    train_loss = np.mean(batch_losses[:-1])\n",
        "    val_loss = s.run(loss, {input_X: X_val_flat, input_y: y_val_oh})  # this part is usually small\n",
        "    train_accuracy = accuracy_score(y_train, s.run(classes, {input_X: X_train_flat}))  # this is slow and usually skipped\n",
        "    valid_accuracy = accuracy_score(y_val, s.run(classes, {input_X: X_val_flat}))  \n",
        "    simpleTrainingCurves.add(train_loss, np.mean(val_loss), train_accuracy, valid_accuracy)"
      ],
      "execution_count": 64,
      "outputs": [
        {
          "output_type": "display_data",
          "data": {
            "text/html": [
              "<img src=\"data:image/jpeg;base64,/9j/4AAQSkZJRgABAQEASABIAAD/2wBDAAIBAQEBAQIBAQECAgICAgQDAgICAgUEBAMEBgUGBgYFBgYGBwkIBgcJBwYGCAsICQoKCgoKBggLDAsKDAkKCgr/2wBDAQICAgICAgUDAwUKBwYHCgoKCgoKCgoKCgoKCgoKCgoKCgoKCgoKCgoKCgoKCgoKCgoKCgoKCgoKCgoKCgoKCgr/wAARCAEgA2ADASIAAhEBAxEB/8QAHwAAAQUBAQEBAQEAAAAAAAAAAAECAwQFBgcICQoL/8QAtRAAAgEDAwIEAwUFBAQAAAF9AQIDAAQRBRIhMUEGE1FhByJxFDKBkaEII0KxwRVS0fAkM2JyggkKFhcYGRolJicoKSo0NTY3ODk6Q0RFRkdISUpTVFVWV1hZWmNkZWZnaGlqc3R1dnd4eXqDhIWGh4iJipKTlJWWl5iZmqKjpKWmp6ipqrKztLW2t7i5usLDxMXGx8jJytLT1NXW19jZ2uHi4%2BTl5ufo6erx8vP09fb3%2BPn6/8QAHwEAAwEBAQEBAQEBAQAAAAAAAAECAwQFBgcICQoL/8QAtREAAgECBAQDBAcFBAQAAQJ3AAECAxEEBSExBhJBUQdhcRMiMoEIFEKRobHBCSMzUvAVYnLRChYkNOEl8RcYGRomJygpKjU2Nzg5OkNERUZHSElKU1RVVldYWVpjZGVmZ2hpanN0dXZ3eHl6goOEhYaHiImKkpOUlZaXmJmaoqOkpaanqKmqsrO0tba3uLm6wsPExcbHyMnK0tPU1dbX2Nna4uPk5ebn6Onq8vP09fb3%2BPn6/9oADAMBAAIRAxEAPwD9/KKKKACiiigAooooAKKKKACiiigAooooAKKKKACiiigAooooAKKKKACiiigAooooAKKKKACiiigAooooAKKKKACiiigAooooAKKKKACiiigAooooAKKKKACiiigAooooAKKKKACiiigAooooAKKKKACiiigAooooAKKKKACiiigAooooAKKKKACiiigAooooAKKKKACiiigAooooAKKKKACiiigAooooAKKKKACiiigAooooAKKKKACiiigAooooAKKKKACiiigAooooAKKKKACiiigAooooAKKKKACiiigAooooAKKKKACiiigAooooAKKKKACiiigAooooAKKKKACiiigAooooAKKKKACvPfjt%2B1J8FP2b5NGsfil4g1Maj4ilnTQNB8OeF9R1zVNR8lVed4bHTbee5kjiVkMkixlI96biu5c%2BhV4N%2B0P8D/j5/wANJ%2BDv2tv2bLLwfrWueH/B2seFNX8KeOdcutLtLywv7mwuxcQXtraXj288U2noCpt3WVJSCUKK1ABpf/BTL9izWLvxPb2nxXv0h8FWsk/jLUrvwXrEFjoIS0iu9l5dy2iwWsrQzRskMjrJIWKorMrKL2n/APBQ/wDZK1HwBrXxFTx/q9vB4f1ay0vVdE1DwNrNrrkV5ebfscC6PNaLqEr3AYGER27eaAxTcFYjy2b9gH4y%2BMf2a/jn8NfGHinwppHin4o/FS38daHc6U1xeWFpeW0OiywQ3IkihkkiN3pRRwoyYHGDuJVaPi79i/8AaV%2BLmr/Ef45fG34S/CjWvFnjWx8KaPp/gKy%2BI2s2Wm6fY6Hcaldw3qa7b6al5DqDXOqTOksVoPJSKNFZiWcgHsviH9vv9mzwv4a8OeI9XvvG3meK0v5NE8P2vwm8SXGuSRWUscV3NJpMWntf28MLzQq8s0CIpmiy37xM%2Bmaz8RPBHhv4e3XxX8T%2BJbbSvDljo76rf6vqrfZYbSySIzPPMZdvlKsYLNvxtAOcYNfGHin9hH9s/WPgX4X8Nay3hfxV470a58RHRfGV/wDHbxNpGr%2BCLW%2BuUktLO11q1sJLzXIYkjhEy3qw/aTbReYCFGPUfjR/wTotfj1%2Bzb4n%2BHHxD%2BOfjW78d%2BMPhfH4Z17xS3jbWho818tpDE2oJoS3y2FuzzQLK3kRRSEPIBIrSM5AOkg/4KUfsZf8K58V/FbWPite6Jo3giysr7xQ/ifwdq%2Bk3NlZXkxhtb37LeWsVxJaSyK6pcxxtC3luQ%2BEYjj/AI3f8FZP2d/hn8ENU%2BMfgPRfFXiqbQfiD4X8L674Y/4QXXbHU7A6zqVrax3T2cmnNdeV5Fw88DeT5d48aW8MhknjB8r1T/gmJ8ZPHfwq8faR4i8DeG9G8Y%2BI9D0fR7DxDqv7RfjPxut3aWusW%2BoTRyf27AfsEZ8likUSzHe%2BGkxknv8A9qH9gz40/GD4g/F/4g%2BBfEPheOTxfB8LbzwlZ6tfXMSvf%2BE/EdzrUsN40dvJ5ENwGt4VljEzrl2MfyKrgHqFh/wUE/Zb1H4m2XwZh8T%2BJo/Fd5oun6xLoF38N9egudO0%2B9adILu/SSyU6dDut5VeS68pYiFEhQum6j4a/wCCmH7FPi3wZ4s%2BIWkfGC4TR/Bfgi68Zaxe6h4S1W0Fx4et0Z5tWsVntUbVLNVQ4nsxPGxZArEugbB0P9kP4ofEP4mfG74g/G9fD2gxfGj4O%2BHfCF1Y%2BE9duNRl0u4tE11Ltlnns7XzYwNViMT7FZikm6OPA3fN37Y37Kn7UOj/ALDHxS%2BJv7TF34AtIfhD%2BxT8QfBHhePwFqF5cNrzXukWxn1G6W5toBYqE0i3CWcbXAVppCZ22oKAPrPw9/wUl/Yy8TaHrHiPT/i1dQWehppU1/JqnhLVbJmtNSu1s7HUIUuLVGubCWdgovoQ9qoDO0qorMPT9E%2BLvw88R/FLX/gvofiH7T4k8LaXp%2Boa/YR2k22zgvmuBa7pinlF3%2ByzHy1cyKoRmVVkjLfJOofsz%2BIPFegeKfjb/wAFIvF/wz8J%2BBbf9nu5%2BHUlx4f8QTLay6beyQyXmq3k17BbpYOTBbCG2QzCAmT/AEiQsuOw/wCCPngP4u2f7I9r8f8A9pDUDf8AxJ%2BL15H4n8V6g9nJbtJCLSCy01fKl%2BeH/iX2lpI0TYKSzTZAYtkA%2BqqKKKACiiigAooooAKKKKACiiigAooooAKKKKACiiigAooooAKKKKACiiigAooooAKKKKACiiigAooooAKKKKACiiigAooooAK8R0j/AIKMfse6ld69Z6n8Urzw83hzw5c%2BINQk8a%2BEdV0GObSbd0jnv7WTUrWBb63R5IlaW2MqAyxjOXXPtN7FczWcsNndCCZ4mWKYx7/LYjhtp64POO9fmJq//BHL9uX4v6t4X1z43fHHQ31vw14P1Cz1DxRqHxW8TeJx4h1v7ZpV9a6idLvoobLSbaS50xfPsLIBRHJtWWQKgUA%2B2X/b/wD2YbX4aN8WNY8QeKtK0ttcg0axs9c%2BGWv2GqanfzIZIYLLTbixS9v2kQM6/Z4ZAyo7AkIxHReA/wBqz4H/ABH1%2By8J%2BHPEOqQ6vf8AhSfxJDpGteFdS0y7TTYbv7JLLLDeW8UkDrP8hhkVZe%2BzbzXk3xO%2BDn7bvxib4e/G3XPBvwq0P4h/Cjx1NrHh/wAM2vjjUr/Rdcs7jSbvTLmO4vn0qGaxmKXskkbpa3AjMQU%2BYJGxV%2BJPwG/bg1/4y%2BHf2mvA%2BjfCu08WX3ww1XwX4x0LUvFepSWGkLcX8N1a39lcJpwk1AxCN1kt5YrQSlxiWLHIB3Gk/wDBRv8AZA8R694F8LeFfiNqus6n8SfBuleLfBunaJ4H1m9nvND1F9lrqMiQWjNa2%2B7HmSTiNbcMpm8oMCdj4a/tufs3fFf4jXPwn8M%2BL9Ws9ft9LudThsvE/gzVtEW/sbeRI57uyl1G1gjv4I3liDy2zSIvmISQGUnyj9hT9hL4sfsw6/8ADjWfHniDw1dnwd%2Byl4R%2BGN%2B%2BkXM8rNq2lvM1zNF5kEe61bemxmKu235o0wK8a%2BGn/BKv9sbxP8UfC/ib9qb4w2eqRaf4A8V%2BF/GniaD4v%2BJNavPEUur2KW39p2umX0Men6EcqWNpaKUXKgTOI1WgD6l8J/8ABRf9kfxrosfirQfHeuf2Hcarpen6f4lvfh/rdrpWoy6lex2VlJaX09mlteQS3M0UYuIJHhBlQs4VgT6X4W%2BLvw88a/EDxT8LvC/iH7XrnguSzj8T2iWkwWxkuoPtEEZlZBG7tCVkKIzMiyRlgokTd8w%2BOPAnxF8K/wDBPbxp8CP%2BChnif4VeCPAWg/DSLQLb4meHfFt2GadI0trXUntLqzgTTZlmFvJDBHcXTGcoiOTtDdr/AMEr/h98WPDf7ImlfFX9oqwS3%2BJ3xYvpfHXxEhW3aL7Pf36xmG02N8yfZbGOys9pyQLXBoA%2BjaKKKACiiigAooooAKKKKACiiigAooooAKKKKACiiigAooooAKKKKACiiigAooooAKKKKACiiigAooooAKKKKACiiigAooooAKKx/iB8RPh/8JvB1/8AET4p%2BOtG8M%2BH9LiEmp674g1OKys7RCwUNLNMypGCzKMsQMkDvVe9%2BLPwr034aL8aNR%2BJfh%2B38HNpUepr4sn1mBNMNjIiul0Lov5XksjKwk3bSGBBwaAOgrxf49eP/wBov/hovwL8CPgL4z8FeH01/wAFeJde1fU/F/gu71ok6dd6Hbwwwx2%2BpWPlhv7UlZmZnz5aABeSfTPhz8T/AIafGLwlb%2BPvhH8Q9C8U6Fds62mteHNWhvrSYoxVwk0LMjFWBU4PBBBryf4i60tn/wAFKvhDosijF78E/iGyN33R6t4NOPyZj%2BFJtLcuEJVHaPZv7tWXv%2BEH/wCChf8A0dB8Gf8Aww%2Brf/NRR/wg/wDwUL/6Og%2BDP/hh9W/%2BaivZqKZB4z/wg/8AwUL/AOjoPgz/AOGH1b/5qKP%2BEH/4KF/9HQfBn/ww%2Brf/ADUV7NRQB4z/AMIP/wAFC/8Ao6D4M/8Ahh9W/wDmoo/4Qf8A4KF/9HQfBn/ww%2Brf/NRXs1FAHjP/AAg//BQv/o6D4M/%2BGH1b/wCaij/hB/8AgoX/ANHQfBn/AMMPq3/zUV7NRQB4z/wg/wDwUL/6Og%2BDP/hh9W/%2Baij/AIQf/goX/wBHQfBn/wAMPq3/AM1FezUUAeM/8IP/AMFC/wDo6D4M/wDhh9W/%2Baij/hB/%2BChf/R0HwZ/8MPq3/wA1FezUUAeM/wDCD/8ABQv/AKOg%2BDP/AIYfVv8A5qKP%2BEH/AOChf/R0HwZ/8MPq3/zUV7NXn3xA8f8AwM%2BGg1Pxh8ffHHhTw/p51qLT7LUvGGqW1pB5htI5VgjkuWVd5AlfaDkhWOODiZzhTi5TaSXVuy%2B92Rth8PiMXXjRoQlOcnZRinKTfZRipSb0eiTemxzX/CD/APBQv/o6D4M/%2BGH1b/5qKP8AhB/%2BChf/AEdB8Gf/AAw%2Brf8AzUVX/wCGv/8AgnB/0dF8Ef8AwttH/wDjtH/DX/8AwTg/6Oi%2BCP8A4W2j/wDx2ub6/gP%2Bf0P/AAOH/wAke1/qlxZ/0LsR/wCE9f8A%2BUFj/hB/%2BChf/R0HwZ/8MPq3/wA1FH/CD/8ABQv/AKOg%2BDP/AIYfVv8A5qK7D4aeJP2cvjRoUvin4O6/4J8WaZb3bWs%2Bo%2BGrqzv4I51VXaJpICyhwroxUnIDqcYIryf4g/ts/snfCH41/ET4RfFjwPqGh2nw08Dad4p8Q%2BLZPh/f3GlRWVyL5mLXMFo8UflpZE5Z/wB4ztHHueGVV6YThUipQaafVO6%2B9XR4uIw%2BIwleVGvCUJxdnGScZJ9nGSjJPVaNJ67HUf8ACD/8FC/%2BjoPgz/4YfVv/AJqKP%2BEH/wCChf8A0dB8Gf8Aww%2Brf/NRUTftN/soW03huPWPCevaVD4ruIbfSL/XPg/rdhaLNNevZW8dzc3FgkNk81woSJbh4ml82FkDLNEz8zrv7dP7FPgK0J%2BJM1jb3bXvitYbXw34H1bWCLPw/qp03UbqUW%2Bm74UglaITMy%2BUhdiks0SidqMTq/8AhB/%2BChf/AEdB8Gf/AAw%2Brf8AzUUf8IP/AMFC/wDo6D4M/wDhh9W/%2Baiu%2B0CP4MeK7ie08Lx%2BGNRmtoYJrmGxW3leGOdPMhd1XJUSJ8yk43LyMivD/wBn79qrRPjR8UtG8L65%2Bzdomh%2BGPHOm67qHwz8SQ6ql3Pq1vpV7DazG7tTaRixaZJ47mBUluN0IfzDC6iMgHZf8IP8A8FC/%2BjoPgz/4YfVv/moo/wCEH/4KF/8AR0HwZ/8ADD6t/wDNRXG%2BLP2qtE8NfHjUfA9v%2Bzdodz4E8PfETRfAfifxq2qpHeWmv6raWdxaJFp/2QrPa51LTYXnNyjLJdECJxE7Vt/CH4r%2BLfiTr/xg8Bax%2Byz4S0vxJ8NdTjtdC0%2B28Trcwa6J9PS8tGmnNhH9iZ/MRHUJOI8khpMYoA1/%2BEH/AOChf/R0HwZ/8MPq3/zUUf8ACD/8FC/%2BjoPgz/4YfVv/AJqK898N/tZ3ni39n74eeOdF/ZW8KH4g/Ejx9qfhDR/Bs3ifbpkF/p76q11LLqY04yC3W30e7lDizLsxjj2AvuHG%2BJ/%2BClvgbRPAt78RbT9mDw9Hp3gr4fXXi74trrfiSGzm0O1s9UvtMvrbT1WzlGq3MNzpl8u0tbI223AcNcKoAPdP%2BEH/AOChf/R0HwZ/8MPq3/zUUf8ACD/8FC/%2BjoPgz/4YfVv/AJqK5/xV%2B038PNL/AGzPCv7JPhP4G6brMOsW14PEPixJYYoNHvksGv7exWPyW%2B0TSW6ebIN8fkxz2r4cTgLyuu/tlQfBseP9K/ad/Zd8K6BrHgvwRpnia1svCHiqPWIb6PUL24sbSzlnuLGyFpcyXUAjG5WhIcsJiI5NoB6V/wAIP/wUL/6Og%2BDP/hh9W/8Amoo/4Qf/AIKF/wDR0HwZ/wDDD6t/81FeVeJ/26/AHgn4E%2BG/if4j8I/AebUvGPi6fRfD13o3xit7jwoiQ2slzNc3muvpkYtljEEsRRbaVvOaFBnzSUt6/wDth6dov7RPgD9nR/hd8D7bUfGPgrTfEEt9rHxbW1jujdXUkDW2jAaS51hlWIyIf9H8xXThN2QAelf8IP8A8FC/%2BjoPgz/4YfVv/moo/wCEH/4KF/8AR0HwZ/8ADD6t/wDNRXNeIf2pfh7p/wC2ZZfsn%2BGvgDbazaDw7qd5rviu1EQFnqVrBa3I0qG38om4nNtdwzOfMjEYuLcDzDI3lcL%2ByP8AtyXX7aGheJl%2BDn7Nnwuvdc0bw9ourWttbfEg3On2z30s6yaTq11DpDSaZq1tHbs81kILjaXjUyKG3AA9f/4Qf/goX/0dB8Gf/DD6t/8ANRR/wg//AAUL/wCjoPgz/wCGH1b/AOaivALz/go3LpHwx8B%2BN/Fv7OPwa8MT%2BPfiF4k8NabfeL/i/wD2boXk6S9zEL1NRk0XfILqS1k8mM26bkeNwx3gV7H8dPi/4s%2BBGp%2BHPEeufsxeB7/wRq2veHtD1HWrHxdnU47/AFbUILBBaWJ03ZeQxzXMTM7XEMjRiRliJUIwBuf8IP8A8FC/%2BjoPgz/4YfVv/moo/wCEH/4KF/8AR0HwZ/8ADD6t/wDNRXHeK/j18RvAH7UFv8CfFH7IXgm/0e88JeIvE9rqvhLxfNf6sumaY1vHEZdOk0iCNJ7mW7giSFbp/m83a0giJPjvh7/gq94D8Q/s9eL/AI5WXwG%2BFFzH4Yv/AANbHUNN%2BKcU/h63fxJrEWmm31LVf7LU6deaeJVuLy3%2Bzy%2BVHLB85835QD6T/wCEH/4KF/8AR0HwZ/8ADD6t/wDNRVDwP44/as8HftWeHPgj8bviP8PfE2jeJvh74h1yGbwr8PL7Rbq0utNvtEt0VnuNXvkljdNUlJUIjBokIbGQen%2BH2paR8QPgFb/FR/D/AIHhvr3R5722vPAOvjWNN43mKW11D7NbGdSqo24RIASVG4Dc2P44/wCUhfwv/wCyM%2BPP/Tt4QoA9mooooAK4X9on9pH4Q/sp/DWf4vfHHW9S03w9ay7Lu%2B03w3f6o1uBG8jSSRWME0iRKkbs8rKI0Cksyiu6rwr/AIKW%2BGfip8Qf2GviX8J/gt8HdZ8b%2BJPGXhDUdB0vSNF1DTbVopbq1ljWeWTUbu2iWFWKhtrtJ8w2o3OAD074vfGP4efAnwVJ8QPibrM9npyXdvaRLZaZc311dXM8qwwW9va2sck9zNJI6qsUSO7E8A15/wCKP%2BCgv7JHg3wNoHxI174oXC6R4ks7%2B8sZrXwvqdxLbWtjKsN/c3sMNs0unQWkrrFcy3awpbSMEmaNuKwf2iLT40fF/wAHeA/ib4W/Zv8AFFvq/wAPviBpXiibwRq%2BraKl7qsBtrq1ubWGSLUJLUXECXbSgSzxxPJCqrLg7x4DP%2Byx%2B1x4G8N69440H9niXxDq/wAUvCHxE0u%2B8Kx%2BI9MiPhK617xBNqmnm7kmuViltxFcst41o1w6yxAwx3CtuAB%2BgSOkiCSNwysMqwOQR6185fCbxV%2B3f8ddH17x34X%2BN/wk0DS7f4heKtD0vSr/AOD%2BqX9xFa6Xr1/pkLS3CeIoFlkeOzV2ZYo13OQFAAr2DR/hnrGjfBHTfhHpHxH1XSb3TvD1rpkXijSYLVryJoYkj8%2BNLuGeEsdmcSRyL8x4PWvJP2HNHv8ARP2Ur3w5q/ii/wBbni%2BNPji0vdX1JIEudQz481aOSWUW0UUQeQFiwjjjTLEKqjAAB0f/AAg//BQv/o6D4M/%2BGH1b/wCaij/hB/8AgoX/ANHQfBn/AMMPq3/zUU/X/wBqD/gn74U1298LeKf2iPg5pup6bdyWuo6dqHi7SoZ7WeNikkUkbyhkdWBVlYAgggjIqp/w1/8A8E4P%2Bjovgj/4W2j/APx2uV47Ap2dWH/gcf8A5I96HCvFNSCnDL8Q00mmqFdpp6ppqg0000002mmmm00yx/wg/wDwUL/6Og%2BDP/hh9W/%2Baij/AIQf/goX/wBHQfBn/wAMPq3/AM1FP0D9qD/gn74r12y8LeFv2iPg5qWp6ldx2unadp/i3Spp7qeRgkcUcaSlndmIVVUEkkADJq9%2B1X8S/hV%2Byh%2Bzf41/aS8U/C5dW0/wV4euNVutN0jRBNcXKxLnYixxsRk4y5G1Fy7lVVmGtKvQrpunNSt2af5Nnn47K8zyucYY3D1KTkrpVITptra6U4QbV9LpNX0vfQzv%2BEH/AOChf/R0HwZ/8MPq3/zUUf8ACD/8FC/%2BjoPgz/4YfVv/AJqKoaT%2B1n%2Bx/rnjeX4a6X4a1%2BXxDbeHF17UNF/4U1rq3Wn2Dx3bxS3UbaeGtWl%2Bw3KxRzBJJnjEcau7orO0z9pz9mDxNJ4d/wCEV0ywQ6z46m8K3th4l8Jajo%2Bo2N9Ho11q5hayubATJKbW3WZVuFt43hk8xZWYxRzanCXf%2BEH/AOChf/R0HwZ/8MPq3/zUUf8ACD/8FC/%2BjoPgz/4YfVv/AJqKofBT9r/9hf8AaC0abxH8NvE2l/2dF4f0/XUv/EXhG70WC50u%2BZltb2CTUbaBbm3kdSgliLqHwhIYgVd/aN%2BIjfCvX/B/w0%2BEHwA8NeLvGfja9vE0rS9a1VdIsYLWztWuLm5nuks7p0A/cxKqwuWkuI87EDuoA7/hB/8AgoX/ANHQfBn/AMMPq3/zUUf8IP8A8FC/%2BjoPgz/4YfVv/morntf/AGpPhbB%2Bxb4a/a/8J/BSyvB4vHh230bw7qhgs/Iv9Yv7TT4ILu5Eci28cVzeIs0qrJtWOQosh2q3FWv7bi%2BIr6y%2BFngn9mbwFefEpPF3iDQPEWjX3jlbbQtOn0e1t7u52aoNNeSdmgvLR0jNpG3zTeZ5Qgc0Aerf8IP/AMFC/wDo6D4M/wDhh9W/%2Baij/hB/%2BChf/R0HwZ/8MPq3/wA1FeBa9/wVQ%2BCj658NB4C%2BBXha%2B0v4k%2BDvCniLRINd8SwadrWsw65eNbLbaLYC0mXV7izCiW7QTwiFJYjuYPke7fDL4lXfiz9qv4hfs2eOP2d/DOiW/hLw1omv6Br1jrK3z6xY6jd6raqZrc2cQs5EfSpG2LLOGWVcspBFAE//AAg//BQv/o6D4M/%2BGH1b/wCaij/hB/8AgoX/ANHQfBn/AMMPq3/zUV6TbaRpeh%2BMbW30XToLSO40y5aeK2iCK7JJAFJC4BIDtz71u0AeM/8ACD/8FC/%2BjoPgz/4YfVv/AJqKP%2BEH/wCChf8A0dB8Gf8Aww%2Brf/NRXs1FAHjP/CD/APBQv/o6D4M/%2BGH1b/5qKP8AhB/%2BChf/AEdB8Gf/AAw%2Brf8AzUV7NRQB4z/wg/8AwUL/AOjoPgz/AOGH1b/5qKP%2BEH/4KF/9HQfBn/ww%2Brf/ADUV7NRQB4z/AMIP/wAFC/8Ao6D4M/8Ahh9W/wDmoo/4Qf8A4KF/9HQfBn/ww%2Brf/NRXs1FAHjP/AAg//BQv/o6D4M/%2BGH1b/wCaij/hB/8AgoX/ANHQfBn/AMMPq3/zUV7NRQB4z/wg/wDwUL/6Og%2BDP/hh9W/%2Baij/AIQf/goX/wBHQfBn/wAMPq3/AM1FezUUAeM/8IP/AMFC/wDo6D4M/wDhh9W/%2Baij/hB/%2BChf/R0HwZ/8MPq3/wA1FezUUAeM/wDCD/8ABQv/AKOg%2BDP/AIYfVv8A5qKP%2BEH/AOChf/R0HwZ/8MPq3/zUV7NRQB4z/wAIP/wUL/6Og%2BDP/hh9W/8Amoo/4Qf/AIKF/wDR0HwZ/wDDD6t/81Fd74u%2BOPwU%2BH7Ovj34weFtEMf%2BsGr%2BILa22/XzHGK8w8Xf8FQP%2BCevgkMda/bA8Cy7PvDStbS/P5W3mZrlrY7BYf8Ai1Yx9ZRX5s93L%2BF%2BJs2t9RwNerfbko1Zr7402vxNL/hB/wDgoX/0dB8Gf/DD6t/81FH/AAg//BQv/o6D4M/%2BGH1b/wCaivM5/wDgth%2BwDezNbeAvHPifxbMp2%2BV4Z8BapMSfQF4EB/Om/wDD2fRtV48EfsCftMa6rf6u5s/hUyQN773nGB%2BFcf8AbuTv4a8X/hvL/wBJjI%2BjXhV4jJXq5XVp/wDX3ko/%2Bnq1F/genf8ACD/8FC/%2BjoPgz/4YfVv/AJqKP%2BEH/wCChf8A0dB8Gf8Aww%2Brf/NRXmP/AA8U/ad1r/kS/wDglV8Xp8/c/ty5stN/PzHbFL/w2D/wU91T/kBf8EjpIUb7s2qfG/SIiPrGIy1H9tYF/Dzv0p1H/wC2IP8AiGXFUf4zw9P/AB43BR/D6zI9N/4Qf/goX/0dB8Gf/DD6t/8ANRVv9lb4jfGnxhrHxQ8CfHTX/C%2Brap4B%2BIUWh2eq%2BE/DVzpNvdWsug6Pqas9vcXt4yyLJqMqFhLtKxodqnOfJ/8Ahf3/AAV61L/jy/4J%2B%2BAtNz0/tD4rRTY%2BvlJXQf8ABOzVvjLruufHnVf2gvCWj6F4vl%2BM0H9r6VoF%2B11aQY8I%2BGxFslYAtmERsfRmYdq6cNj6eKqOMYTWl7yhKK%2B99fI8fO%2BE8bkOFVeviMNO75eWliaVaa0bu4027R01le12l1PpOiiiu0%2BXCiiigAooooAKKKKACiiigAooooAKKKKACiiigAooooAKKKKAOV%2BN3iLw94S%2BE%2Bu%2BIvFOhapqdla2RaSy0Xw1d6xdSOWAj8qzs4Zp5mDlTiONiuN3AUkfPP7JXx30z4T/APBLr4fXfiX4B/FLVNZ8AfBbRU1XwL/wqXWotWub%2Bwsre3eygtrq0jMs/wBpTCAcEDzQfLUyD6wooA8A/wCCd1hdXvwu8U/FPxPZ6vaeK/H/AI6uPEPjTT9S8FaroUFhqD2dnbpaWkGqWttPPBDa21pEbrywtxNHPLhGd408/wDitN8U9B/4LG/AdfG/jXw/qGi6z8NfiPB4Y07SvDU9ldWMay%2BGpZEuriS9mS8ZjGhVo4bcLsbKvuG36/r42/bD1c6X/wAFjf2MoS2EvfDHxQt3P/bhozgfmgrmxk/Z0ebzj%2BMor9T3OHcP9bzP2X/Tus//AAGhWl/7afZNFFFdJ4YUUUUAFFFFABRRRQAUUUUAFFFFABXE%2BK/hF8J/jRBq/hb4xfDDw74s0y38QRXUGneJtFgv4I51soUWVY50ZQ4V3UMBkB2GcE121eT/AB3/AGrfgF%2Bx94a1H4l/tF%2BPf%2BEd0S%2B8Vw6Za3v9l3V3vun09JVj2WsUjjKQyncVC/LjOSAccRPD06EpV2lBLXmta3nfS3qNY%2BWVP63Gs6Tp686k4OPS6kpRcd91Jb76if8ADA/7Cv8A0ZZ8Jf8Aw3Omf/GKP%2BGB/wBhX/oyz4S/%2BG50z/4xXkn/AA/N/wCCWX/R0X/lk65/8hUf8Pzf%2BCWX/R0X/lk65/8AIVeL9e4V/wCflD/yn/kaf8RSxP8A0PZ/%2BFlX/wCaD6S%2BGnwi%2BE/wX0KXwt8Hfhh4d8J6ZcXbXU%2BneGtFgsIJJ2VUaVo4EVS5VEUsRkhFGcAV4r%2B0r%2Bwv4r%2BPHi74lan4f%2BM%2Bm6Fo/wAVfhfYeEPEunXvhCS%2BuIWspdTktru2nW9hVBnU5BJE8Um8RJteMlifSf2aP2rfgF%2B2D4Eu/iX%2Bzp49/wCEi0Sx1eTTLq9/su6tNl0kUUrR7LqKNzhJojuClfmxnIIGP8Sv2y/hh8K/FniXwL4l0HXn1jw5L4Yjj0%2B1tYGk1b%2B3799O09rTdMocG7imicuY9nkux%2BQBj7WHnh6lCMqDTg1py2tbytpb0M3j5Zq/rcqzquprzuTm5dLuTlJy23cntvoeVftff8Ex5f2rPj1b/GW5%2BKXh2zihl8MTW8ev/DtNY1LR5NH1Y6gRpN693GNNS7yIrjbC7uFBDjAUbHh3/gnYug67qutn4vib%2B09B%2BJmm%2BX/wj23yv%2BEu8RQ6zvz9oOfsnleRt48/dvzFjYea%2BPX/AAVj%2BHfg7w38e/A3w00q3j%2BJfwj%2BEvi3xfpOma3rWk6haagdFh%2BczQ6XqU11bJ50trmG6W0mdJjsGUk8vvNW/bw0Hw/8R/Enwp034deK/GviXT/iBc%2BH9L8M%2BE9Gs4Low22iaZql1cmW81BIZYYl1GEGVmgdnnjhSB2USS7CPVPgz8PvEfws8CaR8O9T8U2WqWGg%2BH9O0zTZINJe2mP2e2WGSSVjPIr72QMqqqbAdpMn3q8c%2BDv7Cvjn4P8AjWz8QWXx00zUNM8FaF4i034RaNdeDHUaENWu4rlm1CRb4HUxbiCK3iWMWZ8jzA7PIwmXsv2IP2kdU/ae/Zl%2BHnxd8WaObPXPFvgHTfEWoxWOiXlvYRm6QnZFJMGUMCrZhMjSoCpcAMpPnfgn9sb42a98edBl1bTfCw%2BG3jH4xeJPhtoOn2%2Bm3K61Z3%2Bj2mqSvqM901yYZYZZ9Ev4hbrboyLLbuZX%2BdQAbnij9hvxB4j%2BOl/43X4yW0HgfxB8QtE8eeKfBn/CMFru88QaVaWdvayQ3/2oLb2pOm6bM8Bt5HaS1JEyiVxV/wCEv7OH7S/w3%2BNnxb%2BLmqftBeBdSh%2BI2y40bTLf4XXtu2jXlvaxWllJNKdakF5EkMQ82JUt2lclkkgHyVyn7TX7Y3xt%2BFfxT8Yv8PNM8LN4N%2BE2i%2BG9T8d22s6bczajrEeqX1xFNHYzR3Mcdo1ta2/nhpIrgTySiLEIUyHmfhn%2B3l%2B0N8RP2vdS/Z%2Bi0vwvaWs%2Bu%2BL9H0m1vvB2qW8dm2ksyWl0utvcmx1p58I82n2aJcWgkkWUhrWXIBv/AA7/AGCPj54L%2BC/hXwfqP7TXhG68Y/D74m6l4y8DeKLP4XXVvYwS6gNTS8tb2wfWZHu42i1i%2BRTHcwFMwt8zRkvS%2BJP/AAS00n4ofA3w5%2Bzt4r8W%2BCdW0KC21UeMdc8Q/C6O%2B1%2B8uNVu5brVbjSr1rxU0V7l7i5BIhuGjEi7GDIGrM8W/tv/ALSPww0L4j%2BH/FviH4catP4I8aeGdBvfitYeFr6y8OaGdSZftx1CzfUZpC1hG0EkpW8jTF/B5jQBJWHNS/8ABSz42eK/h54T8YeCfEnha10SLxL4v0f4gfEyw%2BDfiDxRoka6RPElpfw2%2BnXySWVpdQyef5088sMaggSyKBKwB7HrX/BNX4M/8NO%2BFv2ofA3ijxboepaF4o1TxBqmjp4712bTtTvry0aAuLM6gLW2AYqzpHDslRBGy7enLeDv%2BCcHxN1X4FfEr4NftK/H/wAKeOL34lzrqOs%2BMNP%2BGU%2BnahPq0cyS2s9yJ9Vu4Z7a38m3jis0jhjSKEJk7mJ7H44fHv46/DDx58O/EPhDxv8AD3xH4T8e%2BLtE0LSfCdn4eu21jVorsqbzUrW/S/MAitrbzr5ozayA29q/74M6keY%2BFf8AgpZ418azfE/xl4Ql0XVYvC9h41XwJ8K4PAWsRar4mvPD01xbskGuSTfYLqWaW1Zmsra3eaBLiPe25HFAHWD/AIJ6eO310fG26%2BNfhaX4sRfFJvG9r4gPw4l/sGG4bw8vh97ddL/tLz9jWSq5k%2B2%2BaZ1V9/ljyKdq/wDwT4%2BIN1%2BzloP7H%2BkfHvQLf4ew6Pa2nitbj4eNLrN9Ml895NLYXa6gkGmqzMFhQ2s5tgoKMSFK4PwK/bo%2BI/xx0j4neCfBnx4%2BGvifXfAGgaB4hXx54D%2BGesazpM1lqRvlazTSbbUnu7u7ifTLlD5NxnMsYMSyI8VO0z9tH9p3xJ%2BzJ8KP2jNFh8D2sOufF%2Bz8JeNrDUfDF%2Bs1/ZXPiyPQYrm0ha9STSLhoWa5ktbsXEttI32aVPMjkNAHT%2BIv%2BCXHwQvf2h9M%2BP8A4P8AG3jrw/LA/ii51fSLL4ia9JbXd9rexp7mCGTUDbWeJPNkMUcHluzoSo8pMHwP/YW%2BLfwh0jWr65/aP0afxOvwhsvh94H1vQ/h4dOg0i0s1uDa3l3bG%2Bl%2B33KSzq52SW8WEZY44vMY1V%2BI37Yvxt8M/HHxJc6DpnhY/DjwH8XfCXw48Tafd6bcvrN9qOvR6QY723uluVhhhgfxBpgML28jSBLg%2BZHhAZPhD%2B178av2if2kvHvww%2BG8HhbR/B0XgO31X4YeKNT0e5vptSl%2B33dlNqE8SXcCy2Ly2zeRHG0bSRIs4mK3CKgB3F5%2BzR8QfAP7PXhD9nH9mL4ieEvDWjeGPCsfh2ZvGfgGXxB9qso7WO3TaiahaKsmEJcyecshY7kPOeD0X9gT4teCviN8JLzwX%2B0XoF54F%2BDfgrS/D/hPwf408AXOp3EM1vALW41b7XDqtsjahNaAQJNJbyC3V5di/v5Q9D4V/tf/ALSF58MfG1/4wu/BHirxJdfFy%2B8A/Bd/Dfhe80m2126tIxBd3N1DNqF44gtr231ZpmjlB%2BzaZI6guwSud8V/t5/tJ6R%2BwX8F/wBtewbwqLrxz8N/D2ua/wCEo/hprF7bXmo39pa3EsS6tDfC38P2mZ2VbrUFlij4Z3baQQD3XWv2TrPxZ8R/ix8RPFfxBvnn%2BJXgmy8I2DaZB9ln8O6VBDd5WCbe26Z7m/upzKFT/lghVvJDHivhL%2Bxn%2B0B8JrjWfHVh%2B0P4HufGl54Q8O%2BFdJvR8JpoNHtdK0iW8kh87T4tWEk9y5vZh5q3MUcYSMRwqA4fkf8Ah4v4r0H9sy2%2BBvjjXPBdnYal8UbnwbbeAE0y6/4Seztk0ma%2Bt/EMsxuTG9jcSQCJVFqiAXCYuHkRoj0H/BO/9ubVP2z7CHxxq/j7w3Fb%2BJfClr4m8N%2BB7XwFq2mahp2m3D5jkbUb2c2%2BtKqvHFLNZQpDHPlNzZUkA9G%2BCfwCl/Zy/Z61/wAEah4ti1vUtT1HX/EGtajaaULC1e%2B1G6uL2cW9qJJPs8AkmYJGZJGwMvJI7M7VPHH/ACkL%2BF//AGRnx5/6dvCFepeOf%2BRJ1j/sFXH/AKLavLfHH/KQv4X/APZGfHn/AKdvCFAHs1FFFABRRRQAUUUUAFeC/sf/APJvWr/9l78c/wDqwNVr3qvBf2P/APk3rV/%2By9%2BOf/VgarQB1mv/ALE37GXivXb3xT4p/ZH%2BGOpanqV3JdajqOoeAdOmnup5GLySySPCWd2YlmZiSSSScmqn/DA/7Cv/AEZZ8Jf/AA3Omf8AxivO/H//AAWU/wCCbnwv8d638NPHX7R32HW/Dur3OmaxZf8ACIaxL9nureVopY98doyPtdGG5WKnGQSOayP%2BH5v/AASy/wCjov8Ayydc/wDkKvBnjeGFNqU6N7u9/Z3v1vpve9zT/iJuJofulnk48ulvrdVWtpa31hWta1rK1rWVrL2bQP2Jv2MvCmu2Xinwt%2ByP8MdN1PTbuO607UdP8A6dDPazxsHjljkSEMjqwDKykEEAg5Fa37TXwTsv2k/2dPHf7Peoa/LpMPjfwjqGhvqsEAlez%2B1W7wiYISA5QuG2kgNtxkZzXjXgH/gsp/wTc%2BKHjvRfhp4F/aO%2B3a34i1e20zR7L/hENYi%2B0XVxKsUUe%2BS0VE3O6jczBRnJIHNe4/HX4w%2BHP2ffg94j%2BN/jLTNRutG8K6VLqesppUKSTxWcQ3TzBXdAyxxh5WGc7Y22hmwp9DA1strQk8HKDSevJy2v58qWtu5MuJKnEn72eNeJ5NLurKry31teVSpa%2B9k1fe3U8j8RfsTfELx/oPxdl8e/H21i8SfFv4d6b4Zvta8J%2BFZtNh02SzGohbmKKS%2BnkZHF%2BA0RmBxE2JB5g2cN8Ef%2BCU0Xwi8RQ%2BJofiT4QsNvxcHjl9B8BfC%2BPQNIgYeEbzw4bO2tUvJTCG%2B1C7aVnkZnRlI%2BcOnovxn/AOCiHwd%2BC2l%2BLtc1Tw3qeoWPgrxbZ%2BG9Y1EeINB0q0e/uNNi1EJDcavqVnDJsgngDAPv3zBUV9khTkbX/go7pPinx9Hf%2BCbi0uPAWueDPhJrvhHVYtCknvLr/hMPEGraaVmR7uFY4xFZ2ZVgC8DSTOyXOFgruJOr%2BBv7FHiH4BR%2BBLvwj8XLK5v/AAN8DdK%2BHVvLqHhd2hu/sckDG%2BaNLtWXesLAQhzsLg%2BY23a3WftG/ALxx8VPEHg/4mfB/wCJ%2BneEfGfgm9vH0rVNa8NPq9jPa3lq1vc209ql1au4P7mVWWZCslvHnehdG8w8G/8ABRo/Ez9orwf4I8IfB/xNZeAfEfgrxZr9p4s1TQlnbxDDpNxp0Mc%2Blx2VzNOY3%2B1St5U9uk8waBoUIJz6T%2B1J8aPiB8PdG8C%2BFvg4mkQ%2BKPiT43t/Duhah4n0ue4stNzZXmoT3M9rHNbyzbbWwuAsQliJkZAWUZoAp%2BHf2WNY8Bfsu2v7K3gzxT4X1DQ9M8D2GhWP/Cd%2BCW1iO8nj3C7udQgW8gju47hNuYEEOxzI291dUTzuz/4JrxeG/wBnl/gv4RvfhI95q3jKbxJ4jn8TfA%2BHUdGS7eBLeI6ZpIv4o9ONvBDbRQF5LjakHziVnZz0OlftdfFN/wBgnxr%2B0e/w7stY8ceBf%2BEr0y%2B0TR4bgWeoanoepX2myzQxgyTrbyyWRnEQMkqxvsy7jJ5P4I/tmfEf49eD/iZo/gr9pr4QXV/8MNQsrvUPilpfga9vvDOo6PPp5umaO2TWVZJYZEnjeRb2aMeQcqHZo4gBmtf8Es1stHtPhj8MPjfHpPgOfwT4S8LeIdI1rwt/aOqSWfh%2B5kntpLG/F1CtjNKZWMjvBcASfvY1jckn0zwl%2Bzv8eNB/bZ8T/tQat8b/AAjd%2BGfEnhLTPDp8H23w8uob63tdPn1K5tn/ALRbVXjeXzdUn8w/ZArokaqsZDO3jfjP9p3/AIKBaZ/wTy8EftU6f4h%2BFuleO/FGi6YIPBur/DLU549S1fWb2G30izXZrkb2X/H3apcBjclGEzghV213/jv9sT4jWH7a/wAOf2dvh/oWiX3hO/8AEt34c%2BIniK6t5vOTV/8AhHdQ1mG0sdsoVGijsoXuDIJBsv4EQ71kKAHvl3/yO2n/APYKvP8A0ZbVqVl3f/I7af8A9gq8/wDRltWpQAUUUUAFFFcv8Tvjd8Gvgppg1r4w/Ffw54WtXBMc/iDWoLNZMdl81l3H2GTUznCnFym0kuraS%2B92N8NhcVja8aOHpynOW0YxlKT9IxUm/kmdRRXyr4h/4LJ/sUpqsnhv4R6p4t%2BJ%2BrxHDaV8NvBl5qMhPYB2SOJs%2BzmqQ/bZ/wCCgfxNP/FiP%2BCX%2Bu2FnJ9zVvif4xtNHaP03WYDSn8G4rzHneWN2pz53/cUp/8ApKa/8mPuIeGHG8YKpjMKsLF63xNSlhtO9q9SE38qTv0ufW9FfJLeDv8AgtJ8UB5WvfGP4J/C60l%2B7L4W8P3mtX8A/wBoXpEDN9OKRf8Agll4j%2BIJ%2B1ftOft%2B/GnxvI/%2Bv07TfEK6Hpcnrm0tVOPwfgUv7QxlX%2BDhZvzm4wX4uUvwK/1O4dwOuZ57h4/3cPGtipffCFGkvnUf3an0t42%2BLfwq%2BGkXn/Ef4m%2BHvD6bd2/W9agtBj1zK68V4548/wCCrv8AwTo%2BHCO/iD9rnwjc%2BX1XQbt9UJ%2Bgsllz%2BFZ3gj/gkB/wTk8Cy/a7X9mHSNVumbdNdeJb261R5W7swupXXJ9gB7V7J4D/AGd/2f8A4Wsj/DL4G%2BD/AA60f%2BrbQ/DNraFfoYo1ovntTpSh/wCBzf8A7YhcvhVg95Y7EvyWGw0X97xE1%2BJ89/8AD4L4OeJ/%2BSI/sz/HT4io3%2Bqu/CXwyuGt29CXnaMqvvilH7d/7dfin5/hf/wSX8aXEbf6t/FnjzTdFYe7JKHI%2BlfWlFH1LM5/Himv8MIL/wBK52H%2Bs3BGG0wuQRl518Viaj%2BaprDx%2B7Q%2BSz8W/wDgsr4x/d%2BG/wBkX4Q%2BDS33ZPF3j2fUVT6ixUE/hR/wqH/gsn4y%2BfxJ%2B2B8JPBhf7yeEPAE2oiP/dN8wJ/GvrSij%2Byub%2BJiKsv%2B3%2BX/ANIjH8w/1/8AYf7nlOBpef1b2r%2B/EVqv4xPko/8ABP8A/bL8X/L8Xf8AgrF8RrxG/wBYvgzwxp/h8%2B%2B1od%2B2gf8ABGv9mvxBz8Y/i98YviIW/wBb/wAJp8TbuYSeufI8qvrWij%2Bw8rfx0%2Bf/ABSnL/0qbX4B/wARS47p/wC64tYf/rxRw9D7nSw8ZL5TR85%2BEP8Agkh/wTf8EKi6N%2ByT4Yn2dP7Y8/UM/X7VJJn8a9P8I/sr/sw%2BANp8C/s5eBNGKfdbSvCNlbke%2BUiFd7RXVRy7L8P/AAqMI%2BkYr/208PMOMuMM2v8AXsyxFW%2B/PXrST%2BTq2/AZBBBawrb20KRxoMIkagBR6ADpT6KK7D5ttt3YUUUUAFeM/sv/APJb/wBo7/ss1j/6hXhevZq8Z/Zf/wCS3/tHf9lmsf8A1CvC9AHs1FFFABRRRQAUUUUAFFFFABRRRQAUUUUAFFFFABRRRQAUUUUAFFFFABRWP8QPiJ8P/hN4Ov8A4ifFPx1o3hnw/pcQk1PXfEGpxWVnaIWChpZpmVIwWZRliBkgd6daePvAmoeBIvijYeNdJn8Mz6Suqw%2BIodSiawksGi84Xa3AbyzCYiJBIG2lfmzjmgDWr4T/AOCjOp/2J/wVm/Yg1PdjNz44tc/9dotFix/49X2d8Nfin8MfjP4Qt/iD8HviPoPizQLt3W01zw1rEF/ZzMjFHCTQMyMVYFTg8EEHkV8If8FdtTOi/wDBSL9h3VM4H/CdavblvQTX/h6L/wBmrzc3lyZfOXZx/wDS6Z9r4d0PrXGGHo/zxrr78Li/8j9DaKKK9I%2BKCiiigAooooAKKKKACiiigAooooAKyvD/APyFtc/7Cif%2BklvWrWfe%2BGNIv7t7%2BQXMUsgAke1v5oN%2BBgFhG6hiBxk84oA0KKy/%2BEP0n/n71X/weXf/AMdo/wCEP0n/AJ%2B9V/8AB5d//HaANSvKfir%2Bx58KvjB%2B0b8Pf2nPFF/rMWufDkXn9n6fY3caWGqGaMrEb6Jo2af7MzSSwbXTy5JGb5uMehf8IfpP/P3qv/g8u/8A47R/wh%2Bk/wDP3qv/AIPLv/47QB81ah/wSS%2BCGsaX4h8M6x8aPiTc6Hrfw98Z%2BDNO0J9S01bbQdL8TzRTal9k2WIkeYSQoY5rl7hl5DmQYA7XxV%2BwT4B1nx9qvxZ8JfFjxv4S8Wap4zufER8ReHbuwM9s1zpNhpVzZRpdWc0RtZYNNtHZXjeRZYw6SIQoX2D/AIQ/Sf8An71X/wAHl3/8do/4Q/Sf%2BfvVf/B5d/8Ax2gDk/2cv2ePD/7MXwr8LfBXwH418QX3hvwh4TstB0ix1ua2mby7YMq3MkqQJJJO6lVclvLIjUqisWZuX0D9h74deHfjmvxqs/HviuS3tPEmo%2BJNE8FTXVodG0jXb%2B1ktbzVLdRbC58%2BWK4uwUkneFWvLhliVpCa9U/4Q/Sf%2BfvVf/B5d/8Ax2j/AIQ/Sf8An71X/wAHl3/8doA8h%2BJH7B/gT4q%2BNLPxr4t%2BLPjVnm0rRNP8b6fbT6fFa%2BNY9Ju3u7I6ki2eVKzyzM/2M2qyrK0UgaILGtTSf%2BCfPgXQvGsnizRvjZ8QLa1tNa8Ra54S8PpeacbLwtrOti7%2B3alZFrIztMWv75o0upbiCI3UgWILtVfaf%2BEP0n/n71X/AMHl3/8AHaP%2BEP0n/n71X/weXf8A8doA8g%2BBv7Euo/s9fAW5%2BAPw9/a4%2BJq2hMLaVr95ZeG31LTJBO09xMjjR1iuprp3dria8juJJGd3DLIzOZbv9ia1tvhLbfB/wJ%2B0p8SPCtlLNqtx4q1LRZdIkvvFFzqUxmu7i8mu9Om8uVpHlKtaC28sSlYwipEsfrX/AAh%2Bk/8AP3qv/g8u/wD47R/wh%2Bk/8/eq/wDg8u//AI7QB4zpP7Avhfwr8fPD/wAdfAHx68faDH4X8Kad4Y0LwbaJotzpFlo1qyFrKH7Zps11brceXGLiSK4SWURRDzB5MWy34c/YS%2BH/AIV%2BJn/CxNH%2BJ/jKO2sdU13VvCvhf7RYf2d4b1XWGmfUNQtALQTvNI9zdOFuZZ4ozdShI1UhR63/AMIfpP8Az96r/wCDy7/%2BO0f8IfpP/P3qv/g8u/8A47QB5b4e/Y/vvDGmeINS0z9qT4kHxt4ou7J9Y%2BJc0WhPq0ttaJItvYrCdL/s%2BO2QTTkItoDvnlkLb3L1zvjT/gnX4b8T/BjQPgr4e/aU%2BJfhm20bxz/wmWoa3ozaJPf67rn9rLrAvLtr7TLiIEX6%2BcI7eOGLB8vZ5QWNfdP%2BEP0n/n71X/weXf8A8do/4Q/Sf%2BfvVf8AweXf/wAdoA8n179hf4feJPjDH8WtW%2BJXjB4Z9b0jXfEXhNLixXSvEGt6XFHHY6rdoLTzhcRC3tG2wSwws1nblom8sUnwp/4J1/scfAf49XX7RfwL%2BAfhPwX4guvCi6AF8KeE9N0%2BCGATyTNMggt1YTOXCuxYqyRRgr8uT6z/AMIfpP8Az96r/wCDy7/%2BO0f8IfpP/P3qv/g8u/8A47QB5poX7CH7K0HwA8Ifs2/Eb4NeHviF4d8F2qJpf/CxtAstXmlutrCW/l86Hy/tUzPLJJIiJuaV8AA4rjbD/gmT8KtA/Zk8MfsX%2BC/i/wCOPD/wp0HwLF4T1jwRokWjQW3iexCsty9/L/ZpnWe7Dym5ktZbYytNI2AzFq99/wCEP0n/AJ%2B9V/8AB5d//HaP%2BEP0n/n71X/weXf/AMdoA4jVf2aLPxP8c9M%2BNXjn4u%2BLddt/D2oPqPhTwVfnT00fRL57OSza6hEFnHdTSeTNcgC5uJkQ3MhRVITZh/s9fsQfDn9nPxXYeJvDnjvxVrMPh3wm3hbwLo%2BvXFmbTwpoTTQynTrIW9tC7RZtbRd9y88oS0iUSYB3ep/8IfpP/P3qv/g8u/8A47R/wh%2Bk/wDP3qv/AIPLv/47QAnjn/kSdY/7Bdx/6LavLvHH/KQv4X/9kZ8ef%2BnbwhXqJ8GaG%2BFna%2BmTIJiuNWuZEb2ZWkKsPYgivLvHH/KQv4X/APZGfHn/AKdvCFAHs1FFFABXn/7S/wAcbn4A/DWLxZovhFfEGtar4h0vQfDehyaj9jjvdR1C9itIFln8uQwQq0vmSyCORlijcqkjBUb0CvPv2l/gddfH74axeE9F8Xr4f1rSvEOl694b1yTTvtkdnqOn3sV3A0tv5kZnhZovKljEkbNFI4V42KuoB59c/t0XWhfsveKfjd4t%2BFMdp4n8HeMT4R1vwlb%2BIhJaR6w%2BpQWEGNQeBMWUhurW4Ny0CtHBKWeIMjR1w3xC/wCCpJ%2BGXgy9PjXwN4D0PxNoHxVk8CeMbrxH8VDY%2BEdCvV0WPWY5Z9cbTiypLbT20SB7RGN1MYCFKbj6T8P/ANlb4jeCPhH4x8A6p8TPB/iHVPHV1qWq%2BIr7Xvh3JPp93qt7MxkMlidRw9gtsIbZbQy%2BZsh3PcuzE1wHgv8A4Joa18JdE0XxB8GPin4P8OeNdN8f3viq8ktvhfs8LTTXOjpo/wBng0W3v4WtY4rKG3WJluy4ZJWdpPPkBAPoD9nn4tSfHr4EeD/jZL4OvvDzeLPDdnqx0TUjmey8%2BFZPKY4GcbuDhSRglVzgea/sf/8AJvWr/wDZevHP/qwNVrr/AINfstfDv4Y/staB%2Byh4ssLPxl4e0nQI9L1CDxDpMMttqSj5n32rBoliL5Kw4KooVRkKK5H/AIJ7%2BCfB/h39mPUfAHhvwvYaZoen/Fr4hWmnaRptqlvbWkEfjTWljiijjAWJECqFCgBdoxjFAHvVFZX/AAh%2Bk/8AP3qn/g8u/wD47S/8IfpP/P3qv/g8u/8A47QBqVU17QtH8UaHe%2BGfEWmxXmn6jaSWt9Z3Cbo54ZFKPGw7qykgj0NVv%2BEP0n/n71X/AMHl3/8AHaP%2BEP0n/n71X/weXf8A8doA%2BfvBP/BMH4UfDT4R%2BA/hh8PPjV8R9K1D4fa3qeqaX45XU9PudbvJb9JoroXUlzZSQSbopvKV1hSWNIYhG6bSTY8Df8ExPgH8P/DXh7wroni3xhJbeGvDXw80Owa71K2eR7bwbqt3qmltI32cbpJZ7yVbhuA6KgjELAu3vP8Awh%2Bk/wDP3qv/AIPLv/47R/wh%2Bk/8/eq/%2BDy7/wDjtAHiHw2/4J3eBfhT8RNL%2BIHhL46/ERV8L%2BG9d0LwHoVxeabJYeFrPVZraaZLRDY75TE9pB5JunuNipsO5Plr0j45/APRPjv4N0vw5q/jTXdE1TQNatdY8PeLNAe1XUdM1CAMq3MQnglt2LRyTROkkLxvHNIpTB46f/hD9J/5%2B9V/8Hl3/wDHaP8AhD9J/wCfvVf/AAeXf/x2gDi/ht%2BzbYfCL4YQ/Cv4e/FXxVYWqadq63Gok2E15dapqV015ca1I8toym9%2B0y3EwAUWxe5k3QOBGE5m5/YV8Aa78FfiD8HfHfxP8ZeI5viq23x/4u1S5sY9U1a38iK2Nofs1pFbQW5tYvs/lwwRjZLKwxLI8p9a/wCEP0n/AJ%2B9V/8AB5d//HaP%2BEP0n/n71X/weXf/AMdoAwPib8C/B/xX8ReBde8T3l%2BkXgDxR/b%2Bk6XaSRpa3V4tlc2kX2hShLpELp5UVWTEscTnOwCuH8d/8E7v2NviB8ffCn7T2p/s%2B%2BEbXxx4T8Vv4ii8RWHhTTkvNTvTZXFqjXlwbczTiPzxOh3qyz28Dhv3eD6v/wAIfpP/AD96r/4PLv8A%2BO1keOb34Y/DLwvd%2BN/iN47bQdHsY995qmr%2BKp7e3hX1aSSYKPTryaUpRhFyk7JGlKjVxFWNKlFylJpJJNtt6JJJNtt7JJt9Ea13/wAjtp//AGCrz/0ZbVq18af8PDfF3xv1%2B48Nf8E0v2cNY%2BJMyOba6%2BJPi66uLDw1ZYPzBJ7g%2BbdYYfNHEEJ4YFhV0fsDftc/tEn7b%2B3J%2B3LrZ0%2BbmXwD8IIjomlqO8Ul0Qbi6jPo4B/2q8n%2B1o13bB03V81aMP8AwOWj/wC3VL1Pv14fVcqip8SYyngOvs5c1XE2/wCwaleUG%2Bnt6lHzikewfHv9vj9jn9mN5LX41/tCeHdIvovv6RFdG7vx9bW3DzD6lMV5FJ/wU/8AiH8Wl%2Bx/sa/sE/FHx003Fpr/AIjsE8PaLJno63V0SXA6kbVPbvXrvwC/YK/Y9/ZiEc/wW%2BAHh/Sr6LprM1r9r1AnuftVwXm5POA2PavXqPYZxiP4lWNNdoR5n/4FPT7oC/tPw3yh2weX1sbNfbxNX2NNvv7DDJyt5TxN%2B58gr%2BzX/wAFOP2km%2B1ftIftg6d8K9Em5bwj8FbAi82HoH1S5zJHIB18sMhJyOgrrPhf/wAElf2Fvhxqh8U638IR461%2BUhrrxF8SL6TW7m4YdGZbgmEN7rGtfSVFXDJsApKdWPtJd5tzfyUvdXyijHFeJPFtShLDYKssHRens8LCOHi12lKnarP/ALiV53KPh7wz4b8I6VHoXhTw/Y6XYwjEVnp1okESfREAA/AVeoor00lFWR8LOc6s3Obbb1bbbbfdttt/NsKKivL6y06A3WoXkUES/ekmkCqPxPFcnrX7RP7P3htzF4i%2BOng6wYdVvfE9pER/31IKmdSnT%2BOSXq0vzaMalajSV5yS9Wl%2BbR2NFeVav%2B3X%2BxNoMZk1f9r/AOGFvt6q/jzT9x%2Bi%2Bdk/gK5LUv8Agqz/AME6NKuDbXX7Xvg1mHe2v2mX/vqNWH61yzzLLqfxVoL/ALfj/wDJHHUzbKaXx4imvWcP/kj6Cor51/4e2f8ABN//AKO58K/99zf/ABuob3/grz/wTZsITPP%2B1t4bZR2hjuZD%2BSRE1n/a%2BUr/AJiIf%2BBx/wAzJ57kaWuKp/8AgyH/AMkfSFFfJ95/wW7/AOCaccxs9G%2BP11q9z2ttJ8GavMx%2Bh%2ByhT%2BdRf8PjPgJqf/Iifs%2B/HLxTn7n/AAj/AMLbqTf9PMZKz/tzJumIi/R83/pKkYviTIOmKg/R83/pKkfWtFfI7/8ABR/9pLx2fsXwE/4JX/GW/u3HyH4hJa%2BGIB6EyTvIPwpV1L/gtn8Q/wDSrPw18APh5Zy9LXU7zU9W1CH6tDiBqP7Yw0/4MJ1P8MJW%2B%2BSgg/t/CVP4FOpU/wANOdvvkqaPreivkofs9/8ABXq5/wBMuP8Agob4HtZX5aztvhNA8Mfsru%2B8j60f8KL/AOCwlv8A6j9u74cXP/Xx8MFTP/fL0f2lX/6Ban3Q/wDlgf2vif8AoCrfdT/%2BWn1rRXyV/wAK2/4LSaT89h%2B0r8D9WI/g1TwdfQA/jC2aP%2BEZ/wCC3urf6NqHxO/Zu0lBwLrStG1qeRh6lZjtB9hxR/ak%2BuGq/wDgK/PnsH9s1Fvg61/8EX%2BKqWPrWivkr/hUX/BZaw/0i0/a9%2BEV%2B7cm3vvAE8Uan0DRtuI9zzR/Zf8AwXJ03i08Ufsv6mB3v7LxBCzf9%2BuAaP7Umviw1X/wFP8AKYf2zUXxYSsv%2B3Iv8qh9a14z%2By//AMlv/aO/7LNY/wDqFeF68x/4Sn/gt1p3/H78K/2cdSx1/s/XNZhz9PNFdD/wTr1T40azrfx51L9oXwvomi%2BMJPjNB/bGm%2BHb17mzhx4R8NiLy5HAZt0IjY56MzDtXRhsdHEzcPZzj196Divvu1fyOrCZlHF1HBUqkGlf34OK%2B%2B7V/I%2Bk6KKK7T0QooooAKKKKACiiigAooooAKKKKACiiigAooooAKKKKACiiigDlfjd4i8PeEvhPrviLxToWqanZWtkWkstF8NXesXUjlgI/Ks7OGaeZg5U4jjYrjdwFJHyH4RtvFHxM/4IyeCfgnoPwm8djxN4d%2BE/hOPxH4P174f6rpV1eR6U2n/2npipf20IllljtrmBYsnzg4K7kbdX3NRQB4J%2BxPBq2u%2BNfjX8ZIPBuvaD4b8d/Ey31LwtZ%2BJfD11pF5cww%2BH9IsZ7x7K8jiuLYSXNpOoWWNGcQiXGJFY/H/8AwWQ034r6L%2B2r%2Bzz448beNPD1/oWka9e6j4asNK8MT2d3pyJrvhZJBdXMl7Ml2T5iYZIbcLg5Dbht/Tuvzl/4L1/6Df8AgjxZ0/sDwJrmobv7u3xV4HTP/kSvJz3/AJE1d9ot/c4v9D9A8KdfEnKofz1ow/8ABkatP/3Ifo1RRRXrH5%2BFFFFABRRRQAUUUUAFFFFABRRRQAUUUUAFFFFABRRRQAUUUUAFFFFABRRRQAUUUUAFFFFABRRRQAUUUUAFFFFABRRRQAV4z44/5SF/C/8A7Iz48/8ATt4Qr2avGfHH/KQv4X/9kZ8ef%2BnbwhQB7NRRRQAUUUUAFFFFABXjP7B//JENc/7LN8R//U11uvZq8Z/YP/5Ihrn/AGWb4j/%2BprrdAHs1FFFABRRRQAUUUUAFFFFABTZZYoImnnkVERSzu7YCgdST2FeL/tWft6/Af9k1rTwz4ov73xD411fCeHfh74Utje6xqcjZ2BYE5jQkH532g4O3cRtrxO6/Zu/a2/bsgbxh%2B3/42/4Vf8LsedH8G/CWsbJ7yDqP7Y1FSNwx96GPC4wf3bqa8zEZnCFV0MPH2lRbpOyj/jltH01k%2Bkep9xlPBNatl8c1zmusFgpXcalRNzq23WHopqdZ9Of3KMX8dbRxOn%2BKP/BS2Xxt43u/gP8A8E9vhi3xf8a2zeXqetW8/leGdAJ433d9kLKR18uI5bDAOGG2oPAn/BM3Uvix4qs/jH/wUf8AizL8W/EltJ52neEUjNv4V0Rz/DBZDAuCB8pkmHzjG5CRmta4/bw/4Ja/sUeDrf4WeEPjL4I0ix0793a%2BGvAyf2jJ5p42tHYrIfNY4y0h3EnLHvWGf%2BChP7Vnxv8A9G/Y3/4J3eMr60m4h8WfFK6i8O6eq9pkhctLcx/7hVvbivIlVwFWpfHVlWmtqcE5RX/bkebmf96o/SKOXGeK2Q8PxlgeEY/V9GpVV%2B%2BxtRPR3qU1JYeMv%2BfeH9lo7SrT1PrTSdJ0rQdMg0XQ9Mt7KztYlitbS0hWOKFAMBVVQAoA6ADArK8d/FL4ZfC3T11b4m/EXQvDlo5wlzr2rw2cbH2aVlBr5fH7In/BRz4/n7R%2B1H%2B3r/whOmzcy%2BE/gXpX2AoD2Gp3INx04wVIrofAP/BH79gjwdqbeJPE/wAIZfHWtyj/AEnXPiHrFxrE9x7uk7GEnryIx1r1FisyrK1DD8q71JKP/ksOaX3tH5vLMM6xknKjhuW/2q07N%2BfLDnn98k%2B%2Bp0ni7/gp/wD8E9PBMUk2tftheA5hECWGk67Hft%2BC2vmEn2ANcD/w%2BQ/Z88Vvn4A/A340fFSHPF54B%2BGd1PBj%2B8WuDCQPfFe8eE/2Uv2XfAUkc3gb9m7wFozxEGN9K8H2VuykdwY4gc%2B9d6qqihEUAAYAA6U/Y51U%2BKrCH%2BGDk/8AyeSX4C9hxDV%2BOvTh/gpyk/vqTS/A%2BSpP%2BCmHxt1tPsvgH/glp8erm9k%2BW1j8Q6Lb6VAzdt80kjiMf7RBxTE17/gtD8Ym%2B2aX4E%2BDnwd09hkWmu6lc6/qi56AtbYtiB36HOK%2BuaKX9nYqp/GxU2u0VGH4xTf4oP7JxlX%2BPjKjXaKhT/GMXL8UfJJ/ZK/4Ki%2BL/k8cf8FSrXR7Z/8AXWXhH4R6ejEei3Er70%2BuKQf8EmdM8Un7R8a/26f2gfGErf6y2n%2BILWdl77YIIxtz7NX1vRT/ALFy%2BX8RSn/inOX4OaX4B/q9lcv4qlU/x1Kkvwc0vwPk6y/4Ikf8E4zcC/8AFHwZ1TxFdL/y9a/421Wdz9QLlVP5V12if8EpP%2BCc%2BgII7H9kLwdIB0%2B22TXJ/OZmNfQdFXDJsop/Dh4f%2BAR/VM0p8P5FSd44Wmv%2B3I/qmeP6T/wT4/YR0SRZdO/Y2%2BGCuv3Xk8DWMjD6F4ia67Tf2c/2e9Gtxa6P8CPBtpEOkdt4XtI1/JYwK7KiumGDwdP4KUV6RivyidlPAYCl8FGC9IRX5RRyv/Civgj/ANEc8K/%2BE9bf/EVLZ/Bn4P6dMLjT/hT4agkHSSHQrdSPxCV0tFaewor7C%2B5f5Gqw%2BHW0I/cv8iKzsLHToRb6fZxQRjpHDGFA/AVLRRWuxsklsFFFFABRRRQAUUUUAFFFFABXjP7L/wDyW/8AaO/7LNY/%2BoV4Xr2avGf2X/8Akt/7R3/ZZrH/ANQrwvQB7NRRRQAUUUUAFFFFABRRRQAUUUUAFFFFABRRRQAUUUUAFFFFABRRRQAUVHe3tnp1nLqGoXcUFvBE0k880gVI0UZZmY8AAAkk9K574ZfGb4P/ABq8If8ACwfg38VvDXi3QBNJEdc8M67b39n5kf3086B2TcuRkZyO9AHS1%2BfP/BdbR/7c8KTWWzds%2BA3i64xj/nl4n8DS5/8AHK%2B2/hR8dvgh8eNMu9a%2BB3xk8KeM7PT7r7Nf3fhTxFbajFbTbQ3lyNbu4R9pB2kg4INfJ3/BXTR/7cbUbLZu2fsufEu4x/1y1LwjLn/xyvOzeHtMpxEe8J/%2BkyPsfDrE/U/EHJ6/8uKw7/8AK9L/ADPsjwPrH/CQ%2BCtH1/du%2B3aXb3G713xq39a1K4H9lTWP%2BEh/Ze%2BG%2Bv79327wDo9xu9d9lC2f1rvq7KE/aUIT7pP70n%2Bp87mmG%2Bp5piMP/JUqR/8AAZzj/wC2hRRRWpwBRRRQAUUUUAFFFFABRRRQAUUUUAFFFFABRRRQAUUUUAFFFFABRRRQAUUUUAFFFFABRRRQAUUUUAFFFFABRRRQAV4z44/5SF/C/wD7Iz48/wDTt4Qr2avGfHH/ACkL%2BF//AGRnx5/6dvCFAHs1FFFABXmH7W3xk8ZfBj4YWF98NbPTJfEviTxhovhrQJNbgklsrW41C/htjdTxxSRvLHDHJJN5SyRmUxCMPHv3r6fXG/Hj4JeGv2gfh1L8O/E2sanpe3UrHU9L1rRJo473S9QsrqK7tLuBpY5I98c8MbbZEeNwCjo6MykA8Tv/ANsf4z%2BGf2Q/iJ8SNd8PeHr3xz8N/G83hbW76w026TRgFvraL%2B2WtvOknS1hsruO%2BngEzMghmjExwJa8wj/4Kt67qHhMeCvCvjzwX4h8Tv8AGWfwNZ/EHwp4F1bWNF1GCLw7D4gbULLR7C6mvL0%2BVcJaeTDdMDIks/m%2BUhWvpf4c/ssD4U/D3VvA3gv49eOILrXJLy91LxNKuky6hNq11dPcT6qS9gYfPJcRiLyvsqRRRokChawT%2BwZ4Ii8L2ken/GDxva%2BNLTxvN4ub4pRyaY%2BuXGrzWDabLPIsli1iytp7C0EP2QRJFFFsRWjR1AO2%2BH/xx8B3X7Ouj/Hrxt8ZvCdxoUugQ3%2BpeN7f/iVaRIpUb7gLdTSG0jLZ/dyys0Z%2BRmLA1xP/AATp8T%2BGvGv7N194w8G%2BIbHV9I1T4t/EO70zVNMu0uLa7gk8Z600csUqErIjKQwZSQQQQa9K%2BCPwe8I/AH4VaL8IPArXj6bolsY4rjUbjzrm5kd2klnmfADSySu8jkAAs5wFGAOD/YP/AOSIa5/2Wb4j/wDqa63QB7NRRRQAUUUUAFFFcp8avjj8J/2dfh1f/Fj41eObHw/oGmpm4v76Qjc2CRHGgBaWRsELGgZmPABqJ1IUoOc2klq29El5smc4U4uUnZLdvRL1bsjpNT1PTdF0641jWdQgtLS0haa6urmURxwxqCWd2YgKoAJJPAAr83f2tP8Agrx8X/2hviBP%2ByX/AMEn/BWoeK9dlLQ6t4%2BsbQPDbLnaxtTJ%2B7jTPBu5iIx/AGyr1q3Phz9qf/gtZqUV/wCJE1v4Sfsyx3Cy2enkiLW/HChspI45WODADDO6MEgqJ2AeP7e%2BAv7OXwQ/Zh8CQ/Df4D/DfTfDekxYLw2MP7y4cDHmTStmSaTH8bszds4r52rUzHPVy4WTo0H9u3vzX9xP4Yv%2Bd6v7KS1e2W53PDT9tgaUZTW1WrFThHzp0ZWjVkuk6/7lPWNGtZM%2BFP2WP%2BCaf/BRP4fPeeI4Pix8PPhjrmusz6/43TTJPFvi6/3cuJ7u%2B2wpngYg2LwCQWGT7Zp//BHz4GeMr6LXf2sPjD8SvjPqCOJPK8beL51sInH/ADytbYxrGuedhZhX1rRXTh%2BHcroUlTcXNLpKTkvXl0jfzcW%2B7ZxZth6vEWYSx2d16mMrSteVepKptokoe7TjFLSMY01GKSUYpJI4T4S/svfs4fAeFY/gz8CvCfhllXabjRtBggmf/elVd7n3Zia7uiivZp0qVGHLTiorskkvuSRrSo0cPBQpRUYrokkvuSSCiiirNAooooAKKKKACiiigAooooAKKKKACiiigAooooAKKKKACiiigAooooAKKKKACvGf2X/%2BS3/tHf8AZZrH/wBQrwvXs1eM/sv/APJb/wBo7/ss1j/6hXhegD2aiiigAooooAKKKKACiiigAooooAKKKKACiiigAooooAKKKKACiiigDyL9vv4feNPit%2BxR8U/hx8PNGl1PWdZ8Daja2WkQOFfUy0DbrNSxCgzruhG4hf3nJAya8U8OXGufEWy/aW8a%2BAfgD4rk034k%2BFxaeC/CXirwhqmgHxDf2Xh/7PcGdZ4YZLBJjJa2KyTeS0n2NjFuRFc/ZFFAHxx/wS/8C%2BMvDfxJ8c%2BINVufiNrukT/D/wAF6VZ%2BMfir4Dfw3qr3VkuqrPpEVobS0WS0tFmgkSfyWZpL%2BZGubnyx5VL9uTwr8V9V%2BN3ibTfGvjLw9qWh6p%2Byn8VYfDGm6V4Yns7uwVpvDKuLm5kvZku2JKbWjht9u05DZG37Ur52/aa0f/hIf2rvDGgbN3279nb4lW%2B31333hNcfrWGKh7TDVId4yX3xa/U9TI8R9TzzCYj%2BSrSl/wCA1acv/bTov%2BCc%2Bsf25%2BwP8Gr7fuK/DTRoCfeKzjiP/oFez183f8EhdY/tz/gmz8Jb3fnZ4de3z/1xuposf%2BOV9I1z5VP2mV0Jd4Q/9Jiexx7hvqfHWbUP5cViF/5Xq/5hRRRXefJhRRRQAUUUUAFFFFABRRRQAUUUUAFFFFABRRRQAUUUUAFFFFABRRRQAUUUUAFFFFABRRRQAUUUUAFFFFABRRRQAV4z44/5SF/C/wD7Iz48/wDTt4Qr2avGfHH/ACkL%2BF//AGRnx5/6dvCFAHs1FFFABRRRQAUUUUAFeM/sH/8AJENc/wCyzfEf/wBTXW69mrxn9g//AJIhrn/ZZviP/wCprrdAHs1FFFABRRXwH/wVW/4KMx%2BFv7X/AGVvgd4%2BfR7q1t0/4Wf4805fNl8PW0uQmnWQBHm6pcgFY4wQYxuYlAryw8GZZjh8rwrr1n6Lq32X6vZK7ei1h/WKlelhsLSlWr1pKnSpQV51KknaMILq293ooxUpSajFtejft5f8Fg/2b/2L0vPBWjTf8Jz4/hUoPCuh3AKWUh4X7bcAMtvz/wAswGlOR8gB3V5j%2By7%2Bwh8ff22fHem/tnf8FVZftvlN9p8C/BtojHpujxMQyyXVsSQWOFPkvudgF89mx5Sp/wAEz/8Agllonh/VtL/ak/aB%2BFdtoNza7bj4e/Dec%2BedDU8rqGpSON11qb8MWcAQkgKqbY44P0FrxMFg8dnM1isy0p7wpK9vKU76yfVKSst3G9kvcznIMuySUcLia0cVjI/xOR82GoS/590n/wAxFSG08TP90ppxw1O0fbySOOOKNYokCqoAVVGAAOwpaKK%2BqPGCiiigAooooAKKKKACiiigAooooAKKKKACiiigAooooAKKKKACiiigAooooAKKKKACiiigAooooAK8Z/Zf/wCS3/tHf9lmsf8A1CvC9ezV4z%2By/wD8lv8A2jv%2ByzWP/qFeF6APZqKKKACiiigAooooAKKKKACiiigAooooAKKKKACiiigAooooAKKKKACio729s9Os5dQ1C7igt4ImknnmkCpGijLMzHgAAEknpWB8LfjD8JPjj4VXx38FPil4c8YaG1w8C6z4W1u31C0MqY3xiaB3TcuRlc5GeaAOjrxbx/BFc/8ABQT4ZW8y7kk%2BC3j1XU9wdW8IA13/AMNvjt8EPjLe6xpvwg%2BMnhXxXc%2BHrsWuv2/hrxDbXz6ZOS4EVwsDsYXzG42vg5RuODXB%2BOP%2BUhfwv/7Iz48/9O3hCgE2ndHmn/BEOaVP%2BCa/gXQrhiZdI1DXLGUnrlNXvCP0YV9Y18l/8EbP9B/Zm8V%2BE%2Bn9g/GHxPp%2B3%2B7tvC%2BP/IlfWleVkX/Imw67QS%2B66/Q%2B/wDFZL/iJecTX28RUn/4Mcan/uQKKKK9U%2BACiiigAooooAKKKKACiiigAooooAKKKKACiiigAooooAKKKKACiiigAooooAKKKKACiiigAooooAKKKKACiiigArxnxx/ykL%2BF/wD2Rnx5/wCnbwhXs1eM%2BOP%2BUhfwv/7Iz48/9O3hCgD2aiiigArxD9v7xJ4i0L4J6NpGieK9S0C08SfEvwr4f1/XNH1CSzurPTr7WrS2uBFcxMr2zzLJ9mEyMrx/aNyMjhWHt9ZvjHwZ4P8AiJ4Wv/A/xA8KabruiapbNb6no%2BsWMd1a3kLDDRyxSApIhHVWBBoA%2BU/CEX7QPjj9jX4r/C/4L%2BP9e1XUfC/xX1LQPCWs3viqT%2B1dR0W11S3a7sI9UuHMn2sRG/02K7lk8xJIo2eXejSV4h4l/al%2BPXhr9nT4u/B%2B08MfGbw5pMXxT1TQdG8T2sereMtc8KaFb%2BG9M1C7im1LSzqEgu31C5urSO4a4cWnmyYn32IQ/fFv%2BzX%2BznaeC3%2BG9r8AfBUXh2TQ/wCxZNAj8K2a2Tab5jSfYjAI/LNvvd38rGzc7HGSTWv4S%2BFnwx8A%2BAofhV4E%2BHOg6L4Xt7aS2g8N6TpENtYRwuWLxrbxqIwjFmyoXB3HPU0Aed/ss/FrXfE/7Cvw8%2BL1l4Y8V%2BLdUuvh1pV1Lp00H2TVtUuPssQkJGqyWw8x33PvmdA4O8MQwJzf%2BCdOrX%2Bvfs3X2t6r4YvtEubz4t/EOa40fU5IHubF28Z60TDK1vLLCXQnaTHI6ZB2swwT7Xoui6P4b0e08O%2BHdJtrDT7C2jtrGxsoFihtoUUKkcaKAqIqgAKAAAABXkX7B/8AyRDXP%2ByzfEf/ANTXW6APZqKK8m/bb/al0T9j79nfWfjBe2H9oaqNlh4U0NAWk1bVp8pbWqKvzNl/mbbyERyAcYrKvXpYajKrUdoxTbfkv6%2B%2By6mGJxFHB4edes7Rim2/Jf1p3bS3Z4z/AMFT/wDgobJ%2By/4Om%2BDPwY1a2PxI1rR5b2a/lAeDwnpK/LLqlyOfmydkEZBMkpUAOdscnkP/AASd/wCCbM15b6J%2B1x%2B0hotywWVtV%2BH3hXWW82dZ58O2vakST5t/P8roGJ8ldn8Sp5fAfspfsiaz%2B1f%2B09f%2BGfi5qzeJ7bwxrNvr/wC0P4rmIePxH4pA3W3hqAj5fsNgOJEX5WdWBUDyNv6tqqooRFAAGAAOlfJ5fhque495hi1%2B7g7U4dLp6t92mkn0ck7XUFf7zDUcTwLk8a9aPJm2NpXl/NgsJVinChH%2BTE4qDVTEzVpwoSpYeLip1eZaKKK%2BxPigooooAKKKKACiiigAooooAKKKKACiiigAooooAKKKKACiiigAooooAKKKKACiiigAooooAKKKKACiiigArxn9l/8A5Lf%2B0d/2Wax/9QrwvXs1eM/sv/8AJb/2jv8Ass1j/wCoV4XoA9mooooAKKKKACiiigAooooAKKKKACiiigAooooAKKKKACiiigAooooA8i/b7%2BH3jT4rfsUfFP4cfDzRpdT1nWfA2o2tlpEDhX1MtA26zUsQoM67oRuIX95yQMmvHPA0Pjf4sXH7RniT4OeDfGPg4fFHw/HYfDuTxF4K1PRJX1a00EW0moSR3NvG9kN8tpbI84jaX%2Bz2MW9EVj9gUUAfJ3/BMfUfjbp9hc/DTxPZeL38FeHPh94at9Kl8bfDdfDM%2Bl60q3ceoaRZwi1tvtNhbxxWRjm2zAGZwLq55MfVX%2Bm/Fe0/4KbeC7zxt408PahoVx8HvHB8NadpXhiezu7BBq3hLzFubmS9mS7JymCkNuF2nIbcNv0PXjPjj/lIX8L/APsjPjz/ANO3hCgDzH/glD/xLT%2B0X4Tbj%2Bzf2nvFXkr6QyfZnT%2BtfWlfJf8AwTp/4lX7Tf7VfhPp5Pxgj1Db/wBfVmj5/HbX1pXk5HplkI9nNfdUqH6B4o%2B9xxiKv/PyGHn/AOB4TCP9GFFFFesfn4UUUUAFFFFABRRRQAUUUUAFFFFABRRRQAUUUUAFFFFABRRRQAUUUUAFFFFABRRRQAUUUUAFFFFABRRRQAUUUUAFeM%2BOP%2BUhfwv/AOyM%2BPP/AE7eEK9mrxnxx/ykL%2BF//ZGfHn/p28IUAezUUUUAFFFZvjDxl4Q%2BHnhe/wDHHj/xXpuh6Lpds1xqesaxfR21rZwqMtJLLIQkaAdWYgCgDSornNM%2BMPwj1r4ZD416P8UvDl34NOnvfjxbba5byaYbRAS9x9qVzF5ShWy%2B7aNpyeK53Vv2v/2S9B%2BG2m/GXXP2ovh1ZeD9YumttI8V3fjawj02%2BnUsGihumlEUrgo4KqxI2NxwaAPRa8Z/YP8A%2BSIa5/2Wb4j/APqa63XsNhf2Oq2MOqaXexXNtcxLLb3FvIHjljYAq6sOGUgggjgg149%2Bwf8A8kQ1z/ss3xH/APU11ugD2avyv/bW/aU8SftF/HG/%2BL/w1ibU9H%2BHviL/AIQP4CabEQU8Q%2BPbzEc%2BrKOjxWMfzRucp5iwsGG9hX2T/wAFOf2gPE/wO/Zgu9B%2BFxeTx98Q9Rg8IeAbWB8StqN8TEJVP8Jij8yQNjAZUB618%2Bf8E3P2e/Cvj39oG38U%2BHES6%2BGn7N%2BlSeCvh3cKmIdZ8RyKG1rWgOhLSMyKwyrB0ZcFK%2BTz2rVx2Lp5dRdrtOT7dV/4DFOp/i9mj3ODstwWa8RzxuYwU8BlcI4mvF/DWquVsHhX3VWslOot/ZUpu1j67/Y5/Zk8K/sh/s8eHvgf4ZZZ5tPtvN1zVMHfqepSYa5unJ%2BZi8mcZJIUIvRRXp9FFfT0KNLD0Y0qatGKSS8kcOZ5ljs5zKtj8bNzrVZSnOT3cpNtv73otkkkrJJIooorU4QooooAKKKKACiiigAooooAKKKKACiiigAooooAKKKKACiiigAooooAKKKKACiiigAooooAKKKKACiiigArxn9l/wD5Lf8AtHf9lmsf/UK8L17NXjP7L/8AyW/9o7/ss1j/AOoV4XoA9mooooAKKKKACiiigAooooAKKKKACiiigAooooAKKKKACiiigAooooAKKjvb2z06zl1DULuKC3giaSeeaQKkaKMszMeAAASSelYHwt%2BMPwk%2BOPhVfHfwU%2BKXhzxhobXDwLrPhbW7fULQypjfGJoHdNy5GVzkZ5oA6OvC/iP4h0rTP%2BCknwg0K9uRHcan8GfiCLJWP%2BsaPVPB7so99u5voreleueGPiJ8P/G2qa1ofgzxzo%2Br3vhvUhp3iKz0vU4riXS7zykm%2Bz3KRsTBL5UscnluA22RGxhgT8N/8FU/iRqXwQ/4KNfsffGyBnXTdFm8WWXiKYHCQafqFx4dsJZX/wBlTcIfrtrlxmJWEw0qz2Vr%2BjcU/uTv8jjzDFxwOElXltG1/Ryim/kpX%2BR6R%2Bxr/wASj/gph%2B1z4aPCPe%2BC9QhH97ztIk3n/voAV9aV8l/Av/iTf8Fg/jtpvT%2B2vhx4Y1DH97yQ8Gf1xX1pXHk2mFnHtUqr/wAqN/qfpniT7%2BeYWt/Pg8DL/wAtKcH%2BNNhRRRXrH5%2BFFFFABRRRQAUUUUAFFFFABRRRQAUUUUAFFFFABRRRQAUUUUAFFFFABRRRQAUUUUAFFFFABRRRQAUUUUAFFFFABXjPjj/lIX8L/wDsjPjz/wBO3hCvZq8Z8cf8pC/hf/2Rnx5/6dvCFAHs1FFFABXiH7f3hvxFrvwT0bVtE8Kalr9p4b%2BJfhXX/EGh6Pp0l5dXmm2OtWlzcGK2iVpLl4Vj%2B0iFFaST7PtRXcqp9vooA%2BLvDXw9tPiT%2Byf8W/D3i/QvHXhHTvE/xLv/AB54Ttv%2BFZapdXdnaxazBd2sr6aLfzJmuL2ze8k07C3Lw3ZDxxtIccj4O%2BKH7SP7Pnwe%2BJXxd1T4Y%2BKfFnin4yfGt5PAmoW/wO1uO30CybQNLsJ9XvdEt47q/sLQS6ddSLbSnz7lnhDtGbl5Ivv%2BigDyz4B/DQfDT9jrwV8IP2efEs9hH4e8DabpPhbVfHnhS7MqR29tHFHJeac72U6uVTLQloGUnGFA21z3/BOm38S2n7N19a%2BMtWsb/V4/i38Q11O%2B0zTntLa4nHjPWvMkigeaZoULZIRpZCoIBdsZPulfPP7M/ji2%2BGP7HvxC%2BJV6V8nw98Rvinqcu/ptg8Xa9Kc%2B2EqZyjCDlLZa/dr%2BhM5xpwc5bJNv0Sbf5HyP%2B3r%2B0Hq/xB/aK8f/ABp8JeZeaf8AAzTv%2BED%2BF9vAc/2j8QNaHkTSw9nktIS2VPKvArA8196fse/s86N%2Byp%2BzN4N%2BAejJET4f0WKLUJ4RgXN637y5m/4HM8jc9iB2r87f%2BCbHw8b45/Ef4GfCm9ja7034ZeHrj4r/ABGvJTuOpeJ9Ymd9M88nrNHamGdW7qpFfq5XyvDcJYurVzCpvLRfO0pfd7kP%2B3GfWTpzyHw7y3Lp6YjHv%2B0cR3Xto8mDpvyp4aLml3rXt7wUUUV9YfKhRRRQAUUUUAFFFFABRRRQAUUUUAFFFFABRRRQAUUUUAFFFFABRRRQAUUUUAFFFFABRRRQAUUUUAFFFFABRRRQAV4z%2By//AMlv/aO/7LNY/wDqFeF69mrxn9l//kt/7R3/AGWax/8AUK8L0AezUUUUAFFFFABRRRQAUUUUAFFFFABRRRQAUUUUAFFFFABRRRQAUUUUAeRft9/D7xp8Vv2KPin8OPh5o0up6zrPgbUbWy0iBwr6mWgbdZqWIUGdd0I3EL%2B85IGTXlnwY134l%2BKPGnx3%2BKPwB%2BHmr%2BGrvx7Y2cfwxh%2BIvgfV9Gs7nWbDRUhe%2BvoZbUTWluZHs7bdLGjzLYP5KyKiMfrCigD4%2B/4JbfBb4/8AwK8f/HDwl8YPg5pPhyxuvFukXljrWn%2BLbzVzr942g6et7eme40uxFy0s6vLLOq83MtxGUHlB343/AIKU/s//ABa%2BPnxX1b4ceK/Ffh/VrHUf2ePH174D0rSPC89ne2V1aat4RuokuLl72ZbpnlhhUNHDb7RuyH3cfedeM%2BOQD/wUK%2BF4I/5oz48/9O3hCscTQhisPOjPaSafzTX6nPi8NTxmEqYep8M4uL9Gmv1/A%2BVfgf8AH57P9qn4B/tveJ50l8OftBfCS18D6vqOcLp3ie2lMqo7dCJpklgQYzuVicAV%2BiFfnJ8E/wBmaH4vfs2ftG/8EzFuBY638LviVc6n8NrgSeW%2BmRXZOo6RKrdY8uJgzD%2BCVsda%2Bs/2Af2mpv2r/wBl7QPiVr0BtfE1mJNH8baa6bHstZtT5VzGyfwbmAlC9llWvnshxFSEvY1d6ic1/ji%2BSrH5Siprykz7qdefFvhrlme/8xGDjHBYlf4PafV6npJKtRk/56cOsj2iiiivpz40KKKKACiiigAooooAKKKKACiiigAooooAKKKKACiiigAooooAKKKKACiiigAooooAKKKKACiiigAooooAKKKKACvGfHH/ACkL%2BF//AGRnx5/6dvCFezV4z44/5SF/C/8A7Iz48/8ATt4QoA9mooooAKKK4748fGzw1%2Bz98OpfiJ4m0jU9U3alY6Zpmi6JDHJe6pqF7dRWlpaQLLJHH5kk80a7pHSNAS7uiKzAA7GivHYf22Phkv7O%2Bq/tC6t4T8S6euia%2B3h/VfB91Z27axBrf9oJp0embIp3gaaW6lhjjdZjA4njkEvltvrHuf2/fB8ehw2ll8DvHt545k8azeFZfhXappJ1y21KLTV1WRZHbUBYLGNPeG6837WUKXEKhjLIsZAPeq%2BCf2h/iA/w4/4I5fHLWIJCJr/4i/EXR4UX70hvvHurWZUDv8s7fgDX2l8Hvit4O%2BOnwr8PfGP4fXc02i%2BJtIg1HTWuYDFKscqBgkkbcxyLkq6HlWVlPINfmN/wUq%2BIF14a/wCCaNt4P0vD3Ot/tR%2BP7iaAtjzLSx8WeI7uX8mjh/OvIz%2Bv9WyTEVP7kl96t%2BpxZhhsRjsHLB0P4lZxpR/xVpwox/8AJqy/E%2Bif%2BCE3wltfC/7F8fxvvUJ1b4katLeyGTlrbT7NmsLG0B7pHFbkr6CUivtSvGv%2BCdvgv/hX/wCwl8IvC7Q%2BXJH8PtLnuI8fdlmtkmkH/fcjV7LWmTYdYXKaFNLaEb%2BrSb/Fs%2B749xdPGca5hKl/DjVnTprtSov2FKK8o0qEIryV%2BruUUUV6Z8iFFFFABRRRQAUUUUAFFFFABRRRQAUUUUAFFFFABRRRQAUUUUAFFFFABRRRQAUUUUAFFFFABRRRQAUUUUAFFFFABXjP7L//ACW/9o7/ALLNY/8AqFeF69mrxn9l/wD5Lf8AtHf9lmsf/UK8L0AezUUUUAFFFFABRRRQAUUUUAFFFFABRRRQAUUUUAFFFFABRRRQAUUUUAFFFFABXjPjj/lIX8L/APsjPjz/ANO3hCvZq8Z8cf8AKQv4X/8AZGfHn/p28IUAeRftgeD/AIvfsgftHT/8FIvgj4al8UeHr7QbfSfjP4KtIgbuXT7diYtVtD/HLAhwyHjYvYFmTiP%2BFpTfsl/EjWf%2BCh/7OunDx/8As6/GL7Nq3j238Nqz3vhjUFUxy6rHB/FGxz9pQ4dHDbtuwA/fRAYFWAII5Br428cfsh/tIfsaeO9f%2BNH/AATth0jWvCniK7N/4x%2BAuuuLezupyMSz6XOfltJXHWJgIzj%2BILHGvzOY4Cvh6ntqF%2BXmc/dV5Qm1ZyjH7UJLSpDd/FHXQ24cz/E8DZliKv1f61l%2BKTjicPd3aclPnpte9GUZxVSLjeUKi54xnGdWnP6t%2BG3xK8BfGHwNpvxL%2BGHiyy1zQdYthPp2p6fMHimQ/qCCCCpwysCCAQRW5X5ifA7xt/YPxG1rxN/wTQ8bW/gXxdPfmfx7%2ByL8WE/s9JrzA81tNLlfs8jAZHlnyzlN/lqqxV9Zfs3f8FKPgf8AG7xMfg98RrO%2B%2BGHxPtnEWofDvxyBa3RlPT7LK4VLxG5KFPmZRu2AEV04DPMPiFGFZqMnonf3JP8AuydrPvCXLNbNO1z7HE8KYXNsunnPCdf69glrJR/3jDrrHE0V70eXZ1YRnRla7dJvkX0TRRRXunxAUUUUAFFFFABRRRQAUUUUAFFFFABRRRQAUUUUAFFFFABRRRQAUUUUAFFFFABRRRQAUUUUAFFFFABRRRQAV4z44/5SF/C//sjPjz/07eEK9mrxnxx/ykL%2BF/8A2Rnx5/6dvCFAHs1FFFABXl/7W/wb8Z/Gf4YWFj8NbzTIvE3hrxhoviXQI9bnkisrq40%2B/huTazyRRyPEk0aSQ%2BaschiMgkCSbNjeoUUAfNvg79mD4rr8CfiL4H%2BLnwz8BeJ9T%2BI2uah4m1XRR4zv7fT01Ge4TyLFLpNP8%2BKOC3t7QrqCRib7QjSLbxYXHn3wy/4J9/HX4Fz2Xx4%2BGNl4RufiHJ8UdS8U6x4T1/x/q93pklreaDb6KbX%2B27m0uL64nVLGyujdTWxMknnx7I0dGj%2B06KAPKvgF%2BzRF8Mf2SvDv7NPjXxRe3s1loK22u6v4d1W70mSe7djLcy201tLHcWymZ5CmyQOqEAseSfyL/wCCiEklp8MvBnwK8GXd9cL4T8V/Fm8WHUtVnvbm5S%2B8e32kQGa4uHkmnkG6QmSR2diSWYkk1%2B5NfhfqSP8AGn/goFqPhPBkXSv2mG8GXCEcfY7nx34i1mfHrjy0J%2BtfK8Yycsn9it6k4x/G/wDkfQ8FUoYjxCyOlNXisXSqyT2cMMquLlfythV95%2B3/AIQ8OWng/wAJaX4RsMeRpWnQWcGBj5Io1QfoorRoor6lJRSS6Hg1Kk61SVSbu5Ntvu222/m2wooopkBRRRQAUUUUAFFFFABRRRQAUUUUAFFFFABRRRQAUUUUAFFFFABRRRQAUUUUAFFFFABRRRQAUUUUAFFFFABRRRQAV4z%2By/8A8lv/AGjv%2ByzWP/qFeF69mrxn9l//AJLf%2B0d/2Wax/wDUK8L0AezUUUUAFFFFABRRRQAUUUUAFFFFABRRRQAUUUUAFFFFABRRRQAUUUUAePf8FBz45H7DnxYPw3/tP%2B2P%2BEC1P7P/AGJv%2B3bPs7%2Bb9m8v5/P8rzPL2fPv27fmxXiX7HPi/wDY10DVfjjpHwf8V%2BBbD4C3iW02iW%2BhahbQ6FM8Oixtr0liImEZgjhazNw0PyJM05ciUy19nUUAfHf/AASb8R/s2/EuT4k/Gr9k%2B/8AAmieB/E19ph8P/DbwJfWe3R7SGGZI9UvrO0bZp97qGWcwMqyCG1txKBMsyJ3t/qXxXu/%2BCm3guz8beC/D2n6Fb/B7xwPDWo6V4nnvLu/Q6t4S8xrm2ksoUtCMJgJNcBtxyV2jd9D14z44/5SF/C//sjPjz/07eEKAPZqKKKAPK/2lf2KP2Y/2uNLSy%2BOvwo0/Vbu3TFhrkINvqNkQcqYbqIrKgDfNt3FSRypr5M/aC/4JgftTR%2BFP%2BEO8NePvDHx88F2an%2BzfCPxrgePXNNj/uWOuWxWZX6AbyiADBBHB/QeivLxuTZfjrucbSe7jo366NS9JRl8jmo4eWCzKGZYCrPDYqDvGtRnKlUTX96DV/SSkum2h%2BQGmftkfty/8E8J00TxLZ%2BN9E8PW0gQeDfjlpUur6dEvQQ6f4k09SZeyqssaxRjGS3NfT/wA/4Lyfsi/EiKDS/jba6h8N9Ud1ie4vZF1LR3mIzsj1C03IeOpkWMDua%2B3Lq1tb62ksr22jmhlQpLFKgZXU8EEHgg%2BlfPPxm/4JPf8E/PjncS6n4q/Zt0TTtRlJb%2B1PC3maTOHPVz9kZFdvd1bPfNePHKc/y5/wCw4lTj/JUTt8mm7fKy8j6%2Bpxjj8yjbP8FQxsv%2Bf0P9ixT85zownhqz7urhYSb1c7u57l4G%2BIXgL4n%2BHYfF3w28baT4g0q4GYNS0XUYrqCT6SRsVP51sV%2Bc%2Bof8G%2BmkfDPxBJ4y/Y1/bZ%2BIXw51PO6N5GFxnByIzJbPbPs7fNv467q6fRvC3/Be/wDZ1tvIsvGPwp%2BN%2BmwkLDBqpaw1Jox237baMN/tPJL75rsp5tmdFWxmDkvOm1Uj9ycZ/gz53GYzJ070I14LtUpwnb/uJh6kov1dKHofeNFfEl7/AMFZvj18HpLiP9rP/gl98WfDFvZIPtWseD/K1%2ByU92M6LDCq9%2BJG%2BprV8Cf8F5P%2BCanjIJFqvxh1Pw3cPx9m8QeFrxSp9GeCOWNce7Y966I8QZM5cs6yg%2B07wf3TjH8zyp5rgKVP2lWbhHTWcZwjrsuacIxv5c1/I%2BxqK8c8F/8ABQ39hX4ghF8K/tdfD2aST7ltceKra3mb6RzOr/pXqXh7xf4T8XWv23wp4n07VISMibTr2OdcfVCRXo0sVhsQr0qkZejT/Js6KGMweKV6NSMv8Mov8mzRooorc6QooooAKKKKACiiigAooooAKKKKACiiigAooooAKKKKACiiigAooooAKKKKACvGfHH/ACkL%2BF//AGRnx5/6dvCFezV4z44/5SF/C/8A7Iz48/8ATt4QoA9mooooAKKK8/8A2l/jjc/AH4axeLNF8Ir4g1rVfEOl6D4b0OTUfscd7qOoXsVpAss/lyGCFWl8yWQRyMsUblUkYKjAHoFFfP15%2B3JfaB%2ByZ48/aF8WfCMW3iD4b6vf6R4r8KWeume1tr21uFiaUXxt0P2HypIrtrloFaO3ZnaEMjR15hff8FdbCy%2BC1h8VZ/CPw2trW%2B%2BIt94Vj8a6j8YxD4ClFtp3243kPiL%2BzW82N23WaD7Ku67guIc/uwzgH2hX42/sU%2BBH8Qf8FPIWuYONR/a6%2BL%2Br3gI/5d9LmmjtH%2Bn2iedfbBr9ZfgJ8Upfjh8D/B/xmm8Haj4dfxZ4ZsdXbQdXXF1p5uYEm8iUcfOm/aeByOg6V8Bf8E/PDelat/wVJ8QrpcH%2Bj%2BF9P%2BJuo3bk5I1K%2B%2BJOsxn6Zt41H0WvBz2gq/1ZP/n7D9X%2BUWfbcAYZf21icxf/ADC4PHVF/inhvq8fnfEu3mfpVRRRXvHxIUUUUAFFFFABRRRQAUUUUAFFFFABRRRQAUUUUAFFFFABRRRQAUUUUAFFFFABRRRQAUUUUAFFFFABRRRQAUUUUAFFFFABXjP7L/8AyW/9o7/ss1j/AOoV4Xr2avGf2X/%2BS3/tHf8AZZrH/wBQrwvQB7NRRRQAUUUUAFFFFABRRRQAUUUUAFFFFABRRRQAUUUUAFFFFABRRRQAUUUUAFeM%2BOP%2BUhfwv/7Iz48/9O3hCvZq8Z8cf8pC/hf/ANkZ8ef%2BnbwhQB7NRRRQAUUUUAFFFFABRRRQAV5/8Wf2Uf2Zvjssn/C4/gF4R8SSyDBu9W0CCW4X3WYr5iH3Vga9AorOrSpVoctSKkuzSa%2B5pnVhMdjcvre1wtWVOfeEpRf3xlF28r2fVM%2BJvil/wb//APBOv4hF5vDXhHxH4NmYlg/hvxFI6BvXy7wTqB/sgAemK8K8Y/8ABt3daPqo8QfCL9pPTrtoc/ZdN8T%2BFpLXB7FrnTriJyf%2BAV%2Bp1FeFiOFeH8S7yw8U%2B8bx/J2/A9lcUZhVVsbRw%2BKXbEYXC13/AOBToKpfz9rzdpI/JR/%2BCav/AAU%2B%2BDjE%2BH5PEerxRH90vwg/aLvtELKOg26vFKM46jpQPE/7ffwp%2BTxp4t/bM8MeX9%2B6HhTS/G1rD7vMjRZX328%2BlfrXRXL/AKp0KX%2B715x%2Bd/1iyvr3AeK/3zhzDp98NWxmEfyVPE1aa%2BVNfcflBon/AAUE%2BLWk3y6Nqf8AwWZtNPv/AOHS/iZ%2BzU2lyL7PJAjLx3JavU/BX7Xf7cvijYnw3/4KIfsbeLJW%2B5a6xfXdnO/pmKGUOPyr9Ada0DQvEli2meItEtL%2B2f79ve2yyo31VgQa8r8a/wDBP39h34h738W/sk/D24lk%2B/cxeFLWCZvrLEiv%2BtH9i5tS%2BDEX/wC36sf/AG6ovwD%2ByvCPE/YzPCv/AKd4uliIr5V6VOVvLmb8zyDSviR/wWfls11C1%2BGf7N3ia3P3Z/DvifVY0f8A3WlyKs/8NAf8Fe9K/wCP/wD4J8%2BBNWx1/sv4rwwZ%2BnnJVnVf%2BCKv/BOye8bVfC3wc1LwxfN/y%2B%2BGfGOp2rj6L9oKD8Fqv/w6es/D37z4Wft8/tGeGtv%2BrtIfiQbm0X0zFLCc/wDfVH1XPafWb/w1oP8A9OUV%2BYf6m%2BH1f/duJcZS8q2E5vxozqffy/IT/hsP/gqBp/Gr/wDBIeSRR1l0/wCOejyZ%2BieVmj/hvP8Abls/%2BQz/AMElPHMePvfYfHWmXP5bQM0f8MP/APBQbwzz8Ov%2BCtHiRUX7sHin4aaZqm8ehd2Vh9QM0v8Awqv/AILNeF/%2BQH%2B1X8GvFO3p/wAJL4HurHf9fsjHH4Uc2bQ%2BJ11/27h5/lZ/gH/EN8JV/wB04tw8vKpGpSfz9pgmv/JmJ/w8a/aVtf8AkK/8EqvjImOv2R7Of%2BTil/4ec/FS3/5CP/BLz9odfX7N4Vgm/lMKP%2BEy/wCC2Xhv/kM/Br9nzxKF6/8ACP8AiHVbMv8AT7UCBR/w1V/wVV8P8eIP%2BCWWmawg%2B/PoHxo06PHuI5o9x%2BlH1vFx%2BKtWj64dP/0m4f8AEKOKp/7tnmDq%2BmJwS/8ATvsP0D/h6n4gg/4/f%2BCZf7Ua%2BvkfDFZf5XFJ/wAPZrWP/j7/AOCcX7V0HqZPg6cfpc0v/Dwz9q/Rf%2BR1/wCCUnxVgx9/%2Bw9VsdS/Ly2XNH/D14aX8vjD/gnb%2B05pePvzH4W%2BdCP%2BBpPz%2BVH9oSXxY1r1w9v/AG0P%2BIQeKMv4NaFT/BLAT/8AScan9yE/4e4%2BE0/4%2BP2D/wBp2H/rr8IXH8p6P%2BHvPw6X/X/sZftHx/7/AMJZf/jtL/w%2BW/ZbsP8Akbfhv8W9Ax97%2B2Phnept%2BuwNT4P%2BC3n/AATTEottZ%2BPd7pUx/wCWWp%2BCdYjP5i1IH50f2nT65lBesIL85IH4OeM9rwwlef8Agwsan/purUI/%2BHv3wpHEn7JX7Qyf73wnn/8AjlH/AA%2BD%2BDa/6z9l74/J/vfCm4/%2BLrodK/4LA/8ABNbWMfZP2s9ATPT7Va3cH/o2Fa6PTP8Agph/wT71bH2X9sX4epnp9p8TQQ/%2BjGWto4yU/hzGm/8At2n/APLDza/hl4tYX%2BLhcRH1wNT9Is87/wCHxHwMX/W/s5/HZP8Af%2BFdz/8AFUf8Pj/2dk5n%2BCPxqi9fM%2BF12P617Hpv7cf7FesYGlftffC%2B4J6LD4%2B05j%2BQmrdsP2k/2ddVwdL%2BPvgq5z0%2Bz%2BKrR8/lJXRGWMn8ONpv/tyH6VTya3CPH%2BG/ixqR/wAWDqL84o%2Bf/wDh8z%2Bywn/Hz8Ovi1D6%2Bb8Mr0Y/IUf8Po/2OV4uNF%2BJMPtJ8N9QH8o6%2BmrH4lfDnVMf2Z4/0S5z08jVYXz%2BTVr215Z3qeZZ3Ucq/wB6KQMP0raNHNpfDiYP/uGv0qHm1ct4moP95iFH1oNfnNHyd/w%2Bp/YmHEh8fp7N8OdS/wDjVH/D6r9iP%2BGXx6T6D4dal/8AGq%2BtaKr6vnP/AEEQ/wDBX/3Qx%2Bq8Qf8AQVD/AME//dT5KP8AwWl/YyP%2Bp0/4iyemz4cajz/5Do/4fO/smv8A8e3gr4qTenlfDS%2BOfzWvrWij6vnH/QRH/wAFf/bh9Vz/AP6Cof8Aglf/ACw%2BSv8Ah8j%2BzlJxafBf40XHp5Pwvuz/ADxVT4J/tieCP2sv%2BChfgw%2BDPhr488ProHwZ8ZfaG8beFZNMFz5%2BreFdvkbyfN2%2BSd2Pu7k/vV9gV4z44/5SF/C//sjPjz/07eEK1oUMxhVUqtdSj2VNL8eZ2%2B43w2GzanWUq%2BJUo9Uqajf587a%2B49mooor0D1Arz79pf4HXXx%2B%2BGsXhPRfF6%2BH9a0rxDpeveG9ck077ZHZ6jp97FdwNLb%2BZGZ4WaLypYxJGzRSOFeNirr6DRQB84S/sLeONV/Z/8W/B3xF8drCbVfGfiL/hKNZ8R2fg54lfXhqkV8jfZnvXVtNCW1raGyZi7wROHuWMhYY9r%2BwB8Y9K8Tt8a9G/aR8Np8SLr4gX/ijU7y6%2BGssvhuV7rRLTRWij0oaos0TrbWMLic3rOZJLndlJjGv1PRQB5r8H/wBl34cfDP8AZY8N/sleJ9OtPGPhrQvC9rol3b%2BJNMhmg1OKKNVPm27KYghK5EQGxBhQMKK%2BKf8AgiN4F0TR/wBrT9q6fw34bsdJ0Twp8TdS8MeGdO0y0SC2s7VfEGtzvBFGgCxopaMBFAAGAAK/SCvi7/gjP4QfSrb9pjxpdRYm1v8Aa48fpG%2BPvQW%2BrzRr/wCPmUV52NpurisN2U3L7oSt%2BLPsuGsbHA5FnXeph6dNf9v4qi3/AOS07PyPtGiiivRPjQooooAKKKKACiiigAooooAKKKKACiiigAooooAKKKKACiiigAooooAKKKKACiiigAooooAKKKKACiiigAooooAKKKKACvGf2X/%2BS3/tHf8AZZrH/wBQrwvXs1eM/sv/APJb/wBo7/ss1j/6hXhegD2aiiigAooooAKKKKACiiigAooooAKKKKACiiigAooooAKKKKACiiigDx7/AIKDnxyP2HPiwfhv/af9sf8ACBan9n/sTf8Abtn2d/N%2BzeX8/n%2BV5nl7Pn37dvzYr5s%2BEXiX4ead8Mf2nvDX/BOTX/DUHh3UvC0z/BWw8C3VuthdeJYvDubw6SkJ8twkr6aZTACq3LS78SmWvvSigD43/wCCZZ/Z8Pxj8e/8MWnSP%2BFT/wDCt/BXmf8ACObfsP8AwlW/Wf7S8zZx/aP2P%2ByPte797u8nzP3m%2BvQb/Uvivd/8FNvBdn428F%2BHtP0K3%2BD3jgeGtR0rxPPeXd%2Bh1bwl5jXNtJZQpaEYTASa4DbjkrtG76Hr5w/aP1f416P%2B3h8J5/gd8P8Awt4i1JvhH47W7tPFfjC50WCOD%2B1PCRLpLb6fes77to2GNRgk78gKQD6Porxn/hOP%2BChf/Rr/AMGf/D8at/8AMvR/wnH/AAUL/wCjX/gz/wCH41b/AOZegD2aivGf%2BE4/4KF/9Gv/AAZ/8Pxq3/zL0f8ACcf8FC/%2BjX/gz/4fjVv/AJl6APZqK%2BcdJ/aO/bt1j4z6/wDA63/ZQ%2BEi6p4d8L6Rrt5cv8ddU8iSDUbnUreFEI8Mbi6tpc5YFQAHjwWJYL1H/Ccf8FC/%2BjX/AIM/%2BH41b/5l6APZqK8Z/wCE4/4KF/8ARr/wZ/8AD8at/wDMvR/wnH/BQv8A6Nf%2BDP8A4fjVv/mXoA9morxn/hOP%2BChf/Rr/AMGf/D8at/8AMvXL%2BAf2jv27fiJ4r8b%2BENH/AGUPhJDceA/FEWharJc/HXVAk88mlafqYeLb4YJKeTqMKksFO9HGMAMwB9HUV4z/AMJx/wAFC/8Ao1/4M/8Ah%2BNW/wDmXo/4Tj/goX/0a/8ABn/w/Grf/MvQB7NRXjP/AAnH/BQv/o1/4M/%2BH41b/wCZej/hOP8AgoX/ANGv/Bn/AMPxq3/zL0AezUV84/CL9o79u34y%2BFLvxf4c/ZQ%2BEltb2fijW9CkjvfjrqiuZ9L1W60ydxt8MMNjTWkjIc5KMpIU5UdR/wAJx/wUL/6Nf%2BDP/h%2BNW/8AmXoA9morxn/hOP8AgoX/ANGv/Bn/AMPxq3/zL0f8Jx/wUL/6Nf8Agz/4fjVv/mXoA9morxn/AITj/goX/wBGv/Bn/wAPxq3/AMy9cv8ABH9o79u348fBjwh8cfCv7KHwktdL8Z%2BF9P13TbbUPjrqizwwXdtHcRpIE8MMocLIAwVmGQcEjmgD6Oorxn/hOP8AgoX/ANGv/Bn/AMPxq3/zL0f8Jx/wUL/6Nf8Agz/4fjVv/mXoA9morxn/AITj/goX/wBGv/Bn/wAPxq3/AMy9cv8AG79o79u34D/Bjxf8cfFX7KHwkutL8GeF9Q13UrbT/jrqjTzQWltJcSJGH8MKpcrGQoZlGSMkDmgD6Opk9vBdRGG5gSRG6o6gg/ga8c/4Tj/goX/0a/8ABn/w/Grf/MvR/wAJx/wUL/6Nf%2BDP/h%2BNW/8AmXoGm07o9G1T4TfCvXM/238M/D95nr9q0aCTP/fSGud1P9kf9lHWs/2z%2BzH8PbvPX7T4LsZM/wDfURrm/wDhOP8AgoX/ANGv/Bn/AMPxq3/zL0f8Jx/wUL/6Nf8Agz/4fjVv/mXrGWHw8/ihF%2BqT/NM9GhnOcYX%2BDiasP8NSpH/0mpEk1H/gnn%2Bwbqmftf7GfwvBPUw%2BBrGIn8UiFYeof8EsP%2BCdup5%2B0/sg%2BClz/wA%2B%2BmeT/wCiyKz/AIu/tHft2/BrwpaeL/Ef7KHwkube88UaJoUcdl8ddUZxPqmq2umQOd3hhRsWa7jZznIRWIDHCnqP%2BE4/4KF/9Gv/AAZ/8Pxq3/zL1zyyzLZ/FQg/%2B3I//InrUeOONcP/AAs0xMfTEV//AJczjL//AII5f8E0NRz9o/ZP0Vc/88NSvov/AECcVk3P/BD/AP4Jf3D%2Ban7Mggfs9v4x1lCPwF5ivSf%2BE4/4KF/9Gv8AwZ/8Pxq3/wAy9H/Ccf8ABQv/AKNf%2BDP/AIfjVv8A5l6xlkmTS3w1P/wCP%2BR6VLxR8S6KtDO8Wv8AuZrf/Js8y/4clf8ABPmDjSfh94msMdPsfj/VVx/31cGk/wCHMP7IMH/IL8R/E2x9PsnxJvxj83Nenf8ACcf8FC/%2BjX/gz/4fjVv/AJl65fx9%2B0d%2B3b8O/FfgjwhrH7KHwkmuPHniiXQtKktvjrqhSCePStQ1MvLu8MAhPJ06ZQVDHe6DGCWWf7CyXph4fJW/Jo2/4it4mP4s4xD9ajl/6VGRzX/Dnb4BQ/8AIN%2BPvxvs/T7L8UroY/MGj/h0T8PIv%2BQf%2B2b%2B0faen2b4tSjH5xGvTf8AhOP%2BChf/AEa/8Gf/AA/Grf8AzL0f8Jx/wUL/AOjX/gz/AOH41b/5l6P7Cyj/AJ8r75L8poP%2BIqeIj3zKb9Y0Zf8ApWHkeY/8OmrGL/jx/wCCiv7VVt6CH4wHH62xqn8Ff2Vbz9mT/goX4LW5/aY%2BKfxFXWvgz4y2D4meKhqZ0/ydW8K5%2BzkRp5fmeaN/Xd5UfTbz61/wnH/BQv8A6Nf%2BDP8A4fjVv/mXqh4H8D/tWeMf2rPDnxu%2BN3w4%2BHvhnRvDPw98Q6HDD4V%2BId9rV1d3WpX2iXCMyXGkWKRRomlygsHdi0qALjJG1DKsvw1VVKULSXnP8nNr8Dz804%2B4vzvAzweOxXPTna69nh1ezTXvQw1Oa1S2muzurp%2B60UUV6B8eFFFFABRRRQAV4P8A8E7fC2meGfgr4um04Nu1T48fEq%2BumfHMreM9YU9OwVFH4V7xXyV%2ByV4s/bO0/wCHviiz%2BGPwD%2BGGr6Enxp%2BIv9n6jr3xd1HTbuZf%2BEz1ksZLaLQLlIiG3AATPkAHIJ2hNJtPsXGpUjCUE9JWv52d19z1PrWivGf%2BE4/4KF/9Gv8AwZ/8Pxq3/wAy9H/Ccf8ABQv/AKNf%2BDP/AIfjVv8A5l6ZB7NRXjP/AAnH/BQv/o1/4M/%2BH41b/wCZej/hOP8AgoX/ANGv/Bn/AMPxq3/zL0AezUV84/BH9o79u348fBjwh8cfCv7KHwktdL8Z%2BF9P13TbbUPjrqizwwXdtHcRpIE8MMocLIAwVmGQcEjmuo/4Tj/goX/0a/8ABn/w/Grf/MvQB7NRXjP/AAnH/BQv/o1/4M/%2BH41b/wCZej/hOP8AgoX/ANGv/Bn/AMPxq3/zL0AezUV84/G79o79u34D/Bjxf8cfFX7KHwkutL8GeF9Q13UrbT/jrqjTzQWltJcSJGH8MKpcrGQoZlGSMkDmuo/4Tj/goX/0a/8ABn/w/Grf/MvQB7NRXjP/AAnH/BQv/o1/4M/%2BH41b/wCZej/hOP8AgoX/ANGv/Bn/AMPxq3/zL0AezUV4z/wnH/BQv/o1/wCDP/h%2BNW/%2BZeuX%2BLv7R37dvwa8KWni/wAR/sofCS5t7zxRomhRx2Xx11RnE%2Bqara6ZA53eGFGxZruNnOchFYgMcKQD6Oorxn/hOP8AgoX/ANGv/Bn/AMPxq3/zL0f8Jx/wUL/6Nf8Agz/4fjVv/mXoA9morxn/AITj/goX/wBGv/Bn/wAPxq3/AMy9H/Ccf8FC/wDo1/4M/wDh%2BNW/%2BZegD2aivnHx9%2B0d%2B3b8O/FfgjwhrH7KHwkmuPHniiXQtKktvjrqhSCePStQ1MvLu8MAhPJ06ZQVDHe6DGCWXqP%2BE4/4KF/9Gv8AwZ/8Pxq3/wAy9AHs1FeM/wDCcf8ABQv/AKNf%2BDP/AIfjVv8A5l6P%2BE4/4KF/9Gv/AAZ/8Pxq3/zL0AezUV4z/wAJx/wUL/6Nf%2BDP/h%2BNW/8AmXrl9W/aO/bt0f4z6B8Drj9lD4SNqniLwvq%2Bu2dynx11TyI4NOudNt5kcnwxuDs2qQFQFIISTJUhQwB9HUV4z/wnH/BQv/o1/wCDP/h%2BNW/%2BZej/AITj/goX/wBGv/Bn/wAPxq3/AMy9AHs1FeM/8Jx/wUL/AOjX/gz/AOH41b/5l6P%2BE4/4KF/9Gv8AwZ/8Pxq3/wAy9AHs1FfOOk/tHft26x8Z9f8Agdb/ALKHwkXVPDvhfSNdvLl/jrqnkSQajc6lbwohHhjcXVtLnLAqAA8eCxLBeo/4Tj/goX/0a/8ABn/w/Grf/MvQB7NRXjP/AAnH/BQv/o1/4M/%2BH41b/wCZej/hOP8AgoX/ANGv/Bn/AMPxq3/zL0AezUV4z/wnH/BQv/o1/wCDP/h%2BNW/%2BZeuX8A/tHft2/ETxX438IaP%2Byh8JIbjwH4oi0LVZLn466oEnnk0rT9TDxbfDBJTydRhUlgp3o4xgBmAPo6ivGf8AhOP%2BChf/AEa/8Gf/AA/Grf8AzL0f8Jx/wUL/AOjX/gz/AOH41b/5l6APZq8Z/Zf/AOS3/tHf9lmsf/UK8L0f8Jx/wUL/AOjX/gz/AOH41b/5l6t/srfDn40%2BD9Y%2BKHjv46aB4X0nVPH3xCi1yz0rwn4ludWt7W1i0HR9MVXuLiys2aRpNOlcqItoWRBuY5wAet0UUUAFFFFABRRRQAUUUUAFFFFABRRRQAUUUUAFFFFABRRRQAUUUUAFFFFABXyv%2B09%2B1p8XPhh8Y/FmteAfDvg%2BTwx8H/D/AIfvfGp1rSLibVdUt9Xv5UuYLC4juI0svItrOO4zJFOLmQpGRD5fmn6orxn4z/sQ/Dj43fFI/EzXPHPirS4tRtdItfF/hrRrq1TTvFMGl3sl7YxXyy28kwWOaaXP2eWAyxyGKYyxhUAB7NRRRQAUUUUAfMfhz9pX4mQ/t/8Aij4P/EbWPD3hPw2viC00TwZFqPwi1lLrxjANAg1HEHiNrtdOaWO7udQAtBC8nl2kwCgs0i/TleV%2BLP2WoPH/AMZNI%2BKfj343%2BNdX0rw9rsetaB4AuDpkWjWOoR27wRzhobJL2XZ5kkipNdSRiR92z5EC%2BqUAFFFFAHi//BQX4u/HD9n79kfxp8evgFe%2BFI9Y8E6Fd65dQeMNFub62u7S1tpZnt0S2urZkldkRRIXKoCxKPwK8/8AHn7Wnxc8F/HjxbqfhTw74Qi%2BHnhD4x%2BEfh94ys5tIuDreq6rrsGipHqEN2lwsMccH9uaTGYpLeV5EhnxLHtQV7D%2B1j%2BzjZftafAjXv2fda%2BKvinwjpPieylsdcv/AAgunfa7mylieKa23X9pdRojq/LIiyAqNrrzni4P2AfB0/xFs/iL4q%2BOPj7XWOs6TrnibRtQl0qKx8T65piRpY6tex21hEy3EQgtMLbNBAxsbYvExjyQD3uiiigArxf9sn4u/HD4JWvgHxj8LL3wp/Y2ofEzw54e8X2PiDRbm5urm11XWbHTQbOWG6hS2kjW5lk3yJOpKIuzkmvaK8q/au/Zbf8Aaq8N6F4Xn%2BPvjfwNb6F4ksNdRvBcOjs93e2N5BeWbSnUtPvBtiuLeNwsYQNysm9TtAB5x%2Bzz%2B0r8TNb/AGqvFvwR%2BKGr%2BHvCenQ%2BKdbt/BPhKT4Razplzr1tC6Sm/t9auLv7BqDsZJpZYraAvyXYrhifpyvJdJ/ZRD/GTRfjL8R/2gPHfjWbwvd3l34T0LxCNJhsNHurm3ktZLiJbDT7aWV/s808K%2BfJKqLO%2B0AkEetUAFFFFAHh/wC3d8XPjx%2Bz98GtX%2BOvwo8Y%2BBbHT/C2i3N5e6L4s8M3t/c%2BIb3KLZ6ZZyW17B9nmuJSLdG8q6ZpZ4gsLH5W8/8Agj%2B198Z9c%2BJfgr%2B1vBnhLSPhp43%2BJ/ij4beFfDWnaXNHq%2BiX%2BgQ6tvnnuRcNbzQSN4f1NFhjt4jGrWx8yTLAen/tK/sgwftJePPBHxAm/aB8d%2BELnwDd3N7otj4Yi0aezkvZUEa3k0Gp6deI88MfmLDIApjE8pHzNkVfAf7DXw98B/GW3%2BLsPxF8XalBp2u6nr2ieENSubL%2BydK1vUY3j1DVIEitUn8%2BcT3ZZXmeFGvrkxxR%2BZwAe10UUUAFfL/7XPx4/aX%2BC3xE0/wppUPgDxro/jmHWrbRfhzF4PvpNYS1tNDuruS/uJxevFdWwuore2khFrED9vhQTGRkST6grw6b9ia4j/aP8V/tNaJ%2B1X8S9O1fxbpsOnXOlwweH57TT7OGBo4baza50mW5t4lld7rYs2153LuHB20AM/YQ/aD8b/Hv4e3l18V/H2jX3i7ThZtr/huy%2BF2r%2BEbzQHntllEFzZavdT3Dgtv8u4ASORUO0NtJr3SvN/gd%2Bzdp3wZ8T%2BJPiHrHxS8U%2BOPFXiuKxt9Y8T%2BLmsFuXtLMTfZbVItPtbW2jija5uXG2EMzXEhZmyMekUAFFFFAHxz/AMFBP24/ip%2Bxh45/tPXNF0Dxj4RfRtR1u38Ky/DnU7KW3TTdGvtSST/hIprp9Mnu/temjZYrAl0I5llA2wtI3r37NHxd%2BOerfFTxv%2Bz1%2B0dc%2BFNQ8T%2BEdJ0PWo9a8FaRc2Fjc2OqC8jSIwXNzcussVxp12pfzcSIYm2RklRW%2BOv7CXgj9pzWrq1%2BP/xb8a%2BKPBdzJcSL8MryTTYdFikmsZrJm329lHfSAR3EzBJbp0Dvu2/IgXp/2fP2ZtI%2BAd5r3iK7%2BKHizxx4j8SGzj1bxV41uLN76W2tIjFa2o%2Bx21vCsUQeVhiPezzyu7Ozk0AelUUUUAFfEf7U/wC2V%2B1n8G/jV4g%2BFHg7w34c8a6nYaLca74YCfA/xBHJooGo6ZaoYW%2B3OPE0gsdUuPO/svynhaErKIxMI6%2B3K8P179i3U/Evj0/E7Wv2ufijNrenwXkXg28KaAB4VW6mhkn%2ByRjSdk7NHAtvuvVumWJnClXdnIB1X7LHxYf4yfCODxZe/EzRvFV/DqN1ZapfaN4MvvDotriKVla1m03ULie6s54xhXjmcPn5tqhgK9GrhvgH8BfD3wA8M6no2leKdb8Qajr%2BvXGt%2BJPEniOaBr3Vb%2BYIjTyi3ihgTEcUMSpDFHGqRIAowSe5oAKKKKACiiigAooooAKKKKAKPijxDYeEvDWo%2BK9VDm10yxmu7kRLlvLjQu2B3OFNfOf7E37Sfxr8f%2BKdH8GfGzw94Msx46%2BFtl8RvDMPgzSri0GmR3lwTd6fdma4lF3NG9zbP9sQQCdpZiYI9oL/AEtd2lrf2stje26TQzRtHNFKoZXUjBUg8EEcYryH9mb9ivwF%2BzBqr6voHxB8W%2BJZbbwxY%2BGfDo8WXtrMNA0KzeR7fTbU29vCWjUyfNLOZriQRxeZM/lrgA9iooooAK4X9qDx58RfhZ%2BzR8RPid8H/Ci694t8OeBdX1TwtobWM10NR1G3s5Zba2MMDLLMJJURPLjYO27CkEg13VZ3i3RL/wAS%2BGNQ8P6X4r1HQrm9tJIbfWtIWBrqxdlIE0QuIpYi6nkCSN0yPmVhkEA8u/Yp%2BLU/xQ%2BGd9Zat8QvD%2Bs6n4d1VdOvNM0T4Yan4OfQ0FtBJFZ3Glapcz3MLhHEiu3lo8UsWxMDe/sVeefAf9nbSfgdeeJfEdz8RPEnjHxJ4v1GG88ReKfFb2Yu7ow26W8EQjsba2tooo40AVY4UyWdmLMzMfQ6ACiiigD5c/ao/ax%2BKH7OHxe8cWXxK0bwl4i%2BF9h%2Bzv4v8e22hW%2BiXCaq7aINLWe2uLmS5e3minW%2BnAQWyFQiZd8sK7f9mf4v/HzVPi54y/Z1/aWfwleeKPDHhjw94lj1XwVpNzY2Ullqz6lbrbGG5ublzLDcaRdgyiQLIjxN5cZ3LUHxj/YV8O/HT46t8ZfHnx28cy6bN4K1PwjffD2GDRf7Eu9G1Jbb7faSF9Na9Ina0gdnF0HUoQjIjMh6T9nf9l3Q/wBn2%2B1rxHP8UPFvjfxDr9rYWV/4n8bXNpJemwsUkWzsx9ktrePyojPcOCUMjvcyu7uzZoA9PooooAK%2BRPjX%2B0v%2B1t4M139oDwJb%2BFfBniy98BeH/CniT4bWOk/D/U7%2BdY9R1XUoQl5axXjy6jPAumxzqbYW5LkhV%2BVWr67rwuX9ijxDF8dPG3x/0L9tD4raVq3jfSLHTLmxsrPww1ppttZXFzPZpbCXRXk/dG8ulBmeUus5EnmFUKgHV/sqfFub4y/CkeJtR%2BJ2jeKdRtdVubHVrrR/BF/4bNncRN81rPpmo3E91aTopXckzBiGVtqqwr0muE%2BAfwD0D4A6FrNjp/i3XPEeq%2BJvEEuueJ/E3iSW3a91W/khhg82QW0MMEYWC3t4VSKKNFSFAFzknu6ACiiigD42/aW/a7/aW/Z4%2BM0Hw21lPhn41vtbggm8Iw6d4WvbSXwXeal4h0zw9pE2pyvfTC6inbV5wWiWzkcWN0sYZfMMXuP7Kvxf%2BJHxGHj/AOH3xiOiT%2BKvhp48bw1rOq%2BGtOms7DU/M0vTtWt7iG3mnnkt82uqW6PG00uJI5MMQRjhbb/gmr4Sa6%2BIb%2BIf2l/idrNv8SdeOuaxb6kdC8yz1KK4hn0%2B5trqLS0ulNg9vbi0jeaSKJYUDI/OfWPgH8BdD%2BAfh7VtNsvF%2BueJNW8Ra9NrXifxR4le2N/q99JHFD50wtYIIF2QQW8CJFFGixwRqF4JIB3VFFFADLn7T9mk%2Bx7PO2HyvNzt3Y4zjnGa%2BIPit%2B1z%2B2n8NPiJrnw2t7bwH4z17wxe%2BGrfVvHXgj4K6/q0fhy31Zrx72wl0qz1Ke7uZo4bKxuiYp0/d3ULSwIDE0n29dwyXFrLbw3UkDyRsqzxBS8ZIwGXcCuR1GQR6g189/Bj9gLxB8BPhtcfDT4d/t1fGKKO61Z9Tm1m8svCc%2BoS3cryyXM80z6EftMk7y7pJJxI%2BY02FAMEA9Z%2BAnxDsvit8HfD/wAQrD4gaN4qTU9PEj6/4f0mawtLuQErIUtZ5ppbYq6sjQySO8bKysdykDr65L4F/Bfwl%2Bz78L9O%2BFPgq5v7iysJbq4mvtVuRNdX13dXMt1dXUzhVDSzXE80r7VVd0h2qq4UdbQAVR8Tw%2BJLnw3qFv4N1OxstXkspV0u81Owe6toLgoRHJLDHLE00atgsiyRlgCA6k7herN8Y6Df%2BKPC1/4d0vxbqWg3N5avFBrWjiA3Vi5HE0QuIpYi6nkCSN0OPmVhkUAfD3w3/bs/a1%2BMHxT1v4JfCzTfh8njPTbXXb6Txn4r%2BF2taGuqaZpFrosqWMuiXl8moafK934h2JNPM8flQyXCQus6A/Y3wC%2BLWm/Hz4E%2BCvjro2my2dn418Jabr1pZzPueCK8tY7hY2IAyVEgBPqK8W1f/gmR4H1rXL74i3f7SnxTT4gasl5a618Sba90iHVr/TLq2tbabTCiaaLOG2KWVow8i2ilWSBZVlDlmP0H4L8H%2BGvh54O0nwB4M0mLT9H0PTINP0mwhzstraGNY4o1zzhUVVH0oA06KKKAOX%2BNOo%2BONG%2BFuta38OfENjperWFmbqG%2B1Dwfe%2BIESOMh5QNOsZ4Lm8kaJXVIoZA5dlwrn5G%2BLfhL/wAFEfj94k8aaHqfje48I%2BBPBmpTzr4g8cXnwM8RTW2sX8Ov3WkIlzKt9GnhmeS1tLX9xqjSSwPKsb52BK%2B2/iZ4M13x74Sm8OeG/ilr/g28kljeLX/DMVi93BtYEqq39tcwMGAKkPE3BOMHBHit1/wTm8Kah4PuPhtq37SHxNu/DGuahNf%2BPNAmuNHEXjC7nvGuria%2BlXTRcReaWWFo7OW1iEMSRqijduAPomiiigAooooAKKKKACiiigAooooAKKKKACiiigAooooAKKKKACiiigAooooAKKKKACiiigAooooAKKKKACiiigAooooAKKKKACiiigAooooAKKKKACiiigAooooAKKKKACiiigAooooAKKKKACiiigAooooAKKKKACiiigAooooAKKKKACiiigAooooAKKKKACiiigAooooAKKKKACiiigAooooAKKKKACiiigAooooAKKKKACiiigAooooAKKKKACiiigAooooAKKKKACiiigAooooAKKKKACiiigAooooAKKKKACiiigAooooAKKKKACiiigD/2Q%3D%3D\">"
            ]
          },
          "metadata": {
            "tags": []
          }
        }
      ]
    },
    {
      "metadata": {
        "id": "G0yoxT1nk1V0",
        "colab_type": "text"
      },
      "cell_type": "markdown",
      "source": [
        "# Submit the MLP with 2 hidden layers\n",
        "Run these cells after training the MLP with 2 hidden layers"
      ]
    },
    {
      "metadata": {
        "id": "47aGuMzJk1V1",
        "colab_type": "code",
        "colab": {}
      },
      "cell_type": "code",
      "source": [
        "## GRADED PART, DO NOT CHANGE!\n",
        "# Validation loss for MLP\n",
        "grader.set_answer(\"i8bgs\", np.mean(s.run(loss, {input_X: X_val_flat, input_y: y_val_oh})))\n",
        "# Validation accuracy for MLP\n",
        "grader.set_answer(\"rE763\", accuracy_score(y_val, s.run(classes, {input_X: X_val_flat})))"
      ],
      "execution_count": 0,
      "outputs": []
    },
    {
      "metadata": {
        "id": "GdEsR960k1V4",
        "colab_type": "code",
        "outputId": "c5978a07-ecfc-48a8-81c4-fd454c5a9338",
        "colab": {
          "base_uri": "https://localhost:8080/",
          "height": 35
        }
      },
      "cell_type": "code",
      "source": [
        "# you can make submission with answers so far to check yourself at this stage\n",
        "grader.submit(COURSERA_EMAIL, COURSERA_TOKEN)"
      ],
      "execution_count": 72,
      "outputs": [
        {
          "output_type": "stream",
          "text": [
            "Submitted to Coursera platform. See results on assignment page!\n"
          ],
          "name": "stdout"
        }
      ]
    },
    {
      "metadata": {
        "id": "xfzG3m8bk1V7",
        "colab_type": "code",
        "colab": {
          "base_uri": "https://localhost:8080/",
          "height": 35
        },
        "outputId": "7a67ce6f-7639-48f4-f62d-ce4f9a3ef97c"
      },
      "cell_type": "code",
      "source": [
        "np.mean(s.run(loss, {input_X: X_val_flat, input_y: y_val_oh}))"
      ],
      "execution_count": 69,
      "outputs": [
        {
          "output_type": "execute_result",
          "data": {
            "text/plain": [
              "0.08373899"
            ]
          },
          "metadata": {
            "tags": []
          },
          "execution_count": 69
        }
      ]
    },
    {
      "metadata": {
        "id": "ON_RjzBvDVHY",
        "colab_type": "code",
        "colab": {}
      },
      "cell_type": "code",
      "source": [
        ""
      ],
      "execution_count": 0,
      "outputs": []
    }
  ]
}